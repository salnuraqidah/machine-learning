{
 "cells": [
  {
   "cell_type": "markdown",
   "metadata": {},
   "source": [
    "# EDA Hotel Booking Demand"
   ]
  },
  {
   "cell_type": "markdown",
   "metadata": {},
   "source": [
    "![](hotel.jpeg)"
   ]
  },
  {
   "cell_type": "markdown",
   "metadata": {},
   "source": [
    "Kumpulan data ini berisi informasi pemesanan untuk hotel kota dan hotel resor, dan mencakup informasi seperti kapan pemesanan dibuat, lama menginap, jumlah orang dewasa, anak-anak, dan/atau bayi, dan jumlah tempat parkir yang tersedia, dan lain lain. \n",
    "\n",
    "Semua informasi pengenal pribadi telah dihapus dari data.\n"
   ]
  },
  {
   "cell_type": "markdown",
   "metadata": {},
   "source": [
    "source kaggle : https://www.kaggle.com/datasets/jessemostipak/hotel-booking-demand"
   ]
  },
  {
   "cell_type": "code",
   "execution_count": 10,
   "metadata": {},
   "outputs": [],
   "source": [
    "import pandas as pd\n",
    "import numpy as np\n",
    "import matplotlib.pyplot as plt\n",
    "import seaborn as sns"
   ]
  },
  {
   "cell_type": "code",
   "execution_count": 4,
   "metadata": {},
   "outputs": [],
   "source": [
    "df = pd.read_csv('hotel.csv')"
   ]
  },
  {
   "cell_type": "code",
   "execution_count": 5,
   "metadata": {},
   "outputs": [
    {
     "data": {
      "text/html": [
       "<div>\n",
       "<style scoped>\n",
       "    .dataframe tbody tr th:only-of-type {\n",
       "        vertical-align: middle;\n",
       "    }\n",
       "\n",
       "    .dataframe tbody tr th {\n",
       "        vertical-align: top;\n",
       "    }\n",
       "\n",
       "    .dataframe thead th {\n",
       "        text-align: right;\n",
       "    }\n",
       "</style>\n",
       "<table border=\"1\" class=\"dataframe\">\n",
       "  <thead>\n",
       "    <tr style=\"text-align: right;\">\n",
       "      <th></th>\n",
       "      <th>hotel</th>\n",
       "      <th>is_canceled</th>\n",
       "      <th>lead_time</th>\n",
       "      <th>arrival_date_year</th>\n",
       "      <th>arrival_date_month</th>\n",
       "      <th>arrival_date_week_number</th>\n",
       "      <th>arrival_date_day_of_month</th>\n",
       "      <th>stays_in_weekend_nights</th>\n",
       "      <th>stays_in_week_nights</th>\n",
       "      <th>adults</th>\n",
       "      <th>...</th>\n",
       "      <th>deposit_type</th>\n",
       "      <th>agent</th>\n",
       "      <th>company</th>\n",
       "      <th>days_in_waiting_list</th>\n",
       "      <th>customer_type</th>\n",
       "      <th>adr</th>\n",
       "      <th>required_car_parking_spaces</th>\n",
       "      <th>total_of_special_requests</th>\n",
       "      <th>reservation_status</th>\n",
       "      <th>reservation_status_date</th>\n",
       "    </tr>\n",
       "  </thead>\n",
       "  <tbody>\n",
       "    <tr>\n",
       "      <th>0</th>\n",
       "      <td>Resort Hotel</td>\n",
       "      <td>0</td>\n",
       "      <td>342</td>\n",
       "      <td>2015</td>\n",
       "      <td>July</td>\n",
       "      <td>27</td>\n",
       "      <td>1</td>\n",
       "      <td>0</td>\n",
       "      <td>0</td>\n",
       "      <td>2</td>\n",
       "      <td>...</td>\n",
       "      <td>No Deposit</td>\n",
       "      <td>NaN</td>\n",
       "      <td>NaN</td>\n",
       "      <td>0</td>\n",
       "      <td>Transient</td>\n",
       "      <td>0.0</td>\n",
       "      <td>0</td>\n",
       "      <td>0</td>\n",
       "      <td>Check-Out</td>\n",
       "      <td>2015-07-01</td>\n",
       "    </tr>\n",
       "    <tr>\n",
       "      <th>1</th>\n",
       "      <td>Resort Hotel</td>\n",
       "      <td>0</td>\n",
       "      <td>737</td>\n",
       "      <td>2015</td>\n",
       "      <td>July</td>\n",
       "      <td>27</td>\n",
       "      <td>1</td>\n",
       "      <td>0</td>\n",
       "      <td>0</td>\n",
       "      <td>2</td>\n",
       "      <td>...</td>\n",
       "      <td>No Deposit</td>\n",
       "      <td>NaN</td>\n",
       "      <td>NaN</td>\n",
       "      <td>0</td>\n",
       "      <td>Transient</td>\n",
       "      <td>0.0</td>\n",
       "      <td>0</td>\n",
       "      <td>0</td>\n",
       "      <td>Check-Out</td>\n",
       "      <td>2015-07-01</td>\n",
       "    </tr>\n",
       "    <tr>\n",
       "      <th>2</th>\n",
       "      <td>Resort Hotel</td>\n",
       "      <td>0</td>\n",
       "      <td>7</td>\n",
       "      <td>2015</td>\n",
       "      <td>July</td>\n",
       "      <td>27</td>\n",
       "      <td>1</td>\n",
       "      <td>0</td>\n",
       "      <td>1</td>\n",
       "      <td>1</td>\n",
       "      <td>...</td>\n",
       "      <td>No Deposit</td>\n",
       "      <td>NaN</td>\n",
       "      <td>NaN</td>\n",
       "      <td>0</td>\n",
       "      <td>Transient</td>\n",
       "      <td>75.0</td>\n",
       "      <td>0</td>\n",
       "      <td>0</td>\n",
       "      <td>Check-Out</td>\n",
       "      <td>2015-07-02</td>\n",
       "    </tr>\n",
       "    <tr>\n",
       "      <th>3</th>\n",
       "      <td>Resort Hotel</td>\n",
       "      <td>0</td>\n",
       "      <td>13</td>\n",
       "      <td>2015</td>\n",
       "      <td>July</td>\n",
       "      <td>27</td>\n",
       "      <td>1</td>\n",
       "      <td>0</td>\n",
       "      <td>1</td>\n",
       "      <td>1</td>\n",
       "      <td>...</td>\n",
       "      <td>No Deposit</td>\n",
       "      <td>304.0</td>\n",
       "      <td>NaN</td>\n",
       "      <td>0</td>\n",
       "      <td>Transient</td>\n",
       "      <td>75.0</td>\n",
       "      <td>0</td>\n",
       "      <td>0</td>\n",
       "      <td>Check-Out</td>\n",
       "      <td>2015-07-02</td>\n",
       "    </tr>\n",
       "    <tr>\n",
       "      <th>4</th>\n",
       "      <td>Resort Hotel</td>\n",
       "      <td>0</td>\n",
       "      <td>14</td>\n",
       "      <td>2015</td>\n",
       "      <td>July</td>\n",
       "      <td>27</td>\n",
       "      <td>1</td>\n",
       "      <td>0</td>\n",
       "      <td>2</td>\n",
       "      <td>2</td>\n",
       "      <td>...</td>\n",
       "      <td>No Deposit</td>\n",
       "      <td>240.0</td>\n",
       "      <td>NaN</td>\n",
       "      <td>0</td>\n",
       "      <td>Transient</td>\n",
       "      <td>98.0</td>\n",
       "      <td>0</td>\n",
       "      <td>1</td>\n",
       "      <td>Check-Out</td>\n",
       "      <td>2015-07-03</td>\n",
       "    </tr>\n",
       "  </tbody>\n",
       "</table>\n",
       "<p>5 rows × 32 columns</p>\n",
       "</div>"
      ],
      "text/plain": [
       "          hotel  is_canceled  lead_time  arrival_date_year arrival_date_month  \\\n",
       "0  Resort Hotel            0        342               2015               July   \n",
       "1  Resort Hotel            0        737               2015               July   \n",
       "2  Resort Hotel            0          7               2015               July   \n",
       "3  Resort Hotel            0         13               2015               July   \n",
       "4  Resort Hotel            0         14               2015               July   \n",
       "\n",
       "   arrival_date_week_number  arrival_date_day_of_month  \\\n",
       "0                        27                          1   \n",
       "1                        27                          1   \n",
       "2                        27                          1   \n",
       "3                        27                          1   \n",
       "4                        27                          1   \n",
       "\n",
       "   stays_in_weekend_nights  stays_in_week_nights  adults  ...  deposit_type  \\\n",
       "0                        0                     0       2  ...    No Deposit   \n",
       "1                        0                     0       2  ...    No Deposit   \n",
       "2                        0                     1       1  ...    No Deposit   \n",
       "3                        0                     1       1  ...    No Deposit   \n",
       "4                        0                     2       2  ...    No Deposit   \n",
       "\n",
       "   agent company days_in_waiting_list customer_type   adr  \\\n",
       "0    NaN     NaN                    0     Transient   0.0   \n",
       "1    NaN     NaN                    0     Transient   0.0   \n",
       "2    NaN     NaN                    0     Transient  75.0   \n",
       "3  304.0     NaN                    0     Transient  75.0   \n",
       "4  240.0     NaN                    0     Transient  98.0   \n",
       "\n",
       "   required_car_parking_spaces  total_of_special_requests  reservation_status  \\\n",
       "0                            0                          0           Check-Out   \n",
       "1                            0                          0           Check-Out   \n",
       "2                            0                          0           Check-Out   \n",
       "3                            0                          0           Check-Out   \n",
       "4                            0                          1           Check-Out   \n",
       "\n",
       "  reservation_status_date  \n",
       "0              2015-07-01  \n",
       "1              2015-07-01  \n",
       "2              2015-07-02  \n",
       "3              2015-07-02  \n",
       "4              2015-07-03  \n",
       "\n",
       "[5 rows x 32 columns]"
      ]
     },
     "execution_count": 5,
     "metadata": {},
     "output_type": "execute_result"
    }
   ],
   "source": [
    "df.head()"
   ]
  },
  {
   "cell_type": "markdown",
   "metadata": {},
   "source": [
    "## Fitur Data\n",
    "0. Hotel : Jenis Hotel (City Hotel, Resort hotel)\n",
    "1. is_canceled : 1 (batal booking), 0 (tidak dibatalkan)\n",
    "2. lead_time : jarak waktu (hari) antara tanggal pemesanan dengan tgl kedatangan\n",
    "3. arrival_date_year : tahun tamu datang ke hotel\n",
    "4. arrival_date_month : bulan tamu datang ke hotel\n",
    "5. arrival_date_week_number : nomor Minggu tahun untuk tanggal kedatangan\n",
    "6. arrival_date_day_of_month : Hari tanggal kedatangan\n",
    "7. stays_in_weekend_nights : Jumlah malam tamu menginap diakhir pekan\n",
    "8. stays_in_week_nights : Jumlah malam (Senin sampai Jumat) tamu menginap atau memesan untuk menginap di hotel\n",
    "9. adults : Jumlah tamu orang dewasa\n",
    "10. children : Jumlah tamu anak-anak\n",
    "11. babies : Jumlah tamu bayi\n",
    "12. meal : tipe paket makan tamu\n",
    "13. country : asal negara tamu \n",
    "14. market_segment : jenis pemasaran hotel, “TA” (Travel Agents) dan “TO” (Tour Operators)\n",
    "15. distribution_channel : Booking distribution channel\n",
    "16. is_repeated_guest : pemesanan berasal dari tamu yang berulang (1) atau bukan (0)\n",
    "17. previous_cancellations : Jumlah pemesanan sebelumnya yang dibatalkan oleh pelanggan sebelum pemesanan saat ini\n",
    "18. previous_bookings_not_canceled : Jumlah pemesanan sebelumnya yang tidak dibatalkan oleh pelanggan sebelum pemesanan saat ini\n",
    "19. reserved_room_type : type kamar yang dipesan\n",
    "20. assigned_room_type : type kamar yang digunakan\n",
    "21. booking_changes : perubahan yang dilakukan pada pemesanan dari saat pemesanan dimasukkan pada PMS hingga saat check-in atau pembatalan\n",
    "22. deposit_type : tipe deposit / uang muka\n",
    "23. agent : ID agen travel yang melakukan pemesanan\n",
    "24. company : ID perusahaan/badan yang melakukan pemesanan atau bertanggung jawab untuk membayar pemesanan\n",
    "25. days_in_waiting_list : Jumlah hari pemesanan dalam daftar tunggu sebelum dikonfirmasi ke pelanggan\n",
    "26. customer_type : type customer\n",
    "27. adr : Average Daily Rate , rata rata harga kamar\n",
    "28. required_car_parking_spaces : Jumlah ruang parkir mobil yang dibutuhkan oleh pelanggan\n",
    "29. total_of_special_requests : Jumlah permintaan khusus yang dibuat oleh pelanggan (misalnya bad twin atau lantai atas)\n",
    "30. reservation_status : status akhir reservasi\n",
    "31. reservation_status_date : tanggal status akhir reservasi ditetapkan"
   ]
  },
  {
   "cell_type": "code",
   "execution_count": 6,
   "metadata": {},
   "outputs": [
    {
     "data": {
      "text/html": [
       "<div>\n",
       "<style scoped>\n",
       "    .dataframe tbody tr th:only-of-type {\n",
       "        vertical-align: middle;\n",
       "    }\n",
       "\n",
       "    .dataframe tbody tr th {\n",
       "        vertical-align: top;\n",
       "    }\n",
       "\n",
       "    .dataframe thead th {\n",
       "        text-align: right;\n",
       "    }\n",
       "</style>\n",
       "<table border=\"1\" class=\"dataframe\">\n",
       "  <thead>\n",
       "    <tr style=\"text-align: right;\">\n",
       "      <th></th>\n",
       "      <th>is_canceled</th>\n",
       "      <th>lead_time</th>\n",
       "      <th>arrival_date_year</th>\n",
       "      <th>arrival_date_week_number</th>\n",
       "      <th>arrival_date_day_of_month</th>\n",
       "      <th>stays_in_weekend_nights</th>\n",
       "      <th>stays_in_week_nights</th>\n",
       "      <th>adults</th>\n",
       "      <th>children</th>\n",
       "      <th>babies</th>\n",
       "      <th>is_repeated_guest</th>\n",
       "      <th>previous_cancellations</th>\n",
       "      <th>previous_bookings_not_canceled</th>\n",
       "      <th>booking_changes</th>\n",
       "      <th>agent</th>\n",
       "      <th>company</th>\n",
       "      <th>days_in_waiting_list</th>\n",
       "      <th>adr</th>\n",
       "      <th>required_car_parking_spaces</th>\n",
       "      <th>total_of_special_requests</th>\n",
       "    </tr>\n",
       "  </thead>\n",
       "  <tbody>\n",
       "    <tr>\n",
       "      <th>count</th>\n",
       "      <td>119390.000000</td>\n",
       "      <td>119390.000000</td>\n",
       "      <td>119390.000000</td>\n",
       "      <td>119390.000000</td>\n",
       "      <td>119390.000000</td>\n",
       "      <td>119390.000000</td>\n",
       "      <td>119390.000000</td>\n",
       "      <td>119390.000000</td>\n",
       "      <td>119386.000000</td>\n",
       "      <td>119390.000000</td>\n",
       "      <td>119390.000000</td>\n",
       "      <td>119390.000000</td>\n",
       "      <td>119390.000000</td>\n",
       "      <td>119390.000000</td>\n",
       "      <td>103050.000000</td>\n",
       "      <td>6797.000000</td>\n",
       "      <td>119390.000000</td>\n",
       "      <td>119390.000000</td>\n",
       "      <td>119390.000000</td>\n",
       "      <td>119390.000000</td>\n",
       "    </tr>\n",
       "    <tr>\n",
       "      <th>mean</th>\n",
       "      <td>0.370416</td>\n",
       "      <td>104.011416</td>\n",
       "      <td>2016.156554</td>\n",
       "      <td>27.165173</td>\n",
       "      <td>15.798241</td>\n",
       "      <td>0.927599</td>\n",
       "      <td>2.500302</td>\n",
       "      <td>1.856403</td>\n",
       "      <td>0.103890</td>\n",
       "      <td>0.007949</td>\n",
       "      <td>0.031912</td>\n",
       "      <td>0.087118</td>\n",
       "      <td>0.137097</td>\n",
       "      <td>0.221124</td>\n",
       "      <td>86.693382</td>\n",
       "      <td>189.266735</td>\n",
       "      <td>2.321149</td>\n",
       "      <td>101.831122</td>\n",
       "      <td>0.062518</td>\n",
       "      <td>0.571363</td>\n",
       "    </tr>\n",
       "    <tr>\n",
       "      <th>std</th>\n",
       "      <td>0.482918</td>\n",
       "      <td>106.863097</td>\n",
       "      <td>0.707476</td>\n",
       "      <td>13.605138</td>\n",
       "      <td>8.780829</td>\n",
       "      <td>0.998613</td>\n",
       "      <td>1.908286</td>\n",
       "      <td>0.579261</td>\n",
       "      <td>0.398561</td>\n",
       "      <td>0.097436</td>\n",
       "      <td>0.175767</td>\n",
       "      <td>0.844336</td>\n",
       "      <td>1.497437</td>\n",
       "      <td>0.652306</td>\n",
       "      <td>110.774548</td>\n",
       "      <td>131.655015</td>\n",
       "      <td>17.594721</td>\n",
       "      <td>50.535790</td>\n",
       "      <td>0.245291</td>\n",
       "      <td>0.792798</td>\n",
       "    </tr>\n",
       "    <tr>\n",
       "      <th>min</th>\n",
       "      <td>0.000000</td>\n",
       "      <td>0.000000</td>\n",
       "      <td>2015.000000</td>\n",
       "      <td>1.000000</td>\n",
       "      <td>1.000000</td>\n",
       "      <td>0.000000</td>\n",
       "      <td>0.000000</td>\n",
       "      <td>0.000000</td>\n",
       "      <td>0.000000</td>\n",
       "      <td>0.000000</td>\n",
       "      <td>0.000000</td>\n",
       "      <td>0.000000</td>\n",
       "      <td>0.000000</td>\n",
       "      <td>0.000000</td>\n",
       "      <td>1.000000</td>\n",
       "      <td>6.000000</td>\n",
       "      <td>0.000000</td>\n",
       "      <td>-6.380000</td>\n",
       "      <td>0.000000</td>\n",
       "      <td>0.000000</td>\n",
       "    </tr>\n",
       "    <tr>\n",
       "      <th>25%</th>\n",
       "      <td>0.000000</td>\n",
       "      <td>18.000000</td>\n",
       "      <td>2016.000000</td>\n",
       "      <td>16.000000</td>\n",
       "      <td>8.000000</td>\n",
       "      <td>0.000000</td>\n",
       "      <td>1.000000</td>\n",
       "      <td>2.000000</td>\n",
       "      <td>0.000000</td>\n",
       "      <td>0.000000</td>\n",
       "      <td>0.000000</td>\n",
       "      <td>0.000000</td>\n",
       "      <td>0.000000</td>\n",
       "      <td>0.000000</td>\n",
       "      <td>9.000000</td>\n",
       "      <td>62.000000</td>\n",
       "      <td>0.000000</td>\n",
       "      <td>69.290000</td>\n",
       "      <td>0.000000</td>\n",
       "      <td>0.000000</td>\n",
       "    </tr>\n",
       "    <tr>\n",
       "      <th>50%</th>\n",
       "      <td>0.000000</td>\n",
       "      <td>69.000000</td>\n",
       "      <td>2016.000000</td>\n",
       "      <td>28.000000</td>\n",
       "      <td>16.000000</td>\n",
       "      <td>1.000000</td>\n",
       "      <td>2.000000</td>\n",
       "      <td>2.000000</td>\n",
       "      <td>0.000000</td>\n",
       "      <td>0.000000</td>\n",
       "      <td>0.000000</td>\n",
       "      <td>0.000000</td>\n",
       "      <td>0.000000</td>\n",
       "      <td>0.000000</td>\n",
       "      <td>14.000000</td>\n",
       "      <td>179.000000</td>\n",
       "      <td>0.000000</td>\n",
       "      <td>94.575000</td>\n",
       "      <td>0.000000</td>\n",
       "      <td>0.000000</td>\n",
       "    </tr>\n",
       "    <tr>\n",
       "      <th>75%</th>\n",
       "      <td>1.000000</td>\n",
       "      <td>160.000000</td>\n",
       "      <td>2017.000000</td>\n",
       "      <td>38.000000</td>\n",
       "      <td>23.000000</td>\n",
       "      <td>2.000000</td>\n",
       "      <td>3.000000</td>\n",
       "      <td>2.000000</td>\n",
       "      <td>0.000000</td>\n",
       "      <td>0.000000</td>\n",
       "      <td>0.000000</td>\n",
       "      <td>0.000000</td>\n",
       "      <td>0.000000</td>\n",
       "      <td>0.000000</td>\n",
       "      <td>229.000000</td>\n",
       "      <td>270.000000</td>\n",
       "      <td>0.000000</td>\n",
       "      <td>126.000000</td>\n",
       "      <td>0.000000</td>\n",
       "      <td>1.000000</td>\n",
       "    </tr>\n",
       "    <tr>\n",
       "      <th>max</th>\n",
       "      <td>1.000000</td>\n",
       "      <td>737.000000</td>\n",
       "      <td>2017.000000</td>\n",
       "      <td>53.000000</td>\n",
       "      <td>31.000000</td>\n",
       "      <td>19.000000</td>\n",
       "      <td>50.000000</td>\n",
       "      <td>55.000000</td>\n",
       "      <td>10.000000</td>\n",
       "      <td>10.000000</td>\n",
       "      <td>1.000000</td>\n",
       "      <td>26.000000</td>\n",
       "      <td>72.000000</td>\n",
       "      <td>21.000000</td>\n",
       "      <td>535.000000</td>\n",
       "      <td>543.000000</td>\n",
       "      <td>391.000000</td>\n",
       "      <td>5400.000000</td>\n",
       "      <td>8.000000</td>\n",
       "      <td>5.000000</td>\n",
       "    </tr>\n",
       "  </tbody>\n",
       "</table>\n",
       "</div>"
      ],
      "text/plain": [
       "         is_canceled      lead_time  arrival_date_year  \\\n",
       "count  119390.000000  119390.000000      119390.000000   \n",
       "mean        0.370416     104.011416        2016.156554   \n",
       "std         0.482918     106.863097           0.707476   \n",
       "min         0.000000       0.000000        2015.000000   \n",
       "25%         0.000000      18.000000        2016.000000   \n",
       "50%         0.000000      69.000000        2016.000000   \n",
       "75%         1.000000     160.000000        2017.000000   \n",
       "max         1.000000     737.000000        2017.000000   \n",
       "\n",
       "       arrival_date_week_number  arrival_date_day_of_month  \\\n",
       "count             119390.000000              119390.000000   \n",
       "mean                  27.165173                  15.798241   \n",
       "std                   13.605138                   8.780829   \n",
       "min                    1.000000                   1.000000   \n",
       "25%                   16.000000                   8.000000   \n",
       "50%                   28.000000                  16.000000   \n",
       "75%                   38.000000                  23.000000   \n",
       "max                   53.000000                  31.000000   \n",
       "\n",
       "       stays_in_weekend_nights  stays_in_week_nights         adults  \\\n",
       "count            119390.000000         119390.000000  119390.000000   \n",
       "mean                  0.927599              2.500302       1.856403   \n",
       "std                   0.998613              1.908286       0.579261   \n",
       "min                   0.000000              0.000000       0.000000   \n",
       "25%                   0.000000              1.000000       2.000000   \n",
       "50%                   1.000000              2.000000       2.000000   \n",
       "75%                   2.000000              3.000000       2.000000   \n",
       "max                  19.000000             50.000000      55.000000   \n",
       "\n",
       "            children         babies  is_repeated_guest  \\\n",
       "count  119386.000000  119390.000000      119390.000000   \n",
       "mean        0.103890       0.007949           0.031912   \n",
       "std         0.398561       0.097436           0.175767   \n",
       "min         0.000000       0.000000           0.000000   \n",
       "25%         0.000000       0.000000           0.000000   \n",
       "50%         0.000000       0.000000           0.000000   \n",
       "75%         0.000000       0.000000           0.000000   \n",
       "max        10.000000      10.000000           1.000000   \n",
       "\n",
       "       previous_cancellations  previous_bookings_not_canceled  \\\n",
       "count           119390.000000                   119390.000000   \n",
       "mean                 0.087118                        0.137097   \n",
       "std                  0.844336                        1.497437   \n",
       "min                  0.000000                        0.000000   \n",
       "25%                  0.000000                        0.000000   \n",
       "50%                  0.000000                        0.000000   \n",
       "75%                  0.000000                        0.000000   \n",
       "max                 26.000000                       72.000000   \n",
       "\n",
       "       booking_changes          agent      company  days_in_waiting_list  \\\n",
       "count    119390.000000  103050.000000  6797.000000         119390.000000   \n",
       "mean          0.221124      86.693382   189.266735              2.321149   \n",
       "std           0.652306     110.774548   131.655015             17.594721   \n",
       "min           0.000000       1.000000     6.000000              0.000000   \n",
       "25%           0.000000       9.000000    62.000000              0.000000   \n",
       "50%           0.000000      14.000000   179.000000              0.000000   \n",
       "75%           0.000000     229.000000   270.000000              0.000000   \n",
       "max          21.000000     535.000000   543.000000            391.000000   \n",
       "\n",
       "                 adr  required_car_parking_spaces  total_of_special_requests  \n",
       "count  119390.000000                119390.000000              119390.000000  \n",
       "mean      101.831122                     0.062518                   0.571363  \n",
       "std        50.535790                     0.245291                   0.792798  \n",
       "min        -6.380000                     0.000000                   0.000000  \n",
       "25%        69.290000                     0.000000                   0.000000  \n",
       "50%        94.575000                     0.000000                   0.000000  \n",
       "75%       126.000000                     0.000000                   1.000000  \n",
       "max      5400.000000                     8.000000                   5.000000  "
      ]
     },
     "execution_count": 6,
     "metadata": {},
     "output_type": "execute_result"
    }
   ],
   "source": [
    "df.describe()"
   ]
  },
  {
   "cell_type": "code",
   "execution_count": 7,
   "metadata": {},
   "outputs": [
    {
     "name": "stdout",
     "output_type": "stream",
     "text": [
      "<class 'pandas.core.frame.DataFrame'>\n",
      "RangeIndex: 119390 entries, 0 to 119389\n",
      "Data columns (total 32 columns):\n",
      " #   Column                          Non-Null Count   Dtype  \n",
      "---  ------                          --------------   -----  \n",
      " 0   hotel                           119390 non-null  object \n",
      " 1   is_canceled                     119390 non-null  int64  \n",
      " 2   lead_time                       119390 non-null  int64  \n",
      " 3   arrival_date_year               119390 non-null  int64  \n",
      " 4   arrival_date_month              119390 non-null  object \n",
      " 5   arrival_date_week_number        119390 non-null  int64  \n",
      " 6   arrival_date_day_of_month       119390 non-null  int64  \n",
      " 7   stays_in_weekend_nights         119390 non-null  int64  \n",
      " 8   stays_in_week_nights            119390 non-null  int64  \n",
      " 9   adults                          119390 non-null  int64  \n",
      " 10  children                        119386 non-null  float64\n",
      " 11  babies                          119390 non-null  int64  \n",
      " 12  meal                            119390 non-null  object \n",
      " 13  country                         118902 non-null  object \n",
      " 14  market_segment                  119390 non-null  object \n",
      " 15  distribution_channel            119390 non-null  object \n",
      " 16  is_repeated_guest               119390 non-null  int64  \n",
      " 17  previous_cancellations          119390 non-null  int64  \n",
      " 18  previous_bookings_not_canceled  119390 non-null  int64  \n",
      " 19  reserved_room_type              119390 non-null  object \n",
      " 20  assigned_room_type              119390 non-null  object \n",
      " 21  booking_changes                 119390 non-null  int64  \n",
      " 22  deposit_type                    119390 non-null  object \n",
      " 23  agent                           103050 non-null  float64\n",
      " 24  company                         6797 non-null    float64\n",
      " 25  days_in_waiting_list            119390 non-null  int64  \n",
      " 26  customer_type                   119390 non-null  object \n",
      " 27  adr                             119390 non-null  float64\n",
      " 28  required_car_parking_spaces     119390 non-null  int64  \n",
      " 29  total_of_special_requests       119390 non-null  int64  \n",
      " 30  reservation_status              119390 non-null  object \n",
      " 31  reservation_status_date         119390 non-null  object \n",
      "dtypes: float64(4), int64(16), object(12)\n",
      "memory usage: 29.1+ MB\n"
     ]
    }
   ],
   "source": [
    "df.info()"
   ]
  },
  {
   "cell_type": "code",
   "execution_count": 8,
   "metadata": {},
   "outputs": [
    {
     "data": {
      "text/plain": [
       "hotel                                  0\n",
       "is_canceled                            0\n",
       "lead_time                              0\n",
       "arrival_date_year                      0\n",
       "arrival_date_month                     0\n",
       "arrival_date_week_number               0\n",
       "arrival_date_day_of_month              0\n",
       "stays_in_weekend_nights                0\n",
       "stays_in_week_nights                   0\n",
       "adults                                 0\n",
       "children                               4\n",
       "babies                                 0\n",
       "meal                                   0\n",
       "country                              488\n",
       "market_segment                         0\n",
       "distribution_channel                   0\n",
       "is_repeated_guest                      0\n",
       "previous_cancellations                 0\n",
       "previous_bookings_not_canceled         0\n",
       "reserved_room_type                     0\n",
       "assigned_room_type                     0\n",
       "booking_changes                        0\n",
       "deposit_type                           0\n",
       "agent                              16340\n",
       "company                           112593\n",
       "days_in_waiting_list                   0\n",
       "customer_type                          0\n",
       "adr                                    0\n",
       "required_car_parking_spaces            0\n",
       "total_of_special_requests              0\n",
       "reservation_status                     0\n",
       "reservation_status_date                0\n",
       "dtype: int64"
      ]
     },
     "execution_count": 8,
     "metadata": {},
     "output_type": "execute_result"
    }
   ],
   "source": [
    "df.isnull().sum()"
   ]
  },
  {
   "cell_type": "code",
   "execution_count": 9,
   "metadata": {},
   "outputs": [
    {
     "data": {
      "text/html": [
       "<div>\n",
       "<style scoped>\n",
       "    .dataframe tbody tr th:only-of-type {\n",
       "        vertical-align: middle;\n",
       "    }\n",
       "\n",
       "    .dataframe tbody tr th {\n",
       "        vertical-align: top;\n",
       "    }\n",
       "\n",
       "    .dataframe thead th {\n",
       "        text-align: right;\n",
       "    }\n",
       "</style>\n",
       "<table border=\"1\" class=\"dataframe\">\n",
       "  <thead>\n",
       "    <tr style=\"text-align: right;\">\n",
       "      <th></th>\n",
       "      <th>hotel</th>\n",
       "      <th>is_canceled</th>\n",
       "      <th>lead_time</th>\n",
       "      <th>arrival_date_year</th>\n",
       "      <th>arrival_date_month</th>\n",
       "      <th>arrival_date_week_number</th>\n",
       "      <th>arrival_date_day_of_month</th>\n",
       "      <th>stays_in_weekend_nights</th>\n",
       "      <th>stays_in_week_nights</th>\n",
       "      <th>adults</th>\n",
       "      <th>...</th>\n",
       "      <th>deposit_type</th>\n",
       "      <th>agent</th>\n",
       "      <th>company</th>\n",
       "      <th>days_in_waiting_list</th>\n",
       "      <th>customer_type</th>\n",
       "      <th>adr</th>\n",
       "      <th>required_car_parking_spaces</th>\n",
       "      <th>total_of_special_requests</th>\n",
       "      <th>reservation_status</th>\n",
       "      <th>reservation_status_date</th>\n",
       "    </tr>\n",
       "  </thead>\n",
       "  <tbody>\n",
       "    <tr>\n",
       "      <th>count</th>\n",
       "      <td>119390</td>\n",
       "      <td>119390.000000</td>\n",
       "      <td>119390.000000</td>\n",
       "      <td>119390.000000</td>\n",
       "      <td>119390</td>\n",
       "      <td>119390.000000</td>\n",
       "      <td>119390.000000</td>\n",
       "      <td>119390.000000</td>\n",
       "      <td>119390.000000</td>\n",
       "      <td>119390.000000</td>\n",
       "      <td>...</td>\n",
       "      <td>119390</td>\n",
       "      <td>103050.000000</td>\n",
       "      <td>6797.000000</td>\n",
       "      <td>119390.000000</td>\n",
       "      <td>119390</td>\n",
       "      <td>119390.000000</td>\n",
       "      <td>119390.000000</td>\n",
       "      <td>119390.000000</td>\n",
       "      <td>119390</td>\n",
       "      <td>119390</td>\n",
       "    </tr>\n",
       "    <tr>\n",
       "      <th>unique</th>\n",
       "      <td>2</td>\n",
       "      <td>NaN</td>\n",
       "      <td>NaN</td>\n",
       "      <td>NaN</td>\n",
       "      <td>12</td>\n",
       "      <td>NaN</td>\n",
       "      <td>NaN</td>\n",
       "      <td>NaN</td>\n",
       "      <td>NaN</td>\n",
       "      <td>NaN</td>\n",
       "      <td>...</td>\n",
       "      <td>3</td>\n",
       "      <td>NaN</td>\n",
       "      <td>NaN</td>\n",
       "      <td>NaN</td>\n",
       "      <td>4</td>\n",
       "      <td>NaN</td>\n",
       "      <td>NaN</td>\n",
       "      <td>NaN</td>\n",
       "      <td>3</td>\n",
       "      <td>926</td>\n",
       "    </tr>\n",
       "    <tr>\n",
       "      <th>top</th>\n",
       "      <td>City Hotel</td>\n",
       "      <td>NaN</td>\n",
       "      <td>NaN</td>\n",
       "      <td>NaN</td>\n",
       "      <td>August</td>\n",
       "      <td>NaN</td>\n",
       "      <td>NaN</td>\n",
       "      <td>NaN</td>\n",
       "      <td>NaN</td>\n",
       "      <td>NaN</td>\n",
       "      <td>...</td>\n",
       "      <td>No Deposit</td>\n",
       "      <td>NaN</td>\n",
       "      <td>NaN</td>\n",
       "      <td>NaN</td>\n",
       "      <td>Transient</td>\n",
       "      <td>NaN</td>\n",
       "      <td>NaN</td>\n",
       "      <td>NaN</td>\n",
       "      <td>Check-Out</td>\n",
       "      <td>2015-10-21</td>\n",
       "    </tr>\n",
       "    <tr>\n",
       "      <th>freq</th>\n",
       "      <td>79330</td>\n",
       "      <td>NaN</td>\n",
       "      <td>NaN</td>\n",
       "      <td>NaN</td>\n",
       "      <td>13877</td>\n",
       "      <td>NaN</td>\n",
       "      <td>NaN</td>\n",
       "      <td>NaN</td>\n",
       "      <td>NaN</td>\n",
       "      <td>NaN</td>\n",
       "      <td>...</td>\n",
       "      <td>104641</td>\n",
       "      <td>NaN</td>\n",
       "      <td>NaN</td>\n",
       "      <td>NaN</td>\n",
       "      <td>89613</td>\n",
       "      <td>NaN</td>\n",
       "      <td>NaN</td>\n",
       "      <td>NaN</td>\n",
       "      <td>75166</td>\n",
       "      <td>1461</td>\n",
       "    </tr>\n",
       "    <tr>\n",
       "      <th>mean</th>\n",
       "      <td>NaN</td>\n",
       "      <td>0.370416</td>\n",
       "      <td>104.011416</td>\n",
       "      <td>2016.156554</td>\n",
       "      <td>NaN</td>\n",
       "      <td>27.165173</td>\n",
       "      <td>15.798241</td>\n",
       "      <td>0.927599</td>\n",
       "      <td>2.500302</td>\n",
       "      <td>1.856403</td>\n",
       "      <td>...</td>\n",
       "      <td>NaN</td>\n",
       "      <td>86.693382</td>\n",
       "      <td>189.266735</td>\n",
       "      <td>2.321149</td>\n",
       "      <td>NaN</td>\n",
       "      <td>101.831122</td>\n",
       "      <td>0.062518</td>\n",
       "      <td>0.571363</td>\n",
       "      <td>NaN</td>\n",
       "      <td>NaN</td>\n",
       "    </tr>\n",
       "    <tr>\n",
       "      <th>std</th>\n",
       "      <td>NaN</td>\n",
       "      <td>0.482918</td>\n",
       "      <td>106.863097</td>\n",
       "      <td>0.707476</td>\n",
       "      <td>NaN</td>\n",
       "      <td>13.605138</td>\n",
       "      <td>8.780829</td>\n",
       "      <td>0.998613</td>\n",
       "      <td>1.908286</td>\n",
       "      <td>0.579261</td>\n",
       "      <td>...</td>\n",
       "      <td>NaN</td>\n",
       "      <td>110.774548</td>\n",
       "      <td>131.655015</td>\n",
       "      <td>17.594721</td>\n",
       "      <td>NaN</td>\n",
       "      <td>50.535790</td>\n",
       "      <td>0.245291</td>\n",
       "      <td>0.792798</td>\n",
       "      <td>NaN</td>\n",
       "      <td>NaN</td>\n",
       "    </tr>\n",
       "    <tr>\n",
       "      <th>min</th>\n",
       "      <td>NaN</td>\n",
       "      <td>0.000000</td>\n",
       "      <td>0.000000</td>\n",
       "      <td>2015.000000</td>\n",
       "      <td>NaN</td>\n",
       "      <td>1.000000</td>\n",
       "      <td>1.000000</td>\n",
       "      <td>0.000000</td>\n",
       "      <td>0.000000</td>\n",
       "      <td>0.000000</td>\n",
       "      <td>...</td>\n",
       "      <td>NaN</td>\n",
       "      <td>1.000000</td>\n",
       "      <td>6.000000</td>\n",
       "      <td>0.000000</td>\n",
       "      <td>NaN</td>\n",
       "      <td>-6.380000</td>\n",
       "      <td>0.000000</td>\n",
       "      <td>0.000000</td>\n",
       "      <td>NaN</td>\n",
       "      <td>NaN</td>\n",
       "    </tr>\n",
       "    <tr>\n",
       "      <th>25%</th>\n",
       "      <td>NaN</td>\n",
       "      <td>0.000000</td>\n",
       "      <td>18.000000</td>\n",
       "      <td>2016.000000</td>\n",
       "      <td>NaN</td>\n",
       "      <td>16.000000</td>\n",
       "      <td>8.000000</td>\n",
       "      <td>0.000000</td>\n",
       "      <td>1.000000</td>\n",
       "      <td>2.000000</td>\n",
       "      <td>...</td>\n",
       "      <td>NaN</td>\n",
       "      <td>9.000000</td>\n",
       "      <td>62.000000</td>\n",
       "      <td>0.000000</td>\n",
       "      <td>NaN</td>\n",
       "      <td>69.290000</td>\n",
       "      <td>0.000000</td>\n",
       "      <td>0.000000</td>\n",
       "      <td>NaN</td>\n",
       "      <td>NaN</td>\n",
       "    </tr>\n",
       "    <tr>\n",
       "      <th>50%</th>\n",
       "      <td>NaN</td>\n",
       "      <td>0.000000</td>\n",
       "      <td>69.000000</td>\n",
       "      <td>2016.000000</td>\n",
       "      <td>NaN</td>\n",
       "      <td>28.000000</td>\n",
       "      <td>16.000000</td>\n",
       "      <td>1.000000</td>\n",
       "      <td>2.000000</td>\n",
       "      <td>2.000000</td>\n",
       "      <td>...</td>\n",
       "      <td>NaN</td>\n",
       "      <td>14.000000</td>\n",
       "      <td>179.000000</td>\n",
       "      <td>0.000000</td>\n",
       "      <td>NaN</td>\n",
       "      <td>94.575000</td>\n",
       "      <td>0.000000</td>\n",
       "      <td>0.000000</td>\n",
       "      <td>NaN</td>\n",
       "      <td>NaN</td>\n",
       "    </tr>\n",
       "    <tr>\n",
       "      <th>75%</th>\n",
       "      <td>NaN</td>\n",
       "      <td>1.000000</td>\n",
       "      <td>160.000000</td>\n",
       "      <td>2017.000000</td>\n",
       "      <td>NaN</td>\n",
       "      <td>38.000000</td>\n",
       "      <td>23.000000</td>\n",
       "      <td>2.000000</td>\n",
       "      <td>3.000000</td>\n",
       "      <td>2.000000</td>\n",
       "      <td>...</td>\n",
       "      <td>NaN</td>\n",
       "      <td>229.000000</td>\n",
       "      <td>270.000000</td>\n",
       "      <td>0.000000</td>\n",
       "      <td>NaN</td>\n",
       "      <td>126.000000</td>\n",
       "      <td>0.000000</td>\n",
       "      <td>1.000000</td>\n",
       "      <td>NaN</td>\n",
       "      <td>NaN</td>\n",
       "    </tr>\n",
       "    <tr>\n",
       "      <th>max</th>\n",
       "      <td>NaN</td>\n",
       "      <td>1.000000</td>\n",
       "      <td>737.000000</td>\n",
       "      <td>2017.000000</td>\n",
       "      <td>NaN</td>\n",
       "      <td>53.000000</td>\n",
       "      <td>31.000000</td>\n",
       "      <td>19.000000</td>\n",
       "      <td>50.000000</td>\n",
       "      <td>55.000000</td>\n",
       "      <td>...</td>\n",
       "      <td>NaN</td>\n",
       "      <td>535.000000</td>\n",
       "      <td>543.000000</td>\n",
       "      <td>391.000000</td>\n",
       "      <td>NaN</td>\n",
       "      <td>5400.000000</td>\n",
       "      <td>8.000000</td>\n",
       "      <td>5.000000</td>\n",
       "      <td>NaN</td>\n",
       "      <td>NaN</td>\n",
       "    </tr>\n",
       "  </tbody>\n",
       "</table>\n",
       "<p>11 rows × 32 columns</p>\n",
       "</div>"
      ],
      "text/plain": [
       "             hotel    is_canceled      lead_time  arrival_date_year  \\\n",
       "count       119390  119390.000000  119390.000000      119390.000000   \n",
       "unique           2            NaN            NaN                NaN   \n",
       "top     City Hotel            NaN            NaN                NaN   \n",
       "freq         79330            NaN            NaN                NaN   \n",
       "mean           NaN       0.370416     104.011416        2016.156554   \n",
       "std            NaN       0.482918     106.863097           0.707476   \n",
       "min            NaN       0.000000       0.000000        2015.000000   \n",
       "25%            NaN       0.000000      18.000000        2016.000000   \n",
       "50%            NaN       0.000000      69.000000        2016.000000   \n",
       "75%            NaN       1.000000     160.000000        2017.000000   \n",
       "max            NaN       1.000000     737.000000        2017.000000   \n",
       "\n",
       "       arrival_date_month  arrival_date_week_number  \\\n",
       "count              119390             119390.000000   \n",
       "unique                 12                       NaN   \n",
       "top                August                       NaN   \n",
       "freq                13877                       NaN   \n",
       "mean                  NaN                 27.165173   \n",
       "std                   NaN                 13.605138   \n",
       "min                   NaN                  1.000000   \n",
       "25%                   NaN                 16.000000   \n",
       "50%                   NaN                 28.000000   \n",
       "75%                   NaN                 38.000000   \n",
       "max                   NaN                 53.000000   \n",
       "\n",
       "        arrival_date_day_of_month  stays_in_weekend_nights  \\\n",
       "count               119390.000000            119390.000000   \n",
       "unique                        NaN                      NaN   \n",
       "top                           NaN                      NaN   \n",
       "freq                          NaN                      NaN   \n",
       "mean                    15.798241                 0.927599   \n",
       "std                      8.780829                 0.998613   \n",
       "min                      1.000000                 0.000000   \n",
       "25%                      8.000000                 0.000000   \n",
       "50%                     16.000000                 1.000000   \n",
       "75%                     23.000000                 2.000000   \n",
       "max                     31.000000                19.000000   \n",
       "\n",
       "        stays_in_week_nights         adults  ...  deposit_type          agent  \\\n",
       "count          119390.000000  119390.000000  ...        119390  103050.000000   \n",
       "unique                   NaN            NaN  ...             3            NaN   \n",
       "top                      NaN            NaN  ...    No Deposit            NaN   \n",
       "freq                     NaN            NaN  ...        104641            NaN   \n",
       "mean                2.500302       1.856403  ...           NaN      86.693382   \n",
       "std                 1.908286       0.579261  ...           NaN     110.774548   \n",
       "min                 0.000000       0.000000  ...           NaN       1.000000   \n",
       "25%                 1.000000       2.000000  ...           NaN       9.000000   \n",
       "50%                 2.000000       2.000000  ...           NaN      14.000000   \n",
       "75%                 3.000000       2.000000  ...           NaN     229.000000   \n",
       "max                50.000000      55.000000  ...           NaN     535.000000   \n",
       "\n",
       "            company days_in_waiting_list customer_type            adr  \\\n",
       "count   6797.000000        119390.000000        119390  119390.000000   \n",
       "unique          NaN                  NaN             4            NaN   \n",
       "top             NaN                  NaN     Transient            NaN   \n",
       "freq            NaN                  NaN         89613            NaN   \n",
       "mean     189.266735             2.321149           NaN     101.831122   \n",
       "std      131.655015            17.594721           NaN      50.535790   \n",
       "min        6.000000             0.000000           NaN      -6.380000   \n",
       "25%       62.000000             0.000000           NaN      69.290000   \n",
       "50%      179.000000             0.000000           NaN      94.575000   \n",
       "75%      270.000000             0.000000           NaN     126.000000   \n",
       "max      543.000000           391.000000           NaN    5400.000000   \n",
       "\n",
       "        required_car_parking_spaces  total_of_special_requests  \\\n",
       "count                 119390.000000              119390.000000   \n",
       "unique                          NaN                        NaN   \n",
       "top                             NaN                        NaN   \n",
       "freq                            NaN                        NaN   \n",
       "mean                       0.062518                   0.571363   \n",
       "std                        0.245291                   0.792798   \n",
       "min                        0.000000                   0.000000   \n",
       "25%                        0.000000                   0.000000   \n",
       "50%                        0.000000                   0.000000   \n",
       "75%                        0.000000                   1.000000   \n",
       "max                        8.000000                   5.000000   \n",
       "\n",
       "        reservation_status reservation_status_date  \n",
       "count               119390                  119390  \n",
       "unique                   3                     926  \n",
       "top              Check-Out              2015-10-21  \n",
       "freq                 75166                    1461  \n",
       "mean                   NaN                     NaN  \n",
       "std                    NaN                     NaN  \n",
       "min                    NaN                     NaN  \n",
       "25%                    NaN                     NaN  \n",
       "50%                    NaN                     NaN  \n",
       "75%                    NaN                     NaN  \n",
       "max                    NaN                     NaN  \n",
       "\n",
       "[11 rows x 32 columns]"
      ]
     },
     "execution_count": 9,
     "metadata": {},
     "output_type": "execute_result"
    }
   ],
   "source": [
    "df.describe(include='all')"
   ]
  },
  {
   "cell_type": "code",
   "execution_count": 10,
   "metadata": {},
   "outputs": [
    {
     "data": {
      "text/plain": [
       "array(['2015-07-01', '2015-07-02', '2015-07-03', '2015-05-06',\n",
       "       '2015-04-22', '2015-06-23', '2015-07-05', '2015-07-06',\n",
       "       '2015-07-07', '2015-07-08', '2015-05-11', '2015-07-15',\n",
       "       '2015-07-16', '2015-05-29', '2015-05-19', '2015-06-19',\n",
       "       '2015-05-23', '2015-05-18', '2015-07-09', '2015-06-02',\n",
       "       '2015-07-13', '2015-07-04', '2015-06-29', '2015-06-16',\n",
       "       '2015-06-18', '2015-06-12', '2015-06-09', '2015-05-26',\n",
       "       '2015-07-11', '2015-07-12', '2015-07-17', '2015-04-15',\n",
       "       '2015-05-13', '2015-07-10', '2015-05-20', '2015-05-12',\n",
       "       '2015-07-14', '2015-06-17', '2015-05-01', '2015-03-30',\n",
       "       '2015-07-19', '2015-06-03', '2015-06-26', '2015-05-14',\n",
       "       '2015-07-20', '2015-05-07', '2015-05-28', '2015-04-13',\n",
       "       '2015-03-25', '2015-07-21', '2015-06-27', '2015-07-18',\n",
       "       '2015-07-23', '2015-06-08', '2015-06-22', '2015-06-24',\n",
       "       '2015-03-05', '2015-06-01', '2015-04-24', '2015-07-22',\n",
       "       '2015-05-27', '2015-04-06', '2015-04-11', '2015-07-25',\n",
       "       '2015-07-28', '2015-07-29', '2015-06-25', '2015-07-24',\n",
       "       '2015-06-05', '2015-06-30', '2015-06-13', '2015-06-11',\n",
       "       '2015-07-30', '2015-07-27', '2015-04-29', '2015-06-04',\n",
       "       '2015-07-26', '2015-08-01', '2015-08-02', '2015-06-15',\n",
       "       '2015-04-23', '2015-07-31', '2015-05-25', '2015-08-03',\n",
       "       '2015-04-17', '2015-08-04', '2015-08-06', '2015-05-15',\n",
       "       '2015-05-09', '2015-03-17', '2015-05-22', '2015-08-07',\n",
       "       '2015-04-04', '2015-08-05', '2015-08-08', '2015-08-10',\n",
       "       '2015-05-04', '2015-06-06', '2015-08-09', '2015-08-15',\n",
       "       '2015-08-11', '2015-03-28', '2015-08-14', '2015-08-12',\n",
       "       '2015-08-16', '2015-05-16', '2015-08-21', '2015-08-13',\n",
       "       '2015-08-17', '2015-04-20', '2015-08-18', '2015-08-23',\n",
       "       '2015-08-22', '2015-08-19', '2015-08-20', '2015-08-29',\n",
       "       '2015-03-31', '2015-05-30', '2015-08-25', '2015-04-14',\n",
       "       '2015-08-24', '2015-03-24', '2015-05-21', '2015-08-28',\n",
       "       '2015-08-26', '2015-08-27', '2015-08-30', '2015-08-31',\n",
       "       '2015-09-06', '2015-09-03', '2015-09-04', '2015-09-02',\n",
       "       '2015-09-01', '2015-09-05', '2015-06-20', '2015-09-07',\n",
       "       '2015-09-10', '2015-09-11', '2015-09-08', '2015-09-09',\n",
       "       '2015-09-13', '2015-09-15', '2015-04-10', '2015-01-02',\n",
       "       '2014-11-18', '2015-09-12', '2015-09-17', '2015-09-14',\n",
       "       '2015-04-07', '2015-09-19', '2015-09-16', '2015-09-20',\n",
       "       '2015-01-18', '2015-10-23', '2015-01-22', '2015-01-01',\n",
       "       '2015-09-22', '2015-09-24', '2015-09-18', '2015-09-21',\n",
       "       '2015-09-30', '2015-09-25', '2015-09-27', '2015-09-28',\n",
       "       '2015-10-12', '2015-09-29', '2015-09-23', '2015-10-01',\n",
       "       '2015-09-26', '2015-04-18', '2015-10-02', '2015-10-04',\n",
       "       '2015-10-08', '2015-10-03', '2015-10-07', '2015-10-09',\n",
       "       '2015-10-11', '2015-10-05', '2015-10-06', '2015-10-10',\n",
       "       '2015-10-14', '2015-10-15', '2015-10-18', '2015-10-13',\n",
       "       '2015-10-20', '2015-10-19', '2015-10-31', '2015-10-16',\n",
       "       '2015-10-21', '2015-10-22', '2015-10-17', '2015-10-24',\n",
       "       '2015-10-25', '2015-10-28', '2015-10-27', '2015-10-26',\n",
       "       '2015-10-30', '2015-11-05', '2015-10-29', '2015-11-03',\n",
       "       '2015-11-07', '2015-11-04', '2015-11-01', '2015-11-02',\n",
       "       '2015-11-17', '2015-11-06', '2015-11-10', '2015-11-08',\n",
       "       '2015-11-09', '2015-11-15', '2015-11-16', '2015-11-11',\n",
       "       '2015-11-12', '2015-11-14', '2015-11-13', '2015-11-18',\n",
       "       '2015-11-22', '2015-11-19', '2015-11-21', '2015-11-20',\n",
       "       '2015-11-24', '2015-11-25', '2015-11-23', '2015-11-28',\n",
       "       '2015-11-26', '2015-11-27', '2015-11-29', '2015-12-04',\n",
       "       '2015-12-01', '2015-12-06', '2015-12-08', '2015-12-02',\n",
       "       '2015-12-03', '2015-12-31', '2015-12-05', '2015-12-10',\n",
       "       '2015-12-17', '2015-11-30', '2015-12-12', '2015-12-07',\n",
       "       '2016-01-05', '2015-12-11', '2015-12-13', '2015-12-15',\n",
       "       '2015-12-16', '2015-12-19', '2015-12-18', '2015-12-26',\n",
       "       '2015-12-27', '2015-12-22', '2015-12-23', '2015-12-24',\n",
       "       '2015-12-29', '2015-12-28', '2015-12-20', '2015-12-30',\n",
       "       '2016-01-02', '2016-01-01', '2015-12-25', '2016-01-03',\n",
       "       '2016-01-04', '2016-01-11', '2016-01-07', '2015-12-21',\n",
       "       '2016-01-09', '2016-01-10', '2016-01-08', '2016-01-06',\n",
       "       '2016-01-12', '2016-01-13', '2016-01-23', '2016-02-09',\n",
       "       '2016-01-15', '2016-01-16', '2016-01-17', '2016-01-19',\n",
       "       '2016-01-18', '2016-01-21', '2016-01-24', '2016-01-22',\n",
       "       '2016-01-29', '2016-01-27', '2016-01-25', '2016-03-08',\n",
       "       '2016-01-26', '2016-01-20', '2016-01-30', '2016-02-01',\n",
       "       '2016-02-02', '2016-02-08', '2016-02-07', '2016-01-28',\n",
       "       '2016-02-05', '2016-02-03', '2016-02-13', '2016-02-10',\n",
       "       '2016-02-04', '2016-02-12', '2016-02-11', '2016-02-16',\n",
       "       '2016-02-14', '2016-02-15', '2016-02-20', '2016-02-06',\n",
       "       '2016-01-14', '2016-02-17', '2016-02-21', '2016-02-24',\n",
       "       '2016-02-25', '2016-02-19', '2016-02-18', '2016-02-26',\n",
       "       '2016-02-23', '2016-03-05', '2016-02-22', '2016-02-27',\n",
       "       '2016-03-03', '2016-03-24', '2016-03-04', '2016-02-29',\n",
       "       '2016-03-01', '2016-03-02', '2016-03-30', '2016-03-07',\n",
       "       '2016-03-14', '2016-03-21', '2016-03-09', '2016-03-12',\n",
       "       '2016-03-22', '2016-03-10', '2016-03-11', '2016-03-20',\n",
       "       '2016-03-15', '2016-03-17', '2016-03-16', '2016-03-19',\n",
       "       '2016-03-27', '2016-03-18', '2016-03-26', '2016-03-31',\n",
       "       '2016-03-28', '2016-03-29', '2016-04-01', '2016-03-23',\n",
       "       '2016-04-02', '2016-03-25', '2016-03-13', '2016-04-04',\n",
       "       '2016-04-03', '2016-04-05', '2016-04-08', '2016-04-06',\n",
       "       '2016-04-09', '2016-04-12', '2016-04-16', '2016-04-17',\n",
       "       '2016-04-27', '2016-04-14', '2016-04-18', '2016-04-21',\n",
       "       '2016-04-19', '2016-04-20', '2016-04-10', '2016-04-13',\n",
       "       '2016-04-11', '2016-04-07', '2016-04-15', '2016-04-22',\n",
       "       '2016-04-23', '2016-04-26', '2016-04-28', '2016-04-24',\n",
       "       '2016-04-25', '2016-04-29', '2016-04-30', '2016-05-01',\n",
       "       '2016-05-10', '2016-05-02', '2016-05-07', '2016-05-08',\n",
       "       '2016-05-12', '2016-05-04', '2016-05-06', '2016-05-03',\n",
       "       '2016-05-09', '2016-05-05', '2016-05-13', '2016-05-14',\n",
       "       '2016-05-18', '2016-05-19', '2016-05-15', '2016-05-16',\n",
       "       '2016-05-11', '2016-05-21', '2016-05-22', '2016-05-20',\n",
       "       '2016-05-24', '2016-05-25', '2016-05-26', '2016-05-23',\n",
       "       '2016-05-27', '2016-05-17', '2016-05-29', '2016-05-28',\n",
       "       '2016-05-30', '2016-05-31', '2016-06-01', '2016-06-03',\n",
       "       '2016-06-08', '2016-06-02', '2016-06-05', '2016-06-06',\n",
       "       '2016-06-13', '2016-06-07', '2016-06-10', '2016-06-11',\n",
       "       '2016-06-16', '2016-06-12', '2016-06-14', '2016-06-17',\n",
       "       '2016-06-04', '2016-06-18', '2016-06-21', '2016-06-09',\n",
       "       '2016-06-24', '2016-06-20', '2016-06-25', '2016-06-22',\n",
       "       '2016-06-26', '2016-06-23', '2016-07-01', '2016-06-15',\n",
       "       '2016-06-28', '2016-07-02', '2016-06-19', '2016-06-27',\n",
       "       '2016-07-04', '2016-06-30', '2016-07-05', '2016-07-08',\n",
       "       '2016-07-09', '2016-07-07', '2016-07-12', '2016-06-29',\n",
       "       '2016-07-10', '2016-07-15', '2016-07-03', '2016-07-16',\n",
       "       '2016-07-14', '2016-07-18', '2016-07-13', '2016-07-06',\n",
       "       '2016-07-20', '2016-07-21', '2016-07-23', '2016-07-19',\n",
       "       '2016-07-11', '2016-07-28', '2016-07-17', '2016-07-25',\n",
       "       '2016-07-22', '2016-07-29', '2016-08-03', '2016-08-02',\n",
       "       '2016-08-04', '2016-08-08', '2016-08-10', '2016-08-01',\n",
       "       '2016-08-06', '2016-03-06', '2016-08-05', '2016-07-26',\n",
       "       '2016-08-07', '2016-07-30', '2016-07-24', '2016-08-12',\n",
       "       '2016-07-27', '2016-08-13', '2016-08-18', '2016-08-16',\n",
       "       '2016-08-15', '2016-08-17', '2016-08-11', '2016-07-31',\n",
       "       '2016-08-19', '2016-09-01', '2016-08-23', '2016-08-26',\n",
       "       '2016-08-20', '2016-08-21', '2016-09-04', '2016-08-22',\n",
       "       '2016-08-27', '2016-08-25', '2016-08-09', '2016-09-05',\n",
       "       '2016-08-24', '2016-09-10', '2016-08-29', '2016-09-09',\n",
       "       '2016-08-30', '2016-09-13', '2016-08-31', '2016-09-14',\n",
       "       '2016-09-12', '2016-09-15', '2016-08-14', '2016-09-02',\n",
       "       '2016-09-08', '2016-09-19', '2016-09-16', '2016-09-07',\n",
       "       '2016-09-21', '2016-09-06', '2016-09-22', '2016-09-17',\n",
       "       '2016-09-20', '2016-09-03', '2016-09-26', '2016-09-23',\n",
       "       '2016-09-18', '2016-09-29', '2016-10-02', '2016-10-01',\n",
       "       '2016-09-27', '2016-09-25', '2016-10-05', '2016-09-11',\n",
       "       '2016-09-30', '2016-10-09', '2016-10-03', '2016-10-06',\n",
       "       '2016-10-11', '2016-09-24', '2016-10-13', '2016-09-28',\n",
       "       '2016-10-08', '2016-10-07', '2016-10-16', '2016-08-28',\n",
       "       '2016-10-17', '2016-10-18', '2016-10-10', '2016-10-04',\n",
       "       '2016-10-15', '2016-10-19', '2016-10-21', '2016-10-12',\n",
       "       '2016-10-24', '2016-10-26', '2016-10-23', '2016-10-20',\n",
       "       '2016-10-25', '2016-10-27', '2016-10-28', '2016-10-30',\n",
       "       '2016-10-29', '2016-11-01', '2016-11-04', '2016-10-14',\n",
       "       '2016-11-07', '2016-11-03', '2016-11-10', '2016-11-14',\n",
       "       '2016-11-02', '2016-10-31', '2016-11-11', '2016-11-08',\n",
       "       '2016-11-05', '2016-11-25', '2016-11-09', '2016-11-20',\n",
       "       '2016-11-21', '2016-10-22', '2016-11-22', '2016-11-16',\n",
       "       '2016-11-23', '2016-11-17', '2016-11-06', '2016-11-15',\n",
       "       '2016-11-13', '2016-11-12', '2016-11-27', '2016-11-19',\n",
       "       '2016-11-30', '2016-11-18', '2016-12-02', '2016-12-04',\n",
       "       '2016-11-29', '2016-12-07', '2016-11-28', '2016-12-03',\n",
       "       '2016-12-06', '2016-11-24', '2016-12-08', '2016-12-05',\n",
       "       '2016-12-10', '2016-12-13', '2016-12-14', '2016-12-16',\n",
       "       '2016-12-15', '2016-12-17', '2016-12-19', '2016-12-21',\n",
       "       '2016-12-20', '2016-12-22', '2016-12-23', '2016-12-24',\n",
       "       '2016-12-01', '2016-12-27', '2016-12-29', '2016-12-30',\n",
       "       '2016-12-12', '2017-01-02', '2016-12-11', '2017-01-03',\n",
       "       '2017-01-04', '2017-01-01', '2016-12-26', '2017-01-06',\n",
       "       '2016-12-28', '2016-12-18', '2017-01-10', '2017-01-11',\n",
       "       '2017-01-07', '2017-01-12', '2017-01-16', '2017-01-14',\n",
       "       '2017-01-13', '2017-01-05', '2017-01-17', '2017-01-20',\n",
       "       '2016-12-09', '2017-01-26', '2016-12-31', '2017-01-23',\n",
       "       '2017-01-27', '2017-01-28', '2017-01-19', '2017-01-25',\n",
       "       '2017-01-24', '2017-01-29', '2017-01-18', '2016-12-25',\n",
       "       '2017-01-15', '2017-01-21', '2017-02-01', '2017-02-02',\n",
       "       '2017-01-31', '2017-02-03', '2017-02-04', '2017-02-06',\n",
       "       '2017-02-07', '2017-02-08', '2017-01-30', '2017-02-09',\n",
       "       '2017-01-09', '2017-02-11', '2017-02-10', '2017-02-12',\n",
       "       '2017-02-13', '2017-02-14', '2017-02-16', '2017-02-17',\n",
       "       '2017-02-18', '2017-02-19', '2017-02-20', '2017-02-15',\n",
       "       '2017-02-21', '2017-02-22', '2017-02-26', '2017-02-23',\n",
       "       '2017-02-24', '2017-02-25', '2017-02-28', '2017-03-05',\n",
       "       '2017-02-27', '2017-03-03', '2017-03-06', '2017-03-02',\n",
       "       '2017-03-08', '2017-03-09', '2017-03-10', '2017-03-07',\n",
       "       '2017-03-12', '2017-03-13', '2017-03-14', '2017-03-01',\n",
       "       '2017-03-18', '2017-03-17', '2017-03-24', '2017-03-22',\n",
       "       '2017-03-26', '2017-03-27', '2017-03-11', '2017-03-28',\n",
       "       '2017-03-29', '2017-03-30', '2017-03-31', '2017-03-19',\n",
       "       '2017-01-22', '2017-04-02', '2017-03-20', '2017-04-03',\n",
       "       '2017-01-08', '2017-03-23', '2017-04-05', '2017-02-05',\n",
       "       '2017-04-04', '2017-03-15', '2017-04-07', '2017-03-25',\n",
       "       '2017-04-08', '2017-04-06', '2017-03-21', '2017-04-10',\n",
       "       '2017-04-01', '2017-04-11', '2017-04-13', '2017-04-15',\n",
       "       '2017-04-12', '2017-03-04', '2017-04-19', '2017-04-22',\n",
       "       '2017-04-20', '2017-05-02', '2017-04-09', '2017-04-23',\n",
       "       '2017-04-24', '2017-04-16', '2017-04-28', '2017-04-18',\n",
       "       '2017-04-26', '2017-04-25', '2017-04-17', '2017-04-21',\n",
       "       '2017-05-03', '2017-05-04', '2017-03-16', '2017-05-05',\n",
       "       '2017-04-29', '2017-04-14', '2017-05-08', '2017-04-27',\n",
       "       '2017-05-11', '2017-05-01', '2017-05-10', '2017-05-13',\n",
       "       '2017-05-06', '2017-05-14', '2017-05-16', '2017-04-30',\n",
       "       '2017-05-15', '2017-05-07', '2017-05-09', '2017-05-17',\n",
       "       '2017-05-21', '2017-05-12', '2017-05-22', '2017-05-24',\n",
       "       '2017-05-23', '2017-05-25', '2017-05-26', '2017-05-28',\n",
       "       '2017-05-27', '2017-05-29', '2017-05-19', '2017-05-31',\n",
       "       '2017-05-20', '2017-06-01', '2017-05-30', '2017-06-02',\n",
       "       '2016-11-26', '2017-06-04', '2017-06-05', '2017-06-06',\n",
       "       '2017-06-07', '2017-05-18', '2017-06-09', '2017-06-10',\n",
       "       '2017-06-11', '2017-06-12', '2017-06-14', '2017-06-08',\n",
       "       '2017-06-16', '2017-06-13', '2017-06-03', '2017-06-24',\n",
       "       '2017-06-20', '2017-06-19', '2017-06-21', '2017-06-26',\n",
       "       '2017-06-27', '2017-06-22', '2017-06-28', '2017-06-15',\n",
       "       '2017-06-29', '2017-06-30', '2017-06-18', '2017-07-04',\n",
       "       '2017-07-08', '2017-07-05', '2017-07-03', '2017-07-07',\n",
       "       '2017-07-01', '2017-07-06', '2017-07-11', '2017-07-12',\n",
       "       '2017-06-23', '2017-07-13', '2017-07-02', '2017-07-10',\n",
       "       '2017-07-14', '2017-07-15', '2017-07-16', '2017-07-18',\n",
       "       '2017-07-17', '2017-07-19', '2017-07-20', '2017-07-21',\n",
       "       '2017-06-25', '2017-06-17', '2017-07-24', '2017-07-26',\n",
       "       '2017-07-09', '2017-07-27', '2017-07-28', '2017-07-31',\n",
       "       '2017-07-29', '2017-07-22', '2017-08-02', '2017-08-01',\n",
       "       '2017-08-03', '2017-08-04', '2017-07-25', '2017-07-23',\n",
       "       '2017-08-09', '2017-08-10', '2017-07-30', '2017-08-07',\n",
       "       '2017-08-13', '2017-08-05', '2017-08-14', '2017-08-08',\n",
       "       '2017-08-16', '2017-08-17', '2017-08-15', '2017-08-18',\n",
       "       '2017-08-20', '2017-08-22', '2017-08-06', '2017-08-25',\n",
       "       '2017-08-26', '2017-08-23', '2017-08-11', '2017-08-27',\n",
       "       '2017-08-21', '2017-08-29', '2017-08-31', '2017-08-12',\n",
       "       '2017-08-19', '2016-01-31', '2017-09-01', '2017-08-28',\n",
       "       '2015-04-03', '2015-01-21', '2015-01-28', '2015-01-29',\n",
       "       '2015-01-30', '2015-02-02', '2015-02-05', '2015-02-06',\n",
       "       '2015-02-09', '2015-02-10', '2015-02-11', '2015-02-12',\n",
       "       '2015-02-19', '2015-02-20', '2015-02-23', '2015-02-24',\n",
       "       '2015-02-25', '2015-02-26', '2015-02-27', '2015-03-03',\n",
       "       '2015-03-04', '2015-03-06', '2015-03-09', '2015-03-11',\n",
       "       '2015-03-12', '2015-03-18', '2015-04-02', '2015-06-14',\n",
       "       '2015-04-08', '2015-04-16', '2015-04-25', '2015-04-28',\n",
       "       '2015-05-08', '2017-09-06', '2016-02-28', '2015-12-09',\n",
       "       '2015-12-14', '2017-09-09', '2017-09-02', '2017-08-24',\n",
       "       '2017-08-30', '2017-09-03', '2017-09-04', '2017-09-05',\n",
       "       '2017-09-07', '2017-09-08', '2017-09-10', '2017-09-12',\n",
       "       '2017-09-14', '2015-04-30', '2015-04-21', '2015-04-05',\n",
       "       '2015-03-13', '2015-05-05', '2015-03-29', '2015-06-10',\n",
       "       '2015-04-27', '2014-10-17', '2015-01-20', '2015-02-17',\n",
       "       '2015-03-10', '2015-03-23'], dtype=object)"
      ]
     },
     "execution_count": 10,
     "metadata": {},
     "output_type": "execute_result"
    }
   ],
   "source": [
    "df['reservation_status_date'].unique()"
   ]
  },
  {
   "cell_type": "code",
   "execution_count": 11,
   "metadata": {
    "scrolled": true
   },
   "outputs": [
    {
     "data": {
      "text/plain": [
       "hotel                                  0\n",
       "is_canceled                            0\n",
       "lead_time                              0\n",
       "arrival_date_year                      0\n",
       "arrival_date_month                     0\n",
       "arrival_date_week_number               0\n",
       "arrival_date_day_of_month              0\n",
       "stays_in_weekend_nights                0\n",
       "stays_in_week_nights                   0\n",
       "adults                                 0\n",
       "children                               4\n",
       "babies                                 0\n",
       "meal                                   0\n",
       "country                              488\n",
       "market_segment                         0\n",
       "distribution_channel                   0\n",
       "is_repeated_guest                      0\n",
       "previous_cancellations                 0\n",
       "previous_bookings_not_canceled         0\n",
       "reserved_room_type                     0\n",
       "assigned_room_type                     0\n",
       "booking_changes                        0\n",
       "deposit_type                           0\n",
       "agent                              16340\n",
       "company                           112593\n",
       "days_in_waiting_list                   0\n",
       "customer_type                          0\n",
       "adr                                    0\n",
       "required_car_parking_spaces            0\n",
       "total_of_special_requests              0\n",
       "reservation_status                     0\n",
       "reservation_status_date                0\n",
       "dtype: int64"
      ]
     },
     "execution_count": 11,
     "metadata": {},
     "output_type": "execute_result"
    }
   ],
   "source": [
    "df.isnull().sum()"
   ]
  },
  {
   "cell_type": "markdown",
   "metadata": {},
   "source": [
    "# Drop company"
   ]
  },
  {
   "cell_type": "code",
   "execution_count": 12,
   "metadata": {},
   "outputs": [],
   "source": [
    "df.drop('company', axis=1, inplace=True)"
   ]
  },
  {
   "cell_type": "code",
   "execution_count": 13,
   "metadata": {},
   "outputs": [
    {
     "name": "stdout",
     "output_type": "stream",
     "text": [
      "<class 'pandas.core.frame.DataFrame'>\n",
      "RangeIndex: 119390 entries, 0 to 119389\n",
      "Data columns (total 31 columns):\n",
      " #   Column                          Non-Null Count   Dtype  \n",
      "---  ------                          --------------   -----  \n",
      " 0   hotel                           119390 non-null  object \n",
      " 1   is_canceled                     119390 non-null  int64  \n",
      " 2   lead_time                       119390 non-null  int64  \n",
      " 3   arrival_date_year               119390 non-null  int64  \n",
      " 4   arrival_date_month              119390 non-null  object \n",
      " 5   arrival_date_week_number        119390 non-null  int64  \n",
      " 6   arrival_date_day_of_month       119390 non-null  int64  \n",
      " 7   stays_in_weekend_nights         119390 non-null  int64  \n",
      " 8   stays_in_week_nights            119390 non-null  int64  \n",
      " 9   adults                          119390 non-null  int64  \n",
      " 10  children                        119386 non-null  float64\n",
      " 11  babies                          119390 non-null  int64  \n",
      " 12  meal                            119390 non-null  object \n",
      " 13  country                         118902 non-null  object \n",
      " 14  market_segment                  119390 non-null  object \n",
      " 15  distribution_channel            119390 non-null  object \n",
      " 16  is_repeated_guest               119390 non-null  int64  \n",
      " 17  previous_cancellations          119390 non-null  int64  \n",
      " 18  previous_bookings_not_canceled  119390 non-null  int64  \n",
      " 19  reserved_room_type              119390 non-null  object \n",
      " 20  assigned_room_type              119390 non-null  object \n",
      " 21  booking_changes                 119390 non-null  int64  \n",
      " 22  deposit_type                    119390 non-null  object \n",
      " 23  agent                           103050 non-null  float64\n",
      " 24  days_in_waiting_list            119390 non-null  int64  \n",
      " 25  customer_type                   119390 non-null  object \n",
      " 26  adr                             119390 non-null  float64\n",
      " 27  required_car_parking_spaces     119390 non-null  int64  \n",
      " 28  total_of_special_requests       119390 non-null  int64  \n",
      " 29  reservation_status              119390 non-null  object \n",
      " 30  reservation_status_date         119390 non-null  object \n",
      "dtypes: float64(3), int64(16), object(12)\n",
      "memory usage: 28.2+ MB\n"
     ]
    }
   ],
   "source": [
    "df.info()"
   ]
  },
  {
   "cell_type": "markdown",
   "metadata": {},
   "source": [
    "# Fill Agent"
   ]
  },
  {
   "cell_type": "code",
   "execution_count": 14,
   "metadata": {},
   "outputs": [],
   "source": [
    "df[\"agent\"] = df[\"agent\"].fillna(df[\"agent\"].mean())"
   ]
  },
  {
   "cell_type": "code",
   "execution_count": 15,
   "metadata": {},
   "outputs": [],
   "source": [
    "df[\"country\"] = df[\"country\"].fillna(df[\"country\"].mode()[0])\n",
    "df[\"children\"] = df[\"children\"].fillna(df[\"children\"].mode()[0])"
   ]
  },
  {
   "cell_type": "code",
   "execution_count": 16,
   "metadata": {},
   "outputs": [
    {
     "data": {
      "text/plain": [
       "hotel                             0\n",
       "is_canceled                       0\n",
       "lead_time                         0\n",
       "arrival_date_year                 0\n",
       "arrival_date_month                0\n",
       "arrival_date_week_number          0\n",
       "arrival_date_day_of_month         0\n",
       "stays_in_weekend_nights           0\n",
       "stays_in_week_nights              0\n",
       "adults                            0\n",
       "children                          0\n",
       "babies                            0\n",
       "meal                              0\n",
       "country                           0\n",
       "market_segment                    0\n",
       "distribution_channel              0\n",
       "is_repeated_guest                 0\n",
       "previous_cancellations            0\n",
       "previous_bookings_not_canceled    0\n",
       "reserved_room_type                0\n",
       "assigned_room_type                0\n",
       "booking_changes                   0\n",
       "deposit_type                      0\n",
       "agent                             0\n",
       "days_in_waiting_list              0\n",
       "customer_type                     0\n",
       "adr                               0\n",
       "required_car_parking_spaces       0\n",
       "total_of_special_requests         0\n",
       "reservation_status                0\n",
       "reservation_status_date           0\n",
       "dtype: int64"
      ]
     },
     "execution_count": 16,
     "metadata": {},
     "output_type": "execute_result"
    }
   ],
   "source": [
    "df.isnull().sum()"
   ]
  },
  {
   "cell_type": "code",
   "execution_count": 17,
   "metadata": {},
   "outputs": [
    {
     "data": {
      "text/plain": [
       "array([342, 737,   7,  13,  14,   0,   9,  85,  75,  23,  35,  68,  18,\n",
       "        37,  12,  72, 127,  78,  48,  60,  77,  99, 118,  95,  96,  69,\n",
       "        45,  40,  15,  36,  43,  70,  16, 107,  47, 113,  90,  50,  93,\n",
       "        76,   3,   1,  10,   5,  17,  51,  71,  63,  62, 101,   2,  81,\n",
       "       368, 364, 324,  79,  21, 109, 102,   4,  98,  92,  26,  73, 115,\n",
       "        86,  52,  29,  30,  33,  32,   8, 100,  44,  80,  97,  64,  39,\n",
       "        34,  27,  82,  94, 110, 111,  84,  66, 104,  28, 258, 112,  65,\n",
       "        67,  55,  88,  54, 292,  83, 105, 280, 394,  24, 103, 366, 249,\n",
       "        22,  91,  11, 108, 106,  31,  87,  41, 304, 117,  59,  53,  58,\n",
       "       116,  42, 321,  38,  56,  49, 317,   6,  57,  19,  25, 315, 123,\n",
       "        46,  89,  61, 312, 299, 130,  74, 298, 119,  20, 286, 136, 129,\n",
       "       124, 327, 131, 460, 140, 114, 139, 122, 137, 126, 120, 128, 135,\n",
       "       150, 143, 151, 132, 125, 157, 147, 138, 156, 164, 346, 159, 160,\n",
       "       161, 333, 381, 149, 154, 297, 163, 314, 155, 323, 340, 356, 142,\n",
       "       328, 144, 336, 248, 302, 175, 344, 382, 146, 170, 166, 338, 167,\n",
       "       310, 148, 165, 172, 171, 145, 121, 178, 305, 173, 152, 354, 347,\n",
       "       158, 185, 349, 183, 352, 177, 200, 192, 361, 207, 174, 330, 134,\n",
       "       350, 334, 283, 153, 197, 133, 241, 193, 235, 194, 261, 260, 216,\n",
       "       169, 209, 238, 215, 141, 189, 187, 223, 284, 214, 202, 211, 168,\n",
       "       230, 203, 188, 232, 709, 219, 162, 196, 190, 259, 228, 176, 250,\n",
       "       201, 186, 199, 180, 206, 205, 224, 222, 182, 210, 275, 212, 229,\n",
       "       218, 208, 191, 181, 179, 246, 255, 226, 288, 253, 252, 262, 236,\n",
       "       256, 234, 254, 468, 213, 237, 198, 195, 239, 263, 265, 274, 217,\n",
       "       220, 307, 221, 233, 257, 227, 276, 225, 264, 311, 277, 204, 290,\n",
       "       266, 270, 294, 319, 282, 251, 322, 291, 269, 240, 271, 184, 231,\n",
       "       268, 247, 273, 300, 301, 267, 244, 306, 293, 309, 272, 242, 295,\n",
       "       285, 243, 308, 398, 303, 245, 424, 279, 331, 281, 339, 434, 357,\n",
       "       325, 329, 278, 332, 343, 345, 360, 348, 367, 353, 373, 374, 406,\n",
       "       400, 326, 379, 399, 316, 341, 320, 385, 355, 363, 358, 296, 422,\n",
       "       390, 335, 370, 376, 375, 397, 289, 542, 403, 383, 384, 359, 393,\n",
       "       337, 362, 365, 435, 386, 378, 313, 351, 287, 471, 462, 411, 450,\n",
       "       318, 372, 371, 454, 532, 445, 389, 388, 407, 443, 437, 451, 391,\n",
       "       405, 412, 419, 420, 426, 433, 440, 429, 418, 447, 461, 605, 457,\n",
       "       475, 464, 482, 626, 489, 496, 503, 510, 517, 524, 531, 538, 545,\n",
       "       552, 559, 566, 573, 580, 587, 594, 601, 608, 615, 622, 629, 396,\n",
       "       410, 395, 423, 408, 409, 448, 465, 387, 414, 476, 479, 467, 490,\n",
       "       493, 478, 504, 507, 458, 518, 521, 377, 444, 380, 463], dtype=int64)"
      ]
     },
     "execution_count": 17,
     "metadata": {},
     "output_type": "execute_result"
    }
   ],
   "source": [
    "df['lead_time'].unique()"
   ]
  },
  {
   "cell_type": "code",
   "execution_count": 18,
   "metadata": {},
   "outputs": [],
   "source": [
    "df[\"lead_cat\"] = np.where(df[\"lead_time\"] < 50, \"Short\", np.where(df['lead_time']<100, \"Medium\", \"Long\"))"
   ]
  },
  {
   "cell_type": "code",
   "execution_count": 19,
   "metadata": {},
   "outputs": [
    {
     "data": {
      "text/html": [
       "<div>\n",
       "<style scoped>\n",
       "    .dataframe tbody tr th:only-of-type {\n",
       "        vertical-align: middle;\n",
       "    }\n",
       "\n",
       "    .dataframe tbody tr th {\n",
       "        vertical-align: top;\n",
       "    }\n",
       "\n",
       "    .dataframe thead th {\n",
       "        text-align: right;\n",
       "    }\n",
       "</style>\n",
       "<table border=\"1\" class=\"dataframe\">\n",
       "  <thead>\n",
       "    <tr style=\"text-align: right;\">\n",
       "      <th></th>\n",
       "      <th>hotel</th>\n",
       "      <th>is_canceled</th>\n",
       "      <th>lead_time</th>\n",
       "      <th>arrival_date_year</th>\n",
       "      <th>arrival_date_month</th>\n",
       "      <th>arrival_date_week_number</th>\n",
       "      <th>arrival_date_day_of_month</th>\n",
       "      <th>stays_in_weekend_nights</th>\n",
       "      <th>stays_in_week_nights</th>\n",
       "      <th>adults</th>\n",
       "      <th>...</th>\n",
       "      <th>deposit_type</th>\n",
       "      <th>agent</th>\n",
       "      <th>days_in_waiting_list</th>\n",
       "      <th>customer_type</th>\n",
       "      <th>adr</th>\n",
       "      <th>required_car_parking_spaces</th>\n",
       "      <th>total_of_special_requests</th>\n",
       "      <th>reservation_status</th>\n",
       "      <th>reservation_status_date</th>\n",
       "      <th>lead_cat</th>\n",
       "    </tr>\n",
       "  </thead>\n",
       "  <tbody>\n",
       "    <tr>\n",
       "      <th>0</th>\n",
       "      <td>Resort Hotel</td>\n",
       "      <td>0</td>\n",
       "      <td>342</td>\n",
       "      <td>2015</td>\n",
       "      <td>July</td>\n",
       "      <td>27</td>\n",
       "      <td>1</td>\n",
       "      <td>0</td>\n",
       "      <td>0</td>\n",
       "      <td>2</td>\n",
       "      <td>...</td>\n",
       "      <td>No Deposit</td>\n",
       "      <td>86.693382</td>\n",
       "      <td>0</td>\n",
       "      <td>Transient</td>\n",
       "      <td>0.0</td>\n",
       "      <td>0</td>\n",
       "      <td>0</td>\n",
       "      <td>Check-Out</td>\n",
       "      <td>2015-07-01</td>\n",
       "      <td>Long</td>\n",
       "    </tr>\n",
       "    <tr>\n",
       "      <th>1</th>\n",
       "      <td>Resort Hotel</td>\n",
       "      <td>0</td>\n",
       "      <td>737</td>\n",
       "      <td>2015</td>\n",
       "      <td>July</td>\n",
       "      <td>27</td>\n",
       "      <td>1</td>\n",
       "      <td>0</td>\n",
       "      <td>0</td>\n",
       "      <td>2</td>\n",
       "      <td>...</td>\n",
       "      <td>No Deposit</td>\n",
       "      <td>86.693382</td>\n",
       "      <td>0</td>\n",
       "      <td>Transient</td>\n",
       "      <td>0.0</td>\n",
       "      <td>0</td>\n",
       "      <td>0</td>\n",
       "      <td>Check-Out</td>\n",
       "      <td>2015-07-01</td>\n",
       "      <td>Long</td>\n",
       "    </tr>\n",
       "    <tr>\n",
       "      <th>2</th>\n",
       "      <td>Resort Hotel</td>\n",
       "      <td>0</td>\n",
       "      <td>7</td>\n",
       "      <td>2015</td>\n",
       "      <td>July</td>\n",
       "      <td>27</td>\n",
       "      <td>1</td>\n",
       "      <td>0</td>\n",
       "      <td>1</td>\n",
       "      <td>1</td>\n",
       "      <td>...</td>\n",
       "      <td>No Deposit</td>\n",
       "      <td>86.693382</td>\n",
       "      <td>0</td>\n",
       "      <td>Transient</td>\n",
       "      <td>75.0</td>\n",
       "      <td>0</td>\n",
       "      <td>0</td>\n",
       "      <td>Check-Out</td>\n",
       "      <td>2015-07-02</td>\n",
       "      <td>Short</td>\n",
       "    </tr>\n",
       "    <tr>\n",
       "      <th>3</th>\n",
       "      <td>Resort Hotel</td>\n",
       "      <td>0</td>\n",
       "      <td>13</td>\n",
       "      <td>2015</td>\n",
       "      <td>July</td>\n",
       "      <td>27</td>\n",
       "      <td>1</td>\n",
       "      <td>0</td>\n",
       "      <td>1</td>\n",
       "      <td>1</td>\n",
       "      <td>...</td>\n",
       "      <td>No Deposit</td>\n",
       "      <td>304.000000</td>\n",
       "      <td>0</td>\n",
       "      <td>Transient</td>\n",
       "      <td>75.0</td>\n",
       "      <td>0</td>\n",
       "      <td>0</td>\n",
       "      <td>Check-Out</td>\n",
       "      <td>2015-07-02</td>\n",
       "      <td>Short</td>\n",
       "    </tr>\n",
       "    <tr>\n",
       "      <th>4</th>\n",
       "      <td>Resort Hotel</td>\n",
       "      <td>0</td>\n",
       "      <td>14</td>\n",
       "      <td>2015</td>\n",
       "      <td>July</td>\n",
       "      <td>27</td>\n",
       "      <td>1</td>\n",
       "      <td>0</td>\n",
       "      <td>2</td>\n",
       "      <td>2</td>\n",
       "      <td>...</td>\n",
       "      <td>No Deposit</td>\n",
       "      <td>240.000000</td>\n",
       "      <td>0</td>\n",
       "      <td>Transient</td>\n",
       "      <td>98.0</td>\n",
       "      <td>0</td>\n",
       "      <td>1</td>\n",
       "      <td>Check-Out</td>\n",
       "      <td>2015-07-03</td>\n",
       "      <td>Short</td>\n",
       "    </tr>\n",
       "  </tbody>\n",
       "</table>\n",
       "<p>5 rows × 32 columns</p>\n",
       "</div>"
      ],
      "text/plain": [
       "          hotel  is_canceled  lead_time  arrival_date_year arrival_date_month  \\\n",
       "0  Resort Hotel            0        342               2015               July   \n",
       "1  Resort Hotel            0        737               2015               July   \n",
       "2  Resort Hotel            0          7               2015               July   \n",
       "3  Resort Hotel            0         13               2015               July   \n",
       "4  Resort Hotel            0         14               2015               July   \n",
       "\n",
       "   arrival_date_week_number  arrival_date_day_of_month  \\\n",
       "0                        27                          1   \n",
       "1                        27                          1   \n",
       "2                        27                          1   \n",
       "3                        27                          1   \n",
       "4                        27                          1   \n",
       "\n",
       "   stays_in_weekend_nights  stays_in_week_nights  adults  ...  deposit_type  \\\n",
       "0                        0                     0       2  ...    No Deposit   \n",
       "1                        0                     0       2  ...    No Deposit   \n",
       "2                        0                     1       1  ...    No Deposit   \n",
       "3                        0                     1       1  ...    No Deposit   \n",
       "4                        0                     2       2  ...    No Deposit   \n",
       "\n",
       "        agent days_in_waiting_list customer_type   adr  \\\n",
       "0   86.693382                    0     Transient   0.0   \n",
       "1   86.693382                    0     Transient   0.0   \n",
       "2   86.693382                    0     Transient  75.0   \n",
       "3  304.000000                    0     Transient  75.0   \n",
       "4  240.000000                    0     Transient  98.0   \n",
       "\n",
       "  required_car_parking_spaces  total_of_special_requests  reservation_status  \\\n",
       "0                           0                          0           Check-Out   \n",
       "1                           0                          0           Check-Out   \n",
       "2                           0                          0           Check-Out   \n",
       "3                           0                          0           Check-Out   \n",
       "4                           0                          1           Check-Out   \n",
       "\n",
       "   reservation_status_date lead_cat  \n",
       "0               2015-07-01     Long  \n",
       "1               2015-07-01     Long  \n",
       "2               2015-07-02    Short  \n",
       "3               2015-07-02    Short  \n",
       "4               2015-07-03    Short  \n",
       "\n",
       "[5 rows x 32 columns]"
      ]
     },
     "execution_count": 19,
     "metadata": {},
     "output_type": "execute_result"
    }
   ],
   "source": [
    "df.head()"
   ]
  },
  {
   "cell_type": "code",
   "execution_count": 21,
   "metadata": {},
   "outputs": [],
   "source": [
    "df.to_csv(\"hotel_tableu.csv\", index = False)"
   ]
  },
  {
   "cell_type": "markdown",
   "metadata": {},
   "source": [
    "# Filter last reservation"
   ]
  },
  {
   "cell_type": "code",
   "execution_count": 21,
   "metadata": {},
   "outputs": [],
   "source": [
    "last_reservation = df.loc[df[\"reservation_status_date\"] > \"2016-12-31\"]"
   ]
  },
  {
   "cell_type": "code",
   "execution_count": 22,
   "metadata": {},
   "outputs": [
    {
     "data": {
      "text/html": [
       "<div>\n",
       "<style scoped>\n",
       "    .dataframe tbody tr th:only-of-type {\n",
       "        vertical-align: middle;\n",
       "    }\n",
       "\n",
       "    .dataframe tbody tr th {\n",
       "        vertical-align: top;\n",
       "    }\n",
       "\n",
       "    .dataframe thead th {\n",
       "        text-align: right;\n",
       "    }\n",
       "</style>\n",
       "<table border=\"1\" class=\"dataframe\">\n",
       "  <thead>\n",
       "    <tr style=\"text-align: right;\">\n",
       "      <th></th>\n",
       "      <th>hotel</th>\n",
       "      <th>is_canceled</th>\n",
       "      <th>lead_time</th>\n",
       "      <th>arrival_date_year</th>\n",
       "      <th>arrival_date_month</th>\n",
       "      <th>arrival_date_week_number</th>\n",
       "      <th>arrival_date_day_of_month</th>\n",
       "      <th>stays_in_weekend_nights</th>\n",
       "      <th>stays_in_week_nights</th>\n",
       "      <th>adults</th>\n",
       "      <th>...</th>\n",
       "      <th>deposit_type</th>\n",
       "      <th>agent</th>\n",
       "      <th>days_in_waiting_list</th>\n",
       "      <th>customer_type</th>\n",
       "      <th>adr</th>\n",
       "      <th>required_car_parking_spaces</th>\n",
       "      <th>total_of_special_requests</th>\n",
       "      <th>reservation_status</th>\n",
       "      <th>reservation_status_date</th>\n",
       "      <th>lead_cat</th>\n",
       "    </tr>\n",
       "  </thead>\n",
       "  <tbody>\n",
       "    <tr>\n",
       "      <td>9788</td>\n",
       "      <td>Resort Hotel</td>\n",
       "      <td>1</td>\n",
       "      <td>89</td>\n",
       "      <td>2017</td>\n",
       "      <td>January</td>\n",
       "      <td>1</td>\n",
       "      <td>2</td>\n",
       "      <td>1</td>\n",
       "      <td>3</td>\n",
       "      <td>2</td>\n",
       "      <td>...</td>\n",
       "      <td>No Deposit</td>\n",
       "      <td>240.000000</td>\n",
       "      <td>0</td>\n",
       "      <td>Transient</td>\n",
       "      <td>46.80</td>\n",
       "      <td>0</td>\n",
       "      <td>1</td>\n",
       "      <td>No-Show</td>\n",
       "      <td>2017-01-02</td>\n",
       "      <td>Medium</td>\n",
       "    </tr>\n",
       "    <tr>\n",
       "      <td>9805</td>\n",
       "      <td>Resort Hotel</td>\n",
       "      <td>1</td>\n",
       "      <td>6</td>\n",
       "      <td>2017</td>\n",
       "      <td>January</td>\n",
       "      <td>1</td>\n",
       "      <td>4</td>\n",
       "      <td>0</td>\n",
       "      <td>1</td>\n",
       "      <td>1</td>\n",
       "      <td>...</td>\n",
       "      <td>No Deposit</td>\n",
       "      <td>86.693382</td>\n",
       "      <td>0</td>\n",
       "      <td>Transient</td>\n",
       "      <td>39.00</td>\n",
       "      <td>0</td>\n",
       "      <td>0</td>\n",
       "      <td>Canceled</td>\n",
       "      <td>2017-01-03</td>\n",
       "      <td>Short</td>\n",
       "    </tr>\n",
       "    <tr>\n",
       "      <td>9809</td>\n",
       "      <td>Resort Hotel</td>\n",
       "      <td>1</td>\n",
       "      <td>112</td>\n",
       "      <td>2017</td>\n",
       "      <td>January</td>\n",
       "      <td>1</td>\n",
       "      <td>4</td>\n",
       "      <td>2</td>\n",
       "      <td>4</td>\n",
       "      <td>2</td>\n",
       "      <td>...</td>\n",
       "      <td>No Deposit</td>\n",
       "      <td>240.000000</td>\n",
       "      <td>0</td>\n",
       "      <td>Transient</td>\n",
       "      <td>52.00</td>\n",
       "      <td>0</td>\n",
       "      <td>2</td>\n",
       "      <td>No-Show</td>\n",
       "      <td>2017-01-04</td>\n",
       "      <td>Long</td>\n",
       "    </tr>\n",
       "    <tr>\n",
       "      <td>9813</td>\n",
       "      <td>Resort Hotel</td>\n",
       "      <td>1</td>\n",
       "      <td>4</td>\n",
       "      <td>2017</td>\n",
       "      <td>January</td>\n",
       "      <td>1</td>\n",
       "      <td>5</td>\n",
       "      <td>0</td>\n",
       "      <td>3</td>\n",
       "      <td>2</td>\n",
       "      <td>...</td>\n",
       "      <td>No Deposit</td>\n",
       "      <td>240.000000</td>\n",
       "      <td>0</td>\n",
       "      <td>Transient</td>\n",
       "      <td>48.00</td>\n",
       "      <td>0</td>\n",
       "      <td>0</td>\n",
       "      <td>Canceled</td>\n",
       "      <td>2017-01-01</td>\n",
       "      <td>Short</td>\n",
       "    </tr>\n",
       "    <tr>\n",
       "      <td>9818</td>\n",
       "      <td>Resort Hotel</td>\n",
       "      <td>1</td>\n",
       "      <td>2</td>\n",
       "      <td>2017</td>\n",
       "      <td>January</td>\n",
       "      <td>1</td>\n",
       "      <td>6</td>\n",
       "      <td>2</td>\n",
       "      <td>3</td>\n",
       "      <td>1</td>\n",
       "      <td>...</td>\n",
       "      <td>No Deposit</td>\n",
       "      <td>240.000000</td>\n",
       "      <td>0</td>\n",
       "      <td>Transient</td>\n",
       "      <td>43.00</td>\n",
       "      <td>0</td>\n",
       "      <td>1</td>\n",
       "      <td>No-Show</td>\n",
       "      <td>2017-01-06</td>\n",
       "      <td>Short</td>\n",
       "    </tr>\n",
       "    <tr>\n",
       "      <td>...</td>\n",
       "      <td>...</td>\n",
       "      <td>...</td>\n",
       "      <td>...</td>\n",
       "      <td>...</td>\n",
       "      <td>...</td>\n",
       "      <td>...</td>\n",
       "      <td>...</td>\n",
       "      <td>...</td>\n",
       "      <td>...</td>\n",
       "      <td>...</td>\n",
       "      <td>...</td>\n",
       "      <td>...</td>\n",
       "      <td>...</td>\n",
       "      <td>...</td>\n",
       "      <td>...</td>\n",
       "      <td>...</td>\n",
       "      <td>...</td>\n",
       "      <td>...</td>\n",
       "      <td>...</td>\n",
       "      <td>...</td>\n",
       "      <td>...</td>\n",
       "    </tr>\n",
       "    <tr>\n",
       "      <td>119385</td>\n",
       "      <td>City Hotel</td>\n",
       "      <td>0</td>\n",
       "      <td>23</td>\n",
       "      <td>2017</td>\n",
       "      <td>August</td>\n",
       "      <td>35</td>\n",
       "      <td>30</td>\n",
       "      <td>2</td>\n",
       "      <td>5</td>\n",
       "      <td>2</td>\n",
       "      <td>...</td>\n",
       "      <td>No Deposit</td>\n",
       "      <td>394.000000</td>\n",
       "      <td>0</td>\n",
       "      <td>Transient</td>\n",
       "      <td>96.14</td>\n",
       "      <td>0</td>\n",
       "      <td>0</td>\n",
       "      <td>Check-Out</td>\n",
       "      <td>2017-09-06</td>\n",
       "      <td>Short</td>\n",
       "    </tr>\n",
       "    <tr>\n",
       "      <td>119386</td>\n",
       "      <td>City Hotel</td>\n",
       "      <td>0</td>\n",
       "      <td>102</td>\n",
       "      <td>2017</td>\n",
       "      <td>August</td>\n",
       "      <td>35</td>\n",
       "      <td>31</td>\n",
       "      <td>2</td>\n",
       "      <td>5</td>\n",
       "      <td>3</td>\n",
       "      <td>...</td>\n",
       "      <td>No Deposit</td>\n",
       "      <td>9.000000</td>\n",
       "      <td>0</td>\n",
       "      <td>Transient</td>\n",
       "      <td>225.43</td>\n",
       "      <td>0</td>\n",
       "      <td>2</td>\n",
       "      <td>Check-Out</td>\n",
       "      <td>2017-09-07</td>\n",
       "      <td>Long</td>\n",
       "    </tr>\n",
       "    <tr>\n",
       "      <td>119387</td>\n",
       "      <td>City Hotel</td>\n",
       "      <td>0</td>\n",
       "      <td>34</td>\n",
       "      <td>2017</td>\n",
       "      <td>August</td>\n",
       "      <td>35</td>\n",
       "      <td>31</td>\n",
       "      <td>2</td>\n",
       "      <td>5</td>\n",
       "      <td>2</td>\n",
       "      <td>...</td>\n",
       "      <td>No Deposit</td>\n",
       "      <td>9.000000</td>\n",
       "      <td>0</td>\n",
       "      <td>Transient</td>\n",
       "      <td>157.71</td>\n",
       "      <td>0</td>\n",
       "      <td>4</td>\n",
       "      <td>Check-Out</td>\n",
       "      <td>2017-09-07</td>\n",
       "      <td>Short</td>\n",
       "    </tr>\n",
       "    <tr>\n",
       "      <td>119388</td>\n",
       "      <td>City Hotel</td>\n",
       "      <td>0</td>\n",
       "      <td>109</td>\n",
       "      <td>2017</td>\n",
       "      <td>August</td>\n",
       "      <td>35</td>\n",
       "      <td>31</td>\n",
       "      <td>2</td>\n",
       "      <td>5</td>\n",
       "      <td>2</td>\n",
       "      <td>...</td>\n",
       "      <td>No Deposit</td>\n",
       "      <td>89.000000</td>\n",
       "      <td>0</td>\n",
       "      <td>Transient</td>\n",
       "      <td>104.40</td>\n",
       "      <td>0</td>\n",
       "      <td>0</td>\n",
       "      <td>Check-Out</td>\n",
       "      <td>2017-09-07</td>\n",
       "      <td>Long</td>\n",
       "    </tr>\n",
       "    <tr>\n",
       "      <td>119389</td>\n",
       "      <td>City Hotel</td>\n",
       "      <td>0</td>\n",
       "      <td>205</td>\n",
       "      <td>2017</td>\n",
       "      <td>August</td>\n",
       "      <td>35</td>\n",
       "      <td>29</td>\n",
       "      <td>2</td>\n",
       "      <td>7</td>\n",
       "      <td>2</td>\n",
       "      <td>...</td>\n",
       "      <td>No Deposit</td>\n",
       "      <td>9.000000</td>\n",
       "      <td>0</td>\n",
       "      <td>Transient</td>\n",
       "      <td>151.20</td>\n",
       "      <td>0</td>\n",
       "      <td>2</td>\n",
       "      <td>Check-Out</td>\n",
       "      <td>2017-09-07</td>\n",
       "      <td>Long</td>\n",
       "    </tr>\n",
       "  </tbody>\n",
       "</table>\n",
       "<p>36483 rows × 32 columns</p>\n",
       "</div>"
      ],
      "text/plain": [
       "               hotel  is_canceled  lead_time  arrival_date_year  \\\n",
       "9788    Resort Hotel            1         89               2017   \n",
       "9805    Resort Hotel            1          6               2017   \n",
       "9809    Resort Hotel            1        112               2017   \n",
       "9813    Resort Hotel            1          4               2017   \n",
       "9818    Resort Hotel            1          2               2017   \n",
       "...              ...          ...        ...                ...   \n",
       "119385    City Hotel            0         23               2017   \n",
       "119386    City Hotel            0        102               2017   \n",
       "119387    City Hotel            0         34               2017   \n",
       "119388    City Hotel            0        109               2017   \n",
       "119389    City Hotel            0        205               2017   \n",
       "\n",
       "       arrival_date_month  arrival_date_week_number  \\\n",
       "9788              January                         1   \n",
       "9805              January                         1   \n",
       "9809              January                         1   \n",
       "9813              January                         1   \n",
       "9818              January                         1   \n",
       "...                   ...                       ...   \n",
       "119385             August                        35   \n",
       "119386             August                        35   \n",
       "119387             August                        35   \n",
       "119388             August                        35   \n",
       "119389             August                        35   \n",
       "\n",
       "        arrival_date_day_of_month  stays_in_weekend_nights  \\\n",
       "9788                            2                        1   \n",
       "9805                            4                        0   \n",
       "9809                            4                        2   \n",
       "9813                            5                        0   \n",
       "9818                            6                        2   \n",
       "...                           ...                      ...   \n",
       "119385                         30                        2   \n",
       "119386                         31                        2   \n",
       "119387                         31                        2   \n",
       "119388                         31                        2   \n",
       "119389                         29                        2   \n",
       "\n",
       "        stays_in_week_nights  adults  ...  deposit_type       agent  \\\n",
       "9788                       3       2  ...    No Deposit  240.000000   \n",
       "9805                       1       1  ...    No Deposit   86.693382   \n",
       "9809                       4       2  ...    No Deposit  240.000000   \n",
       "9813                       3       2  ...    No Deposit  240.000000   \n",
       "9818                       3       1  ...    No Deposit  240.000000   \n",
       "...                      ...     ...  ...           ...         ...   \n",
       "119385                     5       2  ...    No Deposit  394.000000   \n",
       "119386                     5       3  ...    No Deposit    9.000000   \n",
       "119387                     5       2  ...    No Deposit    9.000000   \n",
       "119388                     5       2  ...    No Deposit   89.000000   \n",
       "119389                     7       2  ...    No Deposit    9.000000   \n",
       "\n",
       "       days_in_waiting_list customer_type     adr required_car_parking_spaces  \\\n",
       "9788                      0     Transient   46.80                           0   \n",
       "9805                      0     Transient   39.00                           0   \n",
       "9809                      0     Transient   52.00                           0   \n",
       "9813                      0     Transient   48.00                           0   \n",
       "9818                      0     Transient   43.00                           0   \n",
       "...                     ...           ...     ...                         ...   \n",
       "119385                    0     Transient   96.14                           0   \n",
       "119386                    0     Transient  225.43                           0   \n",
       "119387                    0     Transient  157.71                           0   \n",
       "119388                    0     Transient  104.40                           0   \n",
       "119389                    0     Transient  151.20                           0   \n",
       "\n",
       "        total_of_special_requests  reservation_status  \\\n",
       "9788                            1             No-Show   \n",
       "9805                            0            Canceled   \n",
       "9809                            2             No-Show   \n",
       "9813                            0            Canceled   \n",
       "9818                            1             No-Show   \n",
       "...                           ...                 ...   \n",
       "119385                          0           Check-Out   \n",
       "119386                          2           Check-Out   \n",
       "119387                          4           Check-Out   \n",
       "119388                          0           Check-Out   \n",
       "119389                          2           Check-Out   \n",
       "\n",
       "        reservation_status_date lead_cat  \n",
       "9788                 2017-01-02   Medium  \n",
       "9805                 2017-01-03    Short  \n",
       "9809                 2017-01-04     Long  \n",
       "9813                 2017-01-01    Short  \n",
       "9818                 2017-01-06    Short  \n",
       "...                         ...      ...  \n",
       "119385               2017-09-06    Short  \n",
       "119386               2017-09-07     Long  \n",
       "119387               2017-09-07    Short  \n",
       "119388               2017-09-07     Long  \n",
       "119389               2017-09-07     Long  \n",
       "\n",
       "[36483 rows x 32 columns]"
      ]
     },
     "execution_count": 22,
     "metadata": {},
     "output_type": "execute_result"
    }
   ],
   "source": [
    "last_reservation"
   ]
  },
  {
   "cell_type": "code",
   "execution_count": 23,
   "metadata": {},
   "outputs": [
    {
     "data": {
      "text/plain": [
       "array(['July', 'August', 'September', 'October', 'November', 'December',\n",
       "       'January', 'February', 'March', 'April', 'May', 'June'],\n",
       "      dtype=object)"
      ]
     },
     "execution_count": 23,
     "metadata": {},
     "output_type": "execute_result"
    }
   ],
   "source": [
    "df['arrival_date_month'].unique()"
   ]
  },
  {
   "cell_type": "markdown",
   "metadata": {},
   "source": [
    "# Visualize arrival_date_month"
   ]
  },
  {
   "cell_type": "code",
   "execution_count": 13,
   "metadata": {},
   "outputs": [
    {
     "data": {
      "text/plain": [
       "August       13877\n",
       "July         12661\n",
       "May          11791\n",
       "October      11160\n",
       "April        11089\n",
       "June         10939\n",
       "September    10508\n",
       "March         9794\n",
       "February      8068\n",
       "November      6794\n",
       "December      6780\n",
       "January       5929\n",
       "Name: arrival_date_month, dtype: int64"
      ]
     },
     "execution_count": 13,
     "metadata": {},
     "output_type": "execute_result"
    }
   ],
   "source": [
    "arrival = df['arrival_date_month'].value_counts()\n",
    "arrival"
   ]
  },
  {
   "cell_type": "code",
   "execution_count": 15,
   "metadata": {},
   "outputs": [
    {
     "data": {
      "text/html": [
       "<div>\n",
       "<style scoped>\n",
       "    .dataframe tbody tr th:only-of-type {\n",
       "        vertical-align: middle;\n",
       "    }\n",
       "\n",
       "    .dataframe tbody tr th {\n",
       "        vertical-align: top;\n",
       "    }\n",
       "\n",
       "    .dataframe thead th {\n",
       "        text-align: right;\n",
       "    }\n",
       "</style>\n",
       "<table border=\"1\" class=\"dataframe\">\n",
       "  <thead>\n",
       "    <tr style=\"text-align: right;\">\n",
       "      <th></th>\n",
       "      <th>arrival_date_month</th>\n",
       "    </tr>\n",
       "  </thead>\n",
       "  <tbody>\n",
       "    <tr>\n",
       "      <th>August</th>\n",
       "      <td>13877</td>\n",
       "    </tr>\n",
       "    <tr>\n",
       "      <th>July</th>\n",
       "      <td>12661</td>\n",
       "    </tr>\n",
       "    <tr>\n",
       "      <th>May</th>\n",
       "      <td>11791</td>\n",
       "    </tr>\n",
       "    <tr>\n",
       "      <th>October</th>\n",
       "      <td>11160</td>\n",
       "    </tr>\n",
       "    <tr>\n",
       "      <th>April</th>\n",
       "      <td>11089</td>\n",
       "    </tr>\n",
       "    <tr>\n",
       "      <th>June</th>\n",
       "      <td>10939</td>\n",
       "    </tr>\n",
       "    <tr>\n",
       "      <th>September</th>\n",
       "      <td>10508</td>\n",
       "    </tr>\n",
       "    <tr>\n",
       "      <th>March</th>\n",
       "      <td>9794</td>\n",
       "    </tr>\n",
       "    <tr>\n",
       "      <th>February</th>\n",
       "      <td>8068</td>\n",
       "    </tr>\n",
       "    <tr>\n",
       "      <th>November</th>\n",
       "      <td>6794</td>\n",
       "    </tr>\n",
       "    <tr>\n",
       "      <th>December</th>\n",
       "      <td>6780</td>\n",
       "    </tr>\n",
       "    <tr>\n",
       "      <th>January</th>\n",
       "      <td>5929</td>\n",
       "    </tr>\n",
       "  </tbody>\n",
       "</table>\n",
       "</div>"
      ],
      "text/plain": [
       "           arrival_date_month\n",
       "August                  13877\n",
       "July                    12661\n",
       "May                     11791\n",
       "October                 11160\n",
       "April                   11089\n",
       "June                    10939\n",
       "September               10508\n",
       "March                    9794\n",
       "February                 8068\n",
       "November                 6794\n",
       "December                 6780\n",
       "January                  5929"
      ]
     },
     "execution_count": 15,
     "metadata": {},
     "output_type": "execute_result"
    }
   ],
   "source": [
    "arrival = pd.DataFrame(arrival)\n",
    "arrival"
   ]
  },
  {
   "cell_type": "code",
   "execution_count": 16,
   "metadata": {},
   "outputs": [],
   "source": [
    "arrival.reset_index(inplace=True)"
   ]
  },
  {
   "cell_type": "raw",
   "metadata": {},
   "source": [
    "arrival"
   ]
  },
  {
   "cell_type": "code",
   "execution_count": 19,
   "metadata": {},
   "outputs": [],
   "source": [
    "import seaborn as sns"
   ]
  },
  {
   "cell_type": "code",
   "execution_count": 18,
   "metadata": {},
   "outputs": [],
   "source": [
    "arrival.columns = ['month', 'total']"
   ]
  },
  {
   "cell_type": "code",
   "execution_count": 30,
   "metadata": {},
   "outputs": [],
   "source": [
    "x = arrival['month']\n",
    "y = arrival['total']"
   ]
  },
  {
   "cell_type": "code",
   "execution_count": 31,
   "metadata": {
    "scrolled": true
   },
   "outputs": [
    {
     "data": {
      "image/png": "[encoded data removed]",
      "text/plain": [
       "<Figure size 432x288 with 1 Axes>"
      ]
     },
     "metadata": {
      "needs_background": "light"
     },
     "output_type": "display_data"
    }
   ],
   "source": [
    "plt.bar(x, y)\n",
    "plt.show()"
   ]
  },
  {
   "cell_type": "code",
   "execution_count": 32,
   "metadata": {},
   "outputs": [
    {
     "data": {
      "image/png": "[encoded data removed]",
      "text/plain": [
       "<Figure size 432x288 with 1 Axes>"
      ]
     },
     "metadata": {
      "needs_background": "light"
     },
     "output_type": "display_data"
    }
   ],
   "source": [
    "plt.bar(x, y)\n",
    "plt.xticks(rotation=90)\n",
    "\n",
    "plt.show()"
   ]
  },
  {
   "cell_type": "code",
   "execution_count": 33,
   "metadata": {},
   "outputs": [
    {
     "data": {
      "image/png": "[encoded data removed]",
      "text/plain": [
       "<Figure size 432x288 with 1 Axes>"
      ]
     },
     "metadata": {
      "needs_background": "light"
     },
     "output_type": "display_data"
    }
   ],
   "source": [
    "plt.barh(x, y)\n",
    "plt.show()"
   ]
  },
  {
   "cell_type": "markdown",
   "metadata": {},
   "source": [
    "## Type Hotel"
   ]
  },
  {
   "cell_type": "code",
   "execution_count": 17,
   "metadata": {},
   "outputs": [
    {
     "data": {
      "image/png": "[encoded data removed]",
      "text/plain": [
       "<Figure size 432x288 with 1 Axes>"
      ]
     },
     "metadata": {
      "needs_background": "light"
     },
     "output_type": "display_data"
    }
   ],
   "source": [
    "d = df.groupby('hotel')['hotel'].count()\n",
    "sns.barplot(x=d.index, y=d)\n",
    "plt.show()"
   ]
  },
  {
   "cell_type": "code",
   "execution_count": 26,
   "metadata": {},
   "outputs": [],
   "source": [
    "hotel_index = df['hotel'].value_counts().index\n",
    "hotel_value = df['hotel'].value_counts().values"
   ]
  },
  {
   "cell_type": "code",
   "execution_count": 43,
   "metadata": {},
   "outputs": [
    {
     "data": {
      "text/plain": [
       "City Hotel      79330\n",
       "Resort Hotel    40060\n",
       "Name: hotel, dtype: int64"
      ]
     },
     "execution_count": 43,
     "metadata": {},
     "output_type": "execute_result"
    }
   ],
   "source": [
    "df['hotel'].value_counts()"
   ]
  },
  {
   "cell_type": "code",
   "execution_count": 28,
   "metadata": {},
   "outputs": [
    {
     "data": {
      "image/png": "[encoded data removed]",
      "text/plain": [
       "<Figure size 432x288 with 1 Axes>"
      ]
     },
     "metadata": {},
     "output_type": "display_data"
    }
   ],
   "source": [
    "plt.pie(hotel_value, labels=hotel_index, autopct = '%1.1f%%')\n",
    "\n",
    "plt.title(\"Type Hotel\")\n",
    "plt.tight_layout()\n",
    "plt.show()"
   ]
  },
  {
   "cell_type": "markdown",
   "metadata": {},
   "source": [
    "### type hotel vs is_canceled"
   ]
  },
  {
   "cell_type": "code",
   "execution_count": 46,
   "metadata": {},
   "outputs": [
    {
     "data": {
      "text/plain": [
       "City Hotel      46228\n",
       "Resort Hotel    28938\n",
       "Name: hotel, dtype: int64"
      ]
     },
     "execution_count": 46,
     "metadata": {},
     "output_type": "execute_result"
    }
   ],
   "source": [
    "xx = df.hotel[df.is_canceled==0].value_counts()\n",
    "xx"
   ]
  },
  {
   "cell_type": "code",
   "execution_count": 47,
   "metadata": {},
   "outputs": [
    {
     "data": {
      "text/plain": [
       "City Hotel      33102\n",
       "Resort Hotel    11122\n",
       "Name: hotel, dtype: int64"
      ]
     },
     "execution_count": 47,
     "metadata": {},
     "output_type": "execute_result"
    }
   ],
   "source": [
    "yy = df.hotel[df.is_canceled==1].value_counts()\n",
    "yy"
   ]
  },
  {
   "cell_type": "code",
   "execution_count": 45,
   "metadata": {},
   "outputs": [
    {
     "data": {
      "image/png": "[encoded data removed]",
      "text/plain": [
       "<Figure size 432x288 with 1 Axes>"
      ]
     },
     "metadata": {
      "needs_background": "light"
     },
     "output_type": "display_data"
    }
   ],
   "source": [
    "ax = sns.countplot(x='hotel', hue='is_canceled', data=df)\n",
    "plt.legend(['Not Cancelled', 'Cancelled'])\n",
    "plt.show()\n"
   ]
  },
  {
   "cell_type": "markdown",
   "metadata": {},
   "source": [
    "### country"
   ]
  },
  {
   "cell_type": "code",
   "execution_count": 51,
   "metadata": {},
   "outputs": [
    {
     "data": {
      "text/plain": [
       "PRT    48590\n",
       "GBR    12129\n",
       "FRA    10415\n",
       "ESP     8568\n",
       "DEU     7287\n",
       "       ...  \n",
       "DJI        1\n",
       "BWA        1\n",
       "HND        1\n",
       "VGB        1\n",
       "NAM        1\n",
       "Name: country, Length: 177, dtype: int64"
      ]
     },
     "execution_count": 51,
     "metadata": {},
     "output_type": "execute_result"
    }
   ],
   "source": [
    "df['country'].value_counts()"
   ]
  },
  {
   "cell_type": "code",
   "execution_count": 52,
   "metadata": {},
   "outputs": [
    {
     "data": {
      "text/plain": [
       "array(['PRT', 'GBR', 'USA', 'ESP', 'IRL', 'FRA', nan, 'ROU', 'NOR', 'OMN',\n",
       "       'ARG', 'POL', 'DEU', 'BEL', 'CHE', 'CN', 'GRC', 'ITA', 'NLD',\n",
       "       'DNK', 'RUS', 'SWE', 'AUS', 'EST', 'CZE', 'BRA', 'FIN', 'MOZ',\n",
       "       'BWA', 'LUX', 'SVN', 'ALB', 'IND', 'CHN', 'MEX', 'MAR', 'UKR',\n",
       "       'SMR', 'LVA', 'PRI', 'SRB', 'CHL', 'AUT', 'BLR', 'LTU', 'TUR',\n",
       "       'ZAF', 'AGO', 'ISR', 'CYM', 'ZMB', 'CPV', 'ZWE', 'DZA', 'KOR',\n",
       "       'CRI', 'HUN', 'ARE', 'TUN', 'JAM', 'HRV', 'HKG', 'IRN', 'GEO',\n",
       "       'AND', 'GIB', 'URY', 'JEY', 'CAF', 'CYP', 'COL', 'GGY', 'KWT',\n",
       "       'NGA', 'MDV', 'VEN', 'SVK', 'FJI', 'KAZ', 'PAK', 'IDN', 'LBN',\n",
       "       'PHL', 'SEN', 'SYC', 'AZE', 'BHR', 'NZL', 'THA', 'DOM', 'MKD',\n",
       "       'MYS', 'ARM', 'JPN', 'LKA', 'CUB', 'CMR', 'BIH', 'MUS', 'COM',\n",
       "       'SUR', 'UGA', 'BGR', 'CIV', 'JOR', 'SYR', 'SGP', 'BDI', 'SAU',\n",
       "       'VNM', 'PLW', 'QAT', 'EGY', 'PER', 'MLT', 'MWI', 'ECU', 'MDG',\n",
       "       'ISL', 'UZB', 'NPL', 'BHS', 'MAC', 'TGO', 'TWN', 'DJI', 'STP',\n",
       "       'KNA', 'ETH', 'IRQ', 'HND', 'RWA', 'KHM', 'MCO', 'BGD', 'IMN',\n",
       "       'TJK', 'NIC', 'BEN', 'VGB', 'TZA', 'GAB', 'GHA', 'TMP', 'GLP',\n",
       "       'KEN', 'LIE', 'GNB', 'MNE', 'UMI', 'MYT', 'FRO', 'MMR', 'PAN',\n",
       "       'BFA', 'LBY', 'MLI', 'NAM', 'BOL', 'PRY', 'BRB', 'ABW', 'AIA',\n",
       "       'SLV', 'DMA', 'PYF', 'GUY', 'LCA', 'ATA', 'GTM', 'ASM', 'MRT',\n",
       "       'NCL', 'KIR', 'SDN', 'ATF', 'SLE', 'LAO'], dtype=object)"
      ]
     },
     "execution_count": 52,
     "metadata": {},
     "output_type": "execute_result"
    }
   ],
   "source": [
    "df['country'].unique()"
   ]
  },
  {
   "cell_type": "code",
   "execution_count": 53,
   "metadata": {},
   "outputs": [
    {
     "data": {
      "image/png": "[encoded data removed]",
      "text/plain": [
       "<Figure size 1440x432 with 1 Axes>"
      ]
     },
     "metadata": {
      "needs_background": "light"
     },
     "output_type": "display_data"
    }
   ],
   "source": [
    "plt.figure(figsize=(20,6))\n",
    "d.sort_values(ascending=False)[:20].plot(kind='bar')\n",
    "p = plt.xticks(rotation=30)\n",
    "plt.xlabel(\"Country\")\n",
    "plt.ylabel(\"Number of bookings\")\n",
    "plt.title(\"Top 20 countries by number of guests\")\n",
    "plt.show()"
   ]
  },
  {
   "cell_type": "markdown",
   "metadata": {},
   "source": [
    "source : https://en.wikipedia.org/wiki/List_of_ISO_3166_country_codes"
   ]
  },
  {
   "cell_type": "code",
   "execution_count": 54,
   "metadata": {},
   "outputs": [
    {
     "data": {
      "image/png": "[encoded data removed]",
      "text/plain": [
       "<Figure size 1080x360 with 1 Axes>"
      ]
     },
     "metadata": {
      "needs_background": "light"
     },
     "output_type": "display_data"
    }
   ],
   "source": [
    "d = df['country'].value_counts().sort_values(ascending=False)[:15]\n",
    "plt.figure(figsize=(15,5))\n",
    "sns.countplot(x='country', hue='hotel', data=df[df['country'].isin(d.index)])\n",
    "plt.xlabel(\"Country\")\n",
    "plt.ylabel(\"No. of Bookings\")\n",
    "plt.title(\"Booked Hotel type by country\")\n",
    "plt.show()"
   ]
  },
  {
   "cell_type": "markdown",
   "metadata": {},
   "source": [
    "## Daily Rate by Hotel type"
   ]
  },
  {
   "cell_type": "code",
   "execution_count": 55,
   "metadata": {},
   "outputs": [
    {
     "data": {
      "text/plain": [
       "count    119390.000000\n",
       "mean        101.831122\n",
       "std          50.535790\n",
       "min          -6.380000\n",
       "25%          69.290000\n",
       "50%          94.575000\n",
       "75%         126.000000\n",
       "max        5400.000000\n",
       "Name: adr, dtype: float64"
      ]
     },
     "execution_count": 55,
     "metadata": {},
     "output_type": "execute_result"
    }
   ],
   "source": [
    "df['adr'].describe()"
   ]
  },
  {
   "cell_type": "code",
   "execution_count": 56,
   "metadata": {},
   "outputs": [
    {
     "data": {
      "image/png": "[encoded data removed]",
      "text/plain": [
       "<Figure size 864x432 with 1 Axes>"
      ]
     },
     "metadata": {
      "needs_background": "light"
     },
     "output_type": "display_data"
    }
   ],
   "source": [
    "plt.figure(figsize=(12,6))\n",
    "sns.lineplot(x='arrival_date_month', y='adr', hue='hotel', data= df)\n",
    "plt.show()"
   ]
  },
  {
   "cell_type": "markdown",
   "metadata": {},
   "source": [
    "\n",
    "Untuk hotel resor, tarif harian rata-rata lebih mahal selama Agustus, Juli dan September.\n",
    "\n",
    "Untuk hotel kota, tarif harian rata-rata lebih mahal selama Agustus, Juli, Juni dan Mei"
   ]
  },
  {
   "cell_type": "code",
   "execution_count": 65,
   "metadata": {},
   "outputs": [
    {
     "data": {
      "image/png": "[encoded data removed]",
      "text/plain": [
       "<Figure size 864x432 with 1 Axes>"
      ]
     },
     "metadata": {
      "needs_background": "light"
     },
     "output_type": "display_data"
    }
   ],
   "source": [
    "plt.figure(figsize=(12,6))\n",
    "sns.countplot(x='arrival_date_month', hue='hotel', data= df)\n",
    "plt.show()"
   ]
  },
  {
   "cell_type": "markdown",
   "metadata": {},
   "source": [
    "### market segment"
   ]
  },
  {
   "cell_type": "code",
   "execution_count": 57,
   "metadata": {},
   "outputs": [
    {
     "data": {
      "image/png": "[encoded data removed]",
      "text/plain": [
       "<Figure size 720x720 with 1 Axes>"
      ]
     },
     "metadata": {},
     "output_type": "display_data"
    }
   ],
   "source": [
    "d = df['market_segment'].value_counts()\n",
    "plt.figure(figsize=(10,10))\n",
    "p = plt.pie(d, labels=d.index, autopct=\"%.0f%%\")\n",
    "plt.title(\"Bookings by market segment\")\n",
    "plt.show()"
   ]
  },
  {
   "cell_type": "markdown",
   "metadata": {},
   "source": [
    "Hampir setengah dari pemesanan dilakukan melalui Online Travel Agents (TA). Lebih dari 90% pemesanan dilakukan oleh TA Online, TA/TO Offline, Grup & Langsung."
   ]
  },
  {
   "cell_type": "markdown",
   "metadata": {},
   "source": [
    "### Percentage of bookings with meals"
   ]
  },
  {
   "cell_type": "code",
   "execution_count": 59,
   "metadata": {},
   "outputs": [
    {
     "data": {
      "image/png": "[encoded data removed]",
      "text/plain": [
       "<Figure size 720x720 with 1 Axes>"
      ]
     },
     "metadata": {},
     "output_type": "display_data"
    }
   ],
   "source": [
    "d = df['meal'].value_counts()\n",
    "plt.figure(figsize=(10,10))\n",
    "p = plt.pie(d, labels=d.index, autopct=\"%.0f%%\")\n",
    "plt.title(\"Portion of bookings with meals and its type\")\n",
    "plt.show()"
   ]
  },
  {
   "cell_type": "markdown",
   "metadata": {},
   "source": [
    "### special request"
   ]
  },
  {
   "cell_type": "code",
   "execution_count": 67,
   "metadata": {},
   "outputs": [
    {
     "data": {
      "image/png": "[encoded data removed]",
      "text/plain": [
       "<Figure size 576x360 with 1 Axes>"
      ]
     },
     "metadata": {
      "needs_background": "light"
     },
     "output_type": "display_data"
    }
   ],
   "source": [
    "plt.figure(figsize=(8,5))\n",
    "sns.countplot(x='total_of_special_requests', data=df, palette = 'ocean_r')\n",
    "plt.title('Total Special Request')\n",
    "plt.show()"
   ]
  },
  {
   "cell_type": "markdown",
   "metadata": {},
   "source": [
    "### special request by country"
   ]
  },
  {
   "cell_type": "code",
   "execution_count": 60,
   "metadata": {},
   "outputs": [
    {
     "data": {
      "image/png": "[encoded data removed]",
      "text/plain": [
       "<Figure size 1440x432 with 1 Axes>"
      ]
     },
     "metadata": {
      "needs_background": "light"
     },
     "output_type": "display_data"
    }
   ],
   "source": [
    "d = df.groupby(\"country\")['total_of_special_requests'].mean().sort_values(ascending=False)[:50]\n",
    "plt.figure(figsize=(20,6))\n",
    "sns.barplot(x=d.index, y=d)\n",
    "p = plt.xticks(rotation=30)\n",
    "plt.xlabel(\"Country\")\n",
    "plt.ylabel(\"Avg number of special request\")\n",
    "plt.title(\"Top 50 countries by average number of special requests\")\n",
    "plt.show()"
   ]
  },
  {
   "cell_type": "markdown",
   "metadata": {},
   "source": [
    "### Average Special Requests made per guest across months in a year"
   ]
  },
  {
   "cell_type": "code",
   "execution_count": 62,
   "metadata": {},
   "outputs": [],
   "source": [
    "months = [\"January\", \"February\", \"March\", \"April\", \"May\", \"June\", \"July\", \"August\", \"September\", \"October\", \"November\", \"December\"]"
   ]
  },
  {
   "cell_type": "code",
   "execution_count": 63,
   "metadata": {},
   "outputs": [
    {
     "data": {
      "image/png": "[encoded data removed]",
      "text/plain": [
       "<Figure size 720x360 with 1 Axes>"
      ]
     },
     "metadata": {
      "needs_background": "light"
     },
     "output_type": "display_data"
    }
   ],
   "source": [
    "d = df.groupby('arrival_date_month')['total_of_special_requests'].mean()\n",
    "plt.figure(figsize=(10,5))\n",
    "sns.barplot(x=d.index, y=d, order=months)\n",
    "p = plt.xticks(rotation=30)\n",
    "plt.xlabel(\"Months\")\n",
    "plt.ylabel(\"Avg number of Special request per guest\")\n",
    "plt.title(\"Avg Special Requests made pre guest across months in a year\")\n",
    "plt.show()"
   ]
  },
  {
   "cell_type": "markdown",
   "metadata": {},
   "source": [
    "### Room Types"
   ]
  },
  {
   "cell_type": "code",
   "execution_count": 64,
   "metadata": {},
   "outputs": [
    {
     "data": {
      "image/png": "[encoded data removed]",
      "text/plain": [
       "<Figure size 864x432 with 1 Axes>"
      ]
     },
     "metadata": {
      "needs_background": "light"
     },
     "output_type": "display_data"
    }
   ],
   "source": [
    "plt.figure(figsize = (12,6))\n",
    "sns.countplot(x='reserved_room_type', hue='hotel', data=df, order=sorted(df['reserved_room_type'].unique()))\n",
    "plt.xlabel(\"Room Types\")\n",
    "plt.legend(loc=1)\n",
    "plt.title(\"Types of Rooms reserved\")\n",
    "plt.show()"
   ]
  },
  {
   "cell_type": "markdown",
   "metadata": {},
   "source": [
    "### Cancellations by type of Guests (Repeated/NonRepeated)"
   ]
  },
  {
   "cell_type": "code",
   "execution_count": 70,
   "metadata": {},
   "outputs": [
    {
     "data": {
      "image/png": "[encoded data removed]",
      "text/plain": [
       "<Figure size 576x360 with 1 Axes>"
      ]
     },
     "metadata": {
      "needs_background": "light"
     },
     "output_type": "display_data"
    }
   ],
   "source": [
    "plt.figure(figsize=(8,5))\n",
    "sns.countplot(x = \"is_canceled\", hue = 'is_repeated_guest', data = df)\n",
    "plt.legend(['New Guest', 'Repeated Guest'])\n",
    "plt.xticks(ticks=[0,1], labels=['Not Cancelled', 'Cancelled'])\n",
    "plt.title(\"Cancellations by repeated guests\")\n",
    "plt.show()"
   ]
  },
  {
   "cell_type": "markdown",
   "metadata": {},
   "source": [
    "## Kesimpulan"
   ]
  },
  {
   "cell_type": "markdown",
   "metadata": {},
   "source": [
    "Sebagian besar tamu datang dari negara-negara Portugal, Britania Raya, Spanyol, dan Prancis.\n",
    "\n",
    "Ada perbedaan besar pada kategori Bed&Breakfast dan lainnya. Hampir 80% pemesanan dipesan untuk Bed&Breakfast.\n",
    "\n",
    "Sekitar 55% dari pemesanan tidak memiliki permintaan khusus.\n",
    "\n",
    "Hotel City memiliki lebih banyak tamu selama musim semi dan musim gugur, ketika harga juga tertinggi.\n",
    "\n",
    "Jumlah tamu untuk hotel Resort turun sedikit dari Agustus hingga September, yang juga merupakan saat harga tertinggi.\n",
    "Kedua hotel memiliki tamu paling sedikit selama musim dingin."
   ]
  },
  {
   "cell_type": "code",
   "execution_count": null,
   "metadata": {},
   "outputs": [],
   "source": []
  },
  {
   "cell_type": "code",
   "execution_count": null,
   "metadata": {},
   "outputs": [],
   "source": []
  }
 ],
 "metadata": {
  "kernelspec": {
   "display_name": "Python 3 (ipykernel)",
   "language": "python",
   "name": "python3"
  },
  "language_info": {
   "codemirror_mode": {
    "name": "ipython",
    "version": 3
   },
   "file_extension": ".py",
   "mimetype": "text/x-python",
   "name": "python",
   "nbconvert_exporter": "python",
   "pygments_lexer": "ipython3",
   "version": "3.9.12"
  }
 },
 "nbformat": 4,
 "nbformat_minor": 4
}

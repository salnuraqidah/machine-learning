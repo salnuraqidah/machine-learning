{
  "nbformat": 4,
  "nbformat_minor": 0,
  "metadata": {
    "colab": {
      "provenance": [],
      "authorship_tag": "ABX9TyO4PQcA+DhDBRCTQ3PKuAuX",
      "include_colab_link": true
    },
    "kernelspec": {
      "name": "python3",
      "display_name": "Python 3"
    },
    "language_info": {
      "name": "python"
    }
  },
  "cells": [
    {
      "cell_type": "markdown",
      "metadata": {
        "id": "view-in-github",
        "colab_type": "text"
      },
      "source": [
        "<a href=\"https://colab.research.google.com/github/salnuraqidah/machine-learning/blob/main/Neural_Network.ipynb\" target=\"_parent\"><img src=\"https://colab.research.google.com/assets/colab-badge.svg\" alt=\"Open In Colab\"/></a>"
      ]
    },
    {
      "cell_type": "code",
      "execution_count": 116,
      "metadata": {
        "id": "MRM7wqFcrbE_",
        "colab": {
          "base_uri": "https://localhost:8080/"
        },
        "outputId": "46e3fcb7-bf85-4326-bee2-2ed71241203a"
      },
      "outputs": [
        {
          "output_type": "stream",
          "name": "stdout",
          "text": [
            "Drive already mounted at /content/drive; to attempt to forcibly remount, call drive.mount(\"/content/drive\", force_remount=True).\n"
          ]
        }
      ],
      "source": [
        "from google.colab import drive\n",
        "drive.mount('/content/drive')"
      ]
    },
    {
      "cell_type": "code",
      "source": [
        "import numpy as np\n",
        "import pandas as pd\n",
        "import matplotlib.pyplot as plt\n",
        "import seaborn as sns"
      ],
      "metadata": {
        "id": "6uCALtIPyWjh"
      },
      "execution_count": 117,
      "outputs": []
    },
    {
      "cell_type": "code",
      "source": [
        "df = pd.read_csv('/content/drive/MyDrive/datasets/diabetes.csv')\n",
        "df"
      ],
      "metadata": {
        "colab": {
          "base_uri": "https://localhost:8080/",
          "height": 424
        },
        "id": "_OTEMBhlykCg",
        "outputId": "bbb8b9a4-6f01-4efb-a308-94db16eaea6f"
      },
      "execution_count": 118,
      "outputs": [
        {
          "output_type": "execute_result",
          "data": {
            "text/plain": [
              "     Pregnancies  Glucose  BloodPressure  SkinThickness  Insulin   BMI  \\\n",
              "0              6      148             72             35        0  33.6   \n",
              "1              1       85             66             29        0  26.6   \n",
              "2              8      183             64              0        0  23.3   \n",
              "3              1       89             66             23       94  28.1   \n",
              "4              0      137             40             35      168  43.1   \n",
              "..           ...      ...            ...            ...      ...   ...   \n",
              "763           10      101             76             48      180  32.9   \n",
              "764            2      122             70             27        0  36.8   \n",
              "765            5      121             72             23      112  26.2   \n",
              "766            1      126             60              0        0  30.1   \n",
              "767            1       93             70             31        0  30.4   \n",
              "\n",
              "     DiabetesPedigreeFunction  Age  Outcome  \n",
              "0                       0.627   50        1  \n",
              "1                       0.351   31        0  \n",
              "2                       0.672   32        1  \n",
              "3                       0.167   21        0  \n",
              "4                       2.288   33        1  \n",
              "..                        ...  ...      ...  \n",
              "763                     0.171   63        0  \n",
              "764                     0.340   27        0  \n",
              "765                     0.245   30        0  \n",
              "766                     0.349   47        1  \n",
              "767                     0.315   23        0  \n",
              "\n",
              "[768 rows x 9 columns]"
            ],
            "text/html": [
              "\n",
              "  <div id=\"df-d81109f4-4c26-4fe5-a27b-770f3e8db4c8\">\n",
              "    <div class=\"colab-df-container\">\n",
              "      <div>\n",
              "<style scoped>\n",
              "    .dataframe tbody tr th:only-of-type {\n",
              "        vertical-align: middle;\n",
              "    }\n",
              "\n",
              "    .dataframe tbody tr th {\n",
              "        vertical-align: top;\n",
              "    }\n",
              "\n",
              "    .dataframe thead th {\n",
              "        text-align: right;\n",
              "    }\n",
              "</style>\n",
              "<table border=\"1\" class=\"dataframe\">\n",
              "  <thead>\n",
              "    <tr style=\"text-align: right;\">\n",
              "      <th></th>\n",
              "      <th>Pregnancies</th>\n",
              "      <th>Glucose</th>\n",
              "      <th>BloodPressure</th>\n",
              "      <th>SkinThickness</th>\n",
              "      <th>Insulin</th>\n",
              "      <th>BMI</th>\n",
              "      <th>DiabetesPedigreeFunction</th>\n",
              "      <th>Age</th>\n",
              "      <th>Outcome</th>\n",
              "    </tr>\n",
              "  </thead>\n",
              "  <tbody>\n",
              "    <tr>\n",
              "      <th>0</th>\n",
              "      <td>6</td>\n",
              "      <td>148</td>\n",
              "      <td>72</td>\n",
              "      <td>35</td>\n",
              "      <td>0</td>\n",
              "      <td>33.6</td>\n",
              "      <td>0.627</td>\n",
              "      <td>50</td>\n",
              "      <td>1</td>\n",
              "    </tr>\n",
              "    <tr>\n",
              "      <th>1</th>\n",
              "      <td>1</td>\n",
              "      <td>85</td>\n",
              "      <td>66</td>\n",
              "      <td>29</td>\n",
              "      <td>0</td>\n",
              "      <td>26.6</td>\n",
              "      <td>0.351</td>\n",
              "      <td>31</td>\n",
              "      <td>0</td>\n",
              "    </tr>\n",
              "    <tr>\n",
              "      <th>2</th>\n",
              "      <td>8</td>\n",
              "      <td>183</td>\n",
              "      <td>64</td>\n",
              "      <td>0</td>\n",
              "      <td>0</td>\n",
              "      <td>23.3</td>\n",
              "      <td>0.672</td>\n",
              "      <td>32</td>\n",
              "      <td>1</td>\n",
              "    </tr>\n",
              "    <tr>\n",
              "      <th>3</th>\n",
              "      <td>1</td>\n",
              "      <td>89</td>\n",
              "      <td>66</td>\n",
              "      <td>23</td>\n",
              "      <td>94</td>\n",
              "      <td>28.1</td>\n",
              "      <td>0.167</td>\n",
              "      <td>21</td>\n",
              "      <td>0</td>\n",
              "    </tr>\n",
              "    <tr>\n",
              "      <th>4</th>\n",
              "      <td>0</td>\n",
              "      <td>137</td>\n",
              "      <td>40</td>\n",
              "      <td>35</td>\n",
              "      <td>168</td>\n",
              "      <td>43.1</td>\n",
              "      <td>2.288</td>\n",
              "      <td>33</td>\n",
              "      <td>1</td>\n",
              "    </tr>\n",
              "    <tr>\n",
              "      <th>...</th>\n",
              "      <td>...</td>\n",
              "      <td>...</td>\n",
              "      <td>...</td>\n",
              "      <td>...</td>\n",
              "      <td>...</td>\n",
              "      <td>...</td>\n",
              "      <td>...</td>\n",
              "      <td>...</td>\n",
              "      <td>...</td>\n",
              "    </tr>\n",
              "    <tr>\n",
              "      <th>763</th>\n",
              "      <td>10</td>\n",
              "      <td>101</td>\n",
              "      <td>76</td>\n",
              "      <td>48</td>\n",
              "      <td>180</td>\n",
              "      <td>32.9</td>\n",
              "      <td>0.171</td>\n",
              "      <td>63</td>\n",
              "      <td>0</td>\n",
              "    </tr>\n",
              "    <tr>\n",
              "      <th>764</th>\n",
              "      <td>2</td>\n",
              "      <td>122</td>\n",
              "      <td>70</td>\n",
              "      <td>27</td>\n",
              "      <td>0</td>\n",
              "      <td>36.8</td>\n",
              "      <td>0.340</td>\n",
              "      <td>27</td>\n",
              "      <td>0</td>\n",
              "    </tr>\n",
              "    <tr>\n",
              "      <th>765</th>\n",
              "      <td>5</td>\n",
              "      <td>121</td>\n",
              "      <td>72</td>\n",
              "      <td>23</td>\n",
              "      <td>112</td>\n",
              "      <td>26.2</td>\n",
              "      <td>0.245</td>\n",
              "      <td>30</td>\n",
              "      <td>0</td>\n",
              "    </tr>\n",
              "    <tr>\n",
              "      <th>766</th>\n",
              "      <td>1</td>\n",
              "      <td>126</td>\n",
              "      <td>60</td>\n",
              "      <td>0</td>\n",
              "      <td>0</td>\n",
              "      <td>30.1</td>\n",
              "      <td>0.349</td>\n",
              "      <td>47</td>\n",
              "      <td>1</td>\n",
              "    </tr>\n",
              "    <tr>\n",
              "      <th>767</th>\n",
              "      <td>1</td>\n",
              "      <td>93</td>\n",
              "      <td>70</td>\n",
              "      <td>31</td>\n",
              "      <td>0</td>\n",
              "      <td>30.4</td>\n",
              "      <td>0.315</td>\n",
              "      <td>23</td>\n",
              "      <td>0</td>\n",
              "    </tr>\n",
              "  </tbody>\n",
              "</table>\n",
              "<p>768 rows × 9 columns</p>\n",
              "</div>\n",
              "      <button class=\"colab-df-convert\" onclick=\"convertToInteractive('df-d81109f4-4c26-4fe5-a27b-770f3e8db4c8')\"\n",
              "              title=\"Convert this dataframe to an interactive table.\"\n",
              "              style=\"display:none;\">\n",
              "        \n",
              "  <svg xmlns=\"http://www.w3.org/2000/svg\" height=\"24px\"viewBox=\"0 0 24 24\"\n",
              "       width=\"24px\">\n",
              "    <path d=\"M0 0h24v24H0V0z\" fill=\"none\"/>\n",
              "    <path d=\"M18.56 5.44l.94 2.06.94-2.06 2.06-.94-2.06-.94-.94-2.06-.94 2.06-2.06.94zm-11 1L8.5 8.5l.94-2.06 2.06-.94-2.06-.94L8.5 2.5l-.94 2.06-2.06.94zm10 10l.94 2.06.94-2.06 2.06-.94-2.06-.94-.94-2.06-.94 2.06-2.06.94z\"/><path d=\"M17.41 7.96l-1.37-1.37c-.4-.4-.92-.59-1.43-.59-.52 0-1.04.2-1.43.59L10.3 9.45l-7.72 7.72c-.78.78-.78 2.05 0 2.83L4 21.41c.39.39.9.59 1.41.59.51 0 1.02-.2 1.41-.59l7.78-7.78 2.81-2.81c.8-.78.8-2.07 0-2.86zM5.41 20L4 18.59l7.72-7.72 1.47 1.35L5.41 20z\"/>\n",
              "  </svg>\n",
              "      </button>\n",
              "      \n",
              "  <style>\n",
              "    .colab-df-container {\n",
              "      display:flex;\n",
              "      flex-wrap:wrap;\n",
              "      gap: 12px;\n",
              "    }\n",
              "\n",
              "    .colab-df-convert {\n",
              "      background-color: #E8F0FE;\n",
              "      border: none;\n",
              "      border-radius: 50%;\n",
              "      cursor: pointer;\n",
              "      display: none;\n",
              "      fill: #1967D2;\n",
              "      height: 32px;\n",
              "      padding: 0 0 0 0;\n",
              "      width: 32px;\n",
              "    }\n",
              "\n",
              "    .colab-df-convert:hover {\n",
              "      background-color: #E2EBFA;\n",
              "      box-shadow: 0px 1px 2px rgba(60, 64, 67, 0.3), 0px 1px 3px 1px rgba(60, 64, 67, 0.15);\n",
              "      fill: #174EA6;\n",
              "    }\n",
              "\n",
              "    [theme=dark] .colab-df-convert {\n",
              "      background-color: #3B4455;\n",
              "      fill: #D2E3FC;\n",
              "    }\n",
              "\n",
              "    [theme=dark] .colab-df-convert:hover {\n",
              "      background-color: #434B5C;\n",
              "      box-shadow: 0px 1px 3px 1px rgba(0, 0, 0, 0.15);\n",
              "      filter: drop-shadow(0px 1px 2px rgba(0, 0, 0, 0.3));\n",
              "      fill: #FFFFFF;\n",
              "    }\n",
              "  </style>\n",
              "\n",
              "      <script>\n",
              "        const buttonEl =\n",
              "          document.querySelector('#df-d81109f4-4c26-4fe5-a27b-770f3e8db4c8 button.colab-df-convert');\n",
              "        buttonEl.style.display =\n",
              "          google.colab.kernel.accessAllowed ? 'block' : 'none';\n",
              "\n",
              "        async function convertToInteractive(key) {\n",
              "          const element = document.querySelector('#df-d81109f4-4c26-4fe5-a27b-770f3e8db4c8');\n",
              "          const dataTable =\n",
              "            await google.colab.kernel.invokeFunction('convertToInteractive',\n",
              "                                                     [key], {});\n",
              "          if (!dataTable) return;\n",
              "\n",
              "          const docLinkHtml = 'Like what you see? Visit the ' +\n",
              "            '<a target=\"_blank\" href=https://colab.research.google.com/notebooks/data_table.ipynb>data table notebook</a>'\n",
              "            + ' to learn more about interactive tables.';\n",
              "          element.innerHTML = '';\n",
              "          dataTable['output_type'] = 'display_data';\n",
              "          await google.colab.output.renderOutput(dataTable, element);\n",
              "          const docLink = document.createElement('div');\n",
              "          docLink.innerHTML = docLinkHtml;\n",
              "          element.appendChild(docLink);\n",
              "        }\n",
              "      </script>\n",
              "    </div>\n",
              "  </div>\n",
              "  "
            ]
          },
          "metadata": {},
          "execution_count": 118
        }
      ]
    },
    {
      "cell_type": "code",
      "source": [
        "df.info()"
      ],
      "metadata": {
        "colab": {
          "base_uri": "https://localhost:8080/"
        },
        "id": "FmjKQVH9ypoi",
        "outputId": "145d9f30-cf90-403c-e461-6f5529a5c724"
      },
      "execution_count": 119,
      "outputs": [
        {
          "output_type": "stream",
          "name": "stdout",
          "text": [
            "<class 'pandas.core.frame.DataFrame'>\n",
            "RangeIndex: 768 entries, 0 to 767\n",
            "Data columns (total 9 columns):\n",
            " #   Column                    Non-Null Count  Dtype  \n",
            "---  ------                    --------------  -----  \n",
            " 0   Pregnancies               768 non-null    int64  \n",
            " 1   Glucose                   768 non-null    int64  \n",
            " 2   BloodPressure             768 non-null    int64  \n",
            " 3   SkinThickness             768 non-null    int64  \n",
            " 4   Insulin                   768 non-null    int64  \n",
            " 5   BMI                       768 non-null    float64\n",
            " 6   DiabetesPedigreeFunction  768 non-null    float64\n",
            " 7   Age                       768 non-null    int64  \n",
            " 8   Outcome                   768 non-null    int64  \n",
            "dtypes: float64(2), int64(7)\n",
            "memory usage: 54.1 KB\n"
          ]
        }
      ]
    },
    {
      "cell_type": "code",
      "source": [
        "df[~df.duplicated()]"
      ],
      "metadata": {
        "colab": {
          "base_uri": "https://localhost:8080/",
          "height": 424
        },
        "id": "PnJaHA3Gy82S",
        "outputId": "ca59a5d0-6358-43b7-de78-7d2cf86c357a"
      },
      "execution_count": 120,
      "outputs": [
        {
          "output_type": "execute_result",
          "data": {
            "text/plain": [
              "     Pregnancies  Glucose  BloodPressure  SkinThickness  Insulin   BMI  \\\n",
              "0              6      148             72             35        0  33.6   \n",
              "1              1       85             66             29        0  26.6   \n",
              "2              8      183             64              0        0  23.3   \n",
              "3              1       89             66             23       94  28.1   \n",
              "4              0      137             40             35      168  43.1   \n",
              "..           ...      ...            ...            ...      ...   ...   \n",
              "763           10      101             76             48      180  32.9   \n",
              "764            2      122             70             27        0  36.8   \n",
              "765            5      121             72             23      112  26.2   \n",
              "766            1      126             60              0        0  30.1   \n",
              "767            1       93             70             31        0  30.4   \n",
              "\n",
              "     DiabetesPedigreeFunction  Age  Outcome  \n",
              "0                       0.627   50        1  \n",
              "1                       0.351   31        0  \n",
              "2                       0.672   32        1  \n",
              "3                       0.167   21        0  \n",
              "4                       2.288   33        1  \n",
              "..                        ...  ...      ...  \n",
              "763                     0.171   63        0  \n",
              "764                     0.340   27        0  \n",
              "765                     0.245   30        0  \n",
              "766                     0.349   47        1  \n",
              "767                     0.315   23        0  \n",
              "\n",
              "[768 rows x 9 columns]"
            ],
            "text/html": [
              "\n",
              "  <div id=\"df-c14fff13-f558-468c-a6db-ab287d348203\">\n",
              "    <div class=\"colab-df-container\">\n",
              "      <div>\n",
              "<style scoped>\n",
              "    .dataframe tbody tr th:only-of-type {\n",
              "        vertical-align: middle;\n",
              "    }\n",
              "\n",
              "    .dataframe tbody tr th {\n",
              "        vertical-align: top;\n",
              "    }\n",
              "\n",
              "    .dataframe thead th {\n",
              "        text-align: right;\n",
              "    }\n",
              "</style>\n",
              "<table border=\"1\" class=\"dataframe\">\n",
              "  <thead>\n",
              "    <tr style=\"text-align: right;\">\n",
              "      <th></th>\n",
              "      <th>Pregnancies</th>\n",
              "      <th>Glucose</th>\n",
              "      <th>BloodPressure</th>\n",
              "      <th>SkinThickness</th>\n",
              "      <th>Insulin</th>\n",
              "      <th>BMI</th>\n",
              "      <th>DiabetesPedigreeFunction</th>\n",
              "      <th>Age</th>\n",
              "      <th>Outcome</th>\n",
              "    </tr>\n",
              "  </thead>\n",
              "  <tbody>\n",
              "    <tr>\n",
              "      <th>0</th>\n",
              "      <td>6</td>\n",
              "      <td>148</td>\n",
              "      <td>72</td>\n",
              "      <td>35</td>\n",
              "      <td>0</td>\n",
              "      <td>33.6</td>\n",
              "      <td>0.627</td>\n",
              "      <td>50</td>\n",
              "      <td>1</td>\n",
              "    </tr>\n",
              "    <tr>\n",
              "      <th>1</th>\n",
              "      <td>1</td>\n",
              "      <td>85</td>\n",
              "      <td>66</td>\n",
              "      <td>29</td>\n",
              "      <td>0</td>\n",
              "      <td>26.6</td>\n",
              "      <td>0.351</td>\n",
              "      <td>31</td>\n",
              "      <td>0</td>\n",
              "    </tr>\n",
              "    <tr>\n",
              "      <th>2</th>\n",
              "      <td>8</td>\n",
              "      <td>183</td>\n",
              "      <td>64</td>\n",
              "      <td>0</td>\n",
              "      <td>0</td>\n",
              "      <td>23.3</td>\n",
              "      <td>0.672</td>\n",
              "      <td>32</td>\n",
              "      <td>1</td>\n",
              "    </tr>\n",
              "    <tr>\n",
              "      <th>3</th>\n",
              "      <td>1</td>\n",
              "      <td>89</td>\n",
              "      <td>66</td>\n",
              "      <td>23</td>\n",
              "      <td>94</td>\n",
              "      <td>28.1</td>\n",
              "      <td>0.167</td>\n",
              "      <td>21</td>\n",
              "      <td>0</td>\n",
              "    </tr>\n",
              "    <tr>\n",
              "      <th>4</th>\n",
              "      <td>0</td>\n",
              "      <td>137</td>\n",
              "      <td>40</td>\n",
              "      <td>35</td>\n",
              "      <td>168</td>\n",
              "      <td>43.1</td>\n",
              "      <td>2.288</td>\n",
              "      <td>33</td>\n",
              "      <td>1</td>\n",
              "    </tr>\n",
              "    <tr>\n",
              "      <th>...</th>\n",
              "      <td>...</td>\n",
              "      <td>...</td>\n",
              "      <td>...</td>\n",
              "      <td>...</td>\n",
              "      <td>...</td>\n",
              "      <td>...</td>\n",
              "      <td>...</td>\n",
              "      <td>...</td>\n",
              "      <td>...</td>\n",
              "    </tr>\n",
              "    <tr>\n",
              "      <th>763</th>\n",
              "      <td>10</td>\n",
              "      <td>101</td>\n",
              "      <td>76</td>\n",
              "      <td>48</td>\n",
              "      <td>180</td>\n",
              "      <td>32.9</td>\n",
              "      <td>0.171</td>\n",
              "      <td>63</td>\n",
              "      <td>0</td>\n",
              "    </tr>\n",
              "    <tr>\n",
              "      <th>764</th>\n",
              "      <td>2</td>\n",
              "      <td>122</td>\n",
              "      <td>70</td>\n",
              "      <td>27</td>\n",
              "      <td>0</td>\n",
              "      <td>36.8</td>\n",
              "      <td>0.340</td>\n",
              "      <td>27</td>\n",
              "      <td>0</td>\n",
              "    </tr>\n",
              "    <tr>\n",
              "      <th>765</th>\n",
              "      <td>5</td>\n",
              "      <td>121</td>\n",
              "      <td>72</td>\n",
              "      <td>23</td>\n",
              "      <td>112</td>\n",
              "      <td>26.2</td>\n",
              "      <td>0.245</td>\n",
              "      <td>30</td>\n",
              "      <td>0</td>\n",
              "    </tr>\n",
              "    <tr>\n",
              "      <th>766</th>\n",
              "      <td>1</td>\n",
              "      <td>126</td>\n",
              "      <td>60</td>\n",
              "      <td>0</td>\n",
              "      <td>0</td>\n",
              "      <td>30.1</td>\n",
              "      <td>0.349</td>\n",
              "      <td>47</td>\n",
              "      <td>1</td>\n",
              "    </tr>\n",
              "    <tr>\n",
              "      <th>767</th>\n",
              "      <td>1</td>\n",
              "      <td>93</td>\n",
              "      <td>70</td>\n",
              "      <td>31</td>\n",
              "      <td>0</td>\n",
              "      <td>30.4</td>\n",
              "      <td>0.315</td>\n",
              "      <td>23</td>\n",
              "      <td>0</td>\n",
              "    </tr>\n",
              "  </tbody>\n",
              "</table>\n",
              "<p>768 rows × 9 columns</p>\n",
              "</div>\n",
              "      <button class=\"colab-df-convert\" onclick=\"convertToInteractive('df-c14fff13-f558-468c-a6db-ab287d348203')\"\n",
              "              title=\"Convert this dataframe to an interactive table.\"\n",
              "              style=\"display:none;\">\n",
              "        \n",
              "  <svg xmlns=\"http://www.w3.org/2000/svg\" height=\"24px\"viewBox=\"0 0 24 24\"\n",
              "       width=\"24px\">\n",
              "    <path d=\"M0 0h24v24H0V0z\" fill=\"none\"/>\n",
              "    <path d=\"M18.56 5.44l.94 2.06.94-2.06 2.06-.94-2.06-.94-.94-2.06-.94 2.06-2.06.94zm-11 1L8.5 8.5l.94-2.06 2.06-.94-2.06-.94L8.5 2.5l-.94 2.06-2.06.94zm10 10l.94 2.06.94-2.06 2.06-.94-2.06-.94-.94-2.06-.94 2.06-2.06.94z\"/><path d=\"M17.41 7.96l-1.37-1.37c-.4-.4-.92-.59-1.43-.59-.52 0-1.04.2-1.43.59L10.3 9.45l-7.72 7.72c-.78.78-.78 2.05 0 2.83L4 21.41c.39.39.9.59 1.41.59.51 0 1.02-.2 1.41-.59l7.78-7.78 2.81-2.81c.8-.78.8-2.07 0-2.86zM5.41 20L4 18.59l7.72-7.72 1.47 1.35L5.41 20z\"/>\n",
              "  </svg>\n",
              "      </button>\n",
              "      \n",
              "  <style>\n",
              "    .colab-df-container {\n",
              "      display:flex;\n",
              "      flex-wrap:wrap;\n",
              "      gap: 12px;\n",
              "    }\n",
              "\n",
              "    .colab-df-convert {\n",
              "      background-color: #E8F0FE;\n",
              "      border: none;\n",
              "      border-radius: 50%;\n",
              "      cursor: pointer;\n",
              "      display: none;\n",
              "      fill: #1967D2;\n",
              "      height: 32px;\n",
              "      padding: 0 0 0 0;\n",
              "      width: 32px;\n",
              "    }\n",
              "\n",
              "    .colab-df-convert:hover {\n",
              "      background-color: #E2EBFA;\n",
              "      box-shadow: 0px 1px 2px rgba(60, 64, 67, 0.3), 0px 1px 3px 1px rgba(60, 64, 67, 0.15);\n",
              "      fill: #174EA6;\n",
              "    }\n",
              "\n",
              "    [theme=dark] .colab-df-convert {\n",
              "      background-color: #3B4455;\n",
              "      fill: #D2E3FC;\n",
              "    }\n",
              "\n",
              "    [theme=dark] .colab-df-convert:hover {\n",
              "      background-color: #434B5C;\n",
              "      box-shadow: 0px 1px 3px 1px rgba(0, 0, 0, 0.15);\n",
              "      filter: drop-shadow(0px 1px 2px rgba(0, 0, 0, 0.3));\n",
              "      fill: #FFFFFF;\n",
              "    }\n",
              "  </style>\n",
              "\n",
              "      <script>\n",
              "        const buttonEl =\n",
              "          document.querySelector('#df-c14fff13-f558-468c-a6db-ab287d348203 button.colab-df-convert');\n",
              "        buttonEl.style.display =\n",
              "          google.colab.kernel.accessAllowed ? 'block' : 'none';\n",
              "\n",
              "        async function convertToInteractive(key) {\n",
              "          const element = document.querySelector('#df-c14fff13-f558-468c-a6db-ab287d348203');\n",
              "          const dataTable =\n",
              "            await google.colab.kernel.invokeFunction('convertToInteractive',\n",
              "                                                     [key], {});\n",
              "          if (!dataTable) return;\n",
              "\n",
              "          const docLinkHtml = 'Like what you see? Visit the ' +\n",
              "            '<a target=\"_blank\" href=https://colab.research.google.com/notebooks/data_table.ipynb>data table notebook</a>'\n",
              "            + ' to learn more about interactive tables.';\n",
              "          element.innerHTML = '';\n",
              "          dataTable['output_type'] = 'display_data';\n",
              "          await google.colab.output.renderOutput(dataTable, element);\n",
              "          const docLink = document.createElement('div');\n",
              "          docLink.innerHTML = docLinkHtml;\n",
              "          element.appendChild(docLink);\n",
              "        }\n",
              "      </script>\n",
              "    </div>\n",
              "  </div>\n",
              "  "
            ]
          },
          "metadata": {},
          "execution_count": 120
        }
      ]
    },
    {
      "cell_type": "markdown",
      "source": [
        "**Data Visualization**"
      ],
      "metadata": {
        "id": "GuwZvdxA1xaA"
      }
    },
    {
      "cell_type": "code",
      "source": [
        "df.columns"
      ],
      "metadata": {
        "colab": {
          "base_uri": "https://localhost:8080/"
        },
        "id": "eLkwqR8WzPY5",
        "outputId": "8e414880-f4f2-45e3-a71f-0fa9935ed44b"
      },
      "execution_count": 121,
      "outputs": [
        {
          "output_type": "execute_result",
          "data": {
            "text/plain": [
              "Index(['Pregnancies', 'Glucose', 'BloodPressure', 'SkinThickness', 'Insulin',\n",
              "       'BMI', 'DiabetesPedigreeFunction', 'Age', 'Outcome'],\n",
              "      dtype='object')"
            ]
          },
          "metadata": {},
          "execution_count": 121
        }
      ]
    },
    {
      "cell_type": "code",
      "source": [
        "fig, ax = plt.subplots(1,3, figsize=(20,5))\n",
        "sns.histplot(df['Pregnancies'], ax=ax[0], kde=True)\n",
        "sns.histplot(df['Glucose'], ax=ax[1], kde=True)\n",
        "sns.histplot(df['BloodPressure'], ax=ax[2], kde=True)\n",
        "\n",
        "fig, ax = plt.subplots(1,3, figsize=(20,5))\n",
        "sns.histplot(df['SkinThickness'], ax=ax[0], kde=True)\n",
        "sns.histplot(df['Insulin'], ax=ax[1], kde=True)\n",
        "sns.histplot(df['BMI'], ax=ax[2], kde=True)\n",
        "\n",
        "fig, ax = plt.subplots(1,2, figsize=(20,5))\n",
        "sns.histplot(df['DiabetesPedigreeFunction'], ax=ax[0], kde=True)\n",
        "sns.histplot(df['Age'], ax=ax[1], kde=True)\n",
        "plt.show()"
      ],
      "metadata": {
        "colab": {
          "base_uri": "https://localhost:8080/",
          "height": 970
        },
        "id": "-IZWl7Ef2FPb",
        "outputId": "0358c497-f255-432a-f170-6c7a7c602793"
      },
      "execution_count": 122,
      "outputs": [
        {
          "output_type": "display_data",
          "data": {
            "text/plain": [
              "<Figure size 1440x360 with 3 Axes>"
            ],
            "image/png": "[encoded data removed]"
          },
          "metadata": {
            "needs_background": "light"
          }
        },
        {
          "output_type": "display_data",
          "data": {
            "text/plain": [
              "<Figure size 1440x360 with 3 Axes>"
            ],
            "image/png": "[encoded data removed]"
          },
          "metadata": {
            "needs_background": "light"
          }
        },
        {
          "output_type": "display_data",
          "data": {
            "text/plain": [
              "<Figure size 1440x360 with 2 Axes>"
            ],
            "image/png": "[encoded data removed]"
          },
          "metadata": {
            "needs_background": "light"
          }
        }
      ]
    },
    {
      "cell_type": "code",
      "source": [
        "sns.scatterplot(x='BMI', y='Age', hue='Outcome',data=df)\n",
        "plt.show()"
      ],
      "metadata": {
        "colab": {
          "base_uri": "https://localhost:8080/",
          "height": 279
        },
        "id": "8p_4sGKs3LFw",
        "outputId": "30d7f8c3-9b5d-4257-b6a7-8af3c838f2ea"
      },
      "execution_count": 123,
      "outputs": [
        {
          "output_type": "display_data",
          "data": {
            "text/plain": [
              "<Figure size 432x288 with 1 Axes>"
            ],
            "image/png": "[encoded data removed]"
          },
          "metadata": {
            "needs_background": "light"
          }
        }
      ]
    },
    {
      "cell_type": "code",
      "source": [
        "sns.countplot(x='Outcome', data=df)\n",
        "plt.show()"
      ],
      "metadata": {
        "colab": {
          "base_uri": "https://localhost:8080/",
          "height": 279
        },
        "id": "L7M4bLAj4TBN",
        "outputId": "c228f0b4-208a-47c8-d7e5-870576eb755d"
      },
      "execution_count": 124,
      "outputs": [
        {
          "output_type": "display_data",
          "data": {
            "text/plain": [
              "<Figure size 432x288 with 1 Axes>"
            ],
            "image/png": "[encoded data removed]"
          },
          "metadata": {
            "needs_background": "light"
          }
        }
      ]
    },
    {
      "cell_type": "code",
      "source": [
        "df['Outcome'].value_counts()"
      ],
      "metadata": {
        "colab": {
          "base_uri": "https://localhost:8080/"
        },
        "id": "zivmWvZb4jdj",
        "outputId": "97dea282-5344-4f35-b8b7-6164937767b2"
      },
      "execution_count": 125,
      "outputs": [
        {
          "output_type": "execute_result",
          "data": {
            "text/plain": [
              "0    500\n",
              "1    268\n",
              "Name: Outcome, dtype: int64"
            ]
          },
          "metadata": {},
          "execution_count": 125
        }
      ]
    },
    {
      "cell_type": "code",
      "source": [
        "df.corr()"
      ],
      "metadata": {
        "colab": {
          "base_uri": "https://localhost:8080/",
          "height": 332
        },
        "id": "qtNoSJa042bl",
        "outputId": "9ea01974-fc62-40d4-cd19-260a8ac2bf82"
      },
      "execution_count": 126,
      "outputs": [
        {
          "output_type": "execute_result",
          "data": {
            "text/plain": [
              "                          Pregnancies   Glucose  BloodPressure  SkinThickness  \\\n",
              "Pregnancies                  1.000000  0.129459       0.141282      -0.081672   \n",
              "Glucose                      0.129459  1.000000       0.152590       0.057328   \n",
              "BloodPressure                0.141282  0.152590       1.000000       0.207371   \n",
              "SkinThickness               -0.081672  0.057328       0.207371       1.000000   \n",
              "Insulin                     -0.073535  0.331357       0.088933       0.436783   \n",
              "BMI                          0.017683  0.221071       0.281805       0.392573   \n",
              "DiabetesPedigreeFunction    -0.033523  0.137337       0.041265       0.183928   \n",
              "Age                          0.544341  0.263514       0.239528      -0.113970   \n",
              "Outcome                      0.221898  0.466581       0.065068       0.074752   \n",
              "\n",
              "                           Insulin       BMI  DiabetesPedigreeFunction  \\\n",
              "Pregnancies              -0.073535  0.017683                 -0.033523   \n",
              "Glucose                   0.331357  0.221071                  0.137337   \n",
              "BloodPressure             0.088933  0.281805                  0.041265   \n",
              "SkinThickness             0.436783  0.392573                  0.183928   \n",
              "Insulin                   1.000000  0.197859                  0.185071   \n",
              "BMI                       0.197859  1.000000                  0.140647   \n",
              "DiabetesPedigreeFunction  0.185071  0.140647                  1.000000   \n",
              "Age                      -0.042163  0.036242                  0.033561   \n",
              "Outcome                   0.130548  0.292695                  0.173844   \n",
              "\n",
              "                               Age   Outcome  \n",
              "Pregnancies               0.544341  0.221898  \n",
              "Glucose                   0.263514  0.466581  \n",
              "BloodPressure             0.239528  0.065068  \n",
              "SkinThickness            -0.113970  0.074752  \n",
              "Insulin                  -0.042163  0.130548  \n",
              "BMI                       0.036242  0.292695  \n",
              "DiabetesPedigreeFunction  0.033561  0.173844  \n",
              "Age                       1.000000  0.238356  \n",
              "Outcome                   0.238356  1.000000  "
            ],
            "text/html": [
              "\n",
              "  <div id=\"df-c0bcc12e-f12c-424a-8e0f-50dcb9cad463\">\n",
              "    <div class=\"colab-df-container\">\n",
              "      <div>\n",
              "<style scoped>\n",
              "    .dataframe tbody tr th:only-of-type {\n",
              "        vertical-align: middle;\n",
              "    }\n",
              "\n",
              "    .dataframe tbody tr th {\n",
              "        vertical-align: top;\n",
              "    }\n",
              "\n",
              "    .dataframe thead th {\n",
              "        text-align: right;\n",
              "    }\n",
              "</style>\n",
              "<table border=\"1\" class=\"dataframe\">\n",
              "  <thead>\n",
              "    <tr style=\"text-align: right;\">\n",
              "      <th></th>\n",
              "      <th>Pregnancies</th>\n",
              "      <th>Glucose</th>\n",
              "      <th>BloodPressure</th>\n",
              "      <th>SkinThickness</th>\n",
              "      <th>Insulin</th>\n",
              "      <th>BMI</th>\n",
              "      <th>DiabetesPedigreeFunction</th>\n",
              "      <th>Age</th>\n",
              "      <th>Outcome</th>\n",
              "    </tr>\n",
              "  </thead>\n",
              "  <tbody>\n",
              "    <tr>\n",
              "      <th>Pregnancies</th>\n",
              "      <td>1.000000</td>\n",
              "      <td>0.129459</td>\n",
              "      <td>0.141282</td>\n",
              "      <td>-0.081672</td>\n",
              "      <td>-0.073535</td>\n",
              "      <td>0.017683</td>\n",
              "      <td>-0.033523</td>\n",
              "      <td>0.544341</td>\n",
              "      <td>0.221898</td>\n",
              "    </tr>\n",
              "    <tr>\n",
              "      <th>Glucose</th>\n",
              "      <td>0.129459</td>\n",
              "      <td>1.000000</td>\n",
              "      <td>0.152590</td>\n",
              "      <td>0.057328</td>\n",
              "      <td>0.331357</td>\n",
              "      <td>0.221071</td>\n",
              "      <td>0.137337</td>\n",
              "      <td>0.263514</td>\n",
              "      <td>0.466581</td>\n",
              "    </tr>\n",
              "    <tr>\n",
              "      <th>BloodPressure</th>\n",
              "      <td>0.141282</td>\n",
              "      <td>0.152590</td>\n",
              "      <td>1.000000</td>\n",
              "      <td>0.207371</td>\n",
              "      <td>0.088933</td>\n",
              "      <td>0.281805</td>\n",
              "      <td>0.041265</td>\n",
              "      <td>0.239528</td>\n",
              "      <td>0.065068</td>\n",
              "    </tr>\n",
              "    <tr>\n",
              "      <th>SkinThickness</th>\n",
              "      <td>-0.081672</td>\n",
              "      <td>0.057328</td>\n",
              "      <td>0.207371</td>\n",
              "      <td>1.000000</td>\n",
              "      <td>0.436783</td>\n",
              "      <td>0.392573</td>\n",
              "      <td>0.183928</td>\n",
              "      <td>-0.113970</td>\n",
              "      <td>0.074752</td>\n",
              "    </tr>\n",
              "    <tr>\n",
              "      <th>Insulin</th>\n",
              "      <td>-0.073535</td>\n",
              "      <td>0.331357</td>\n",
              "      <td>0.088933</td>\n",
              "      <td>0.436783</td>\n",
              "      <td>1.000000</td>\n",
              "      <td>0.197859</td>\n",
              "      <td>0.185071</td>\n",
              "      <td>-0.042163</td>\n",
              "      <td>0.130548</td>\n",
              "    </tr>\n",
              "    <tr>\n",
              "      <th>BMI</th>\n",
              "      <td>0.017683</td>\n",
              "      <td>0.221071</td>\n",
              "      <td>0.281805</td>\n",
              "      <td>0.392573</td>\n",
              "      <td>0.197859</td>\n",
              "      <td>1.000000</td>\n",
              "      <td>0.140647</td>\n",
              "      <td>0.036242</td>\n",
              "      <td>0.292695</td>\n",
              "    </tr>\n",
              "    <tr>\n",
              "      <th>DiabetesPedigreeFunction</th>\n",
              "      <td>-0.033523</td>\n",
              "      <td>0.137337</td>\n",
              "      <td>0.041265</td>\n",
              "      <td>0.183928</td>\n",
              "      <td>0.185071</td>\n",
              "      <td>0.140647</td>\n",
              "      <td>1.000000</td>\n",
              "      <td>0.033561</td>\n",
              "      <td>0.173844</td>\n",
              "    </tr>\n",
              "    <tr>\n",
              "      <th>Age</th>\n",
              "      <td>0.544341</td>\n",
              "      <td>0.263514</td>\n",
              "      <td>0.239528</td>\n",
              "      <td>-0.113970</td>\n",
              "      <td>-0.042163</td>\n",
              "      <td>0.036242</td>\n",
              "      <td>0.033561</td>\n",
              "      <td>1.000000</td>\n",
              "      <td>0.238356</td>\n",
              "    </tr>\n",
              "    <tr>\n",
              "      <th>Outcome</th>\n",
              "      <td>0.221898</td>\n",
              "      <td>0.466581</td>\n",
              "      <td>0.065068</td>\n",
              "      <td>0.074752</td>\n",
              "      <td>0.130548</td>\n",
              "      <td>0.292695</td>\n",
              "      <td>0.173844</td>\n",
              "      <td>0.238356</td>\n",
              "      <td>1.000000</td>\n",
              "    </tr>\n",
              "  </tbody>\n",
              "</table>\n",
              "</div>\n",
              "      <button class=\"colab-df-convert\" onclick=\"convertToInteractive('df-c0bcc12e-f12c-424a-8e0f-50dcb9cad463')\"\n",
              "              title=\"Convert this dataframe to an interactive table.\"\n",
              "              style=\"display:none;\">\n",
              "        \n",
              "  <svg xmlns=\"http://www.w3.org/2000/svg\" height=\"24px\"viewBox=\"0 0 24 24\"\n",
              "       width=\"24px\">\n",
              "    <path d=\"M0 0h24v24H0V0z\" fill=\"none\"/>\n",
              "    <path d=\"M18.56 5.44l.94 2.06.94-2.06 2.06-.94-2.06-.94-.94-2.06-.94 2.06-2.06.94zm-11 1L8.5 8.5l.94-2.06 2.06-.94-2.06-.94L8.5 2.5l-.94 2.06-2.06.94zm10 10l.94 2.06.94-2.06 2.06-.94-2.06-.94-.94-2.06-.94 2.06-2.06.94z\"/><path d=\"M17.41 7.96l-1.37-1.37c-.4-.4-.92-.59-1.43-.59-.52 0-1.04.2-1.43.59L10.3 9.45l-7.72 7.72c-.78.78-.78 2.05 0 2.83L4 21.41c.39.39.9.59 1.41.59.51 0 1.02-.2 1.41-.59l7.78-7.78 2.81-2.81c.8-.78.8-2.07 0-2.86zM5.41 20L4 18.59l7.72-7.72 1.47 1.35L5.41 20z\"/>\n",
              "  </svg>\n",
              "      </button>\n",
              "      \n",
              "  <style>\n",
              "    .colab-df-container {\n",
              "      display:flex;\n",
              "      flex-wrap:wrap;\n",
              "      gap: 12px;\n",
              "    }\n",
              "\n",
              "    .colab-df-convert {\n",
              "      background-color: #E8F0FE;\n",
              "      border: none;\n",
              "      border-radius: 50%;\n",
              "      cursor: pointer;\n",
              "      display: none;\n",
              "      fill: #1967D2;\n",
              "      height: 32px;\n",
              "      padding: 0 0 0 0;\n",
              "      width: 32px;\n",
              "    }\n",
              "\n",
              "    .colab-df-convert:hover {\n",
              "      background-color: #E2EBFA;\n",
              "      box-shadow: 0px 1px 2px rgba(60, 64, 67, 0.3), 0px 1px 3px 1px rgba(60, 64, 67, 0.15);\n",
              "      fill: #174EA6;\n",
              "    }\n",
              "\n",
              "    [theme=dark] .colab-df-convert {\n",
              "      background-color: #3B4455;\n",
              "      fill: #D2E3FC;\n",
              "    }\n",
              "\n",
              "    [theme=dark] .colab-df-convert:hover {\n",
              "      background-color: #434B5C;\n",
              "      box-shadow: 0px 1px 3px 1px rgba(0, 0, 0, 0.15);\n",
              "      filter: drop-shadow(0px 1px 2px rgba(0, 0, 0, 0.3));\n",
              "      fill: #FFFFFF;\n",
              "    }\n",
              "  </style>\n",
              "\n",
              "      <script>\n",
              "        const buttonEl =\n",
              "          document.querySelector('#df-c0bcc12e-f12c-424a-8e0f-50dcb9cad463 button.colab-df-convert');\n",
              "        buttonEl.style.display =\n",
              "          google.colab.kernel.accessAllowed ? 'block' : 'none';\n",
              "\n",
              "        async function convertToInteractive(key) {\n",
              "          const element = document.querySelector('#df-c0bcc12e-f12c-424a-8e0f-50dcb9cad463');\n",
              "          const dataTable =\n",
              "            await google.colab.kernel.invokeFunction('convertToInteractive',\n",
              "                                                     [key], {});\n",
              "          if (!dataTable) return;\n",
              "\n",
              "          const docLinkHtml = 'Like what you see? Visit the ' +\n",
              "            '<a target=\"_blank\" href=https://colab.research.google.com/notebooks/data_table.ipynb>data table notebook</a>'\n",
              "            + ' to learn more about interactive tables.';\n",
              "          element.innerHTML = '';\n",
              "          dataTable['output_type'] = 'display_data';\n",
              "          await google.colab.output.renderOutput(dataTable, element);\n",
              "          const docLink = document.createElement('div');\n",
              "          docLink.innerHTML = docLinkHtml;\n",
              "          element.appendChild(docLink);\n",
              "        }\n",
              "      </script>\n",
              "    </div>\n",
              "  </div>\n",
              "  "
            ]
          },
          "metadata": {},
          "execution_count": 126
        }
      ]
    },
    {
      "cell_type": "markdown",
      "source": [
        "**Train - Test Split**"
      ],
      "metadata": {
        "id": "3psf3Blu5bnN"
      }
    },
    {
      "cell_type": "code",
      "source": [
        "X = df.iloc[:,:-1]\n",
        "y = df.iloc[:,-1]"
      ],
      "metadata": {
        "id": "aGJtmyyG5H8e"
      },
      "execution_count": 127,
      "outputs": []
    },
    {
      "cell_type": "code",
      "source": [
        "from sklearn.model_selection import train_test_split"
      ],
      "metadata": {
        "id": "cSuHgr9M5sA7"
      },
      "execution_count": 128,
      "outputs": []
    },
    {
      "cell_type": "code",
      "source": [
        "X_train, x_test, y_train, y_test = train_test_split(X,y,test_size=0.2, random_state=10)"
      ],
      "metadata": {
        "id": "8703hJ3750Bw"
      },
      "execution_count": 129,
      "outputs": []
    },
    {
      "cell_type": "code",
      "source": [
        "y_train.value_counts()"
      ],
      "metadata": {
        "colab": {
          "base_uri": "https://localhost:8080/"
        },
        "id": "kX5_hUvR6DqZ",
        "outputId": "1cd6cdf6-a10d-4036-ef2d-b0d93f00c730"
      },
      "execution_count": 130,
      "outputs": [
        {
          "output_type": "execute_result",
          "data": {
            "text/plain": [
              "0    405\n",
              "1    209\n",
              "Name: Outcome, dtype: int64"
            ]
          },
          "metadata": {},
          "execution_count": 130
        }
      ]
    },
    {
      "cell_type": "code",
      "source": [
        "y_test.value_counts()"
      ],
      "metadata": {
        "colab": {
          "base_uri": "https://localhost:8080/"
        },
        "id": "gE1YDOna6Hk3",
        "outputId": "73d12e93-56ad-461c-dcd2-57e7ab8ada2b"
      },
      "execution_count": 131,
      "outputs": [
        {
          "output_type": "execute_result",
          "data": {
            "text/plain": [
              "0    95\n",
              "1    59\n",
              "Name: Outcome, dtype: int64"
            ]
          },
          "metadata": {},
          "execution_count": 131
        }
      ]
    },
    {
      "cell_type": "markdown",
      "source": [
        "Balancing Data \\\n",
        "bertujuan agar model tidak cendrung ke nol"
      ],
      "metadata": {
        "id": "Mf0Cfb2-6ffg"
      }
    },
    {
      "cell_type": "code",
      "source": [
        "from imblearn.over_sampling import SMOTE"
      ],
      "metadata": {
        "id": "5r3Nt-VC6dyJ"
      },
      "execution_count": 132,
      "outputs": []
    },
    {
      "cell_type": "code",
      "source": [
        "sm = SMOTE()"
      ],
      "metadata": {
        "id": "4xwQJ54g9QNX"
      },
      "execution_count": 133,
      "outputs": []
    },
    {
      "cell_type": "code",
      "source": [
        "X_res, y_res = sm.fit_resample(X_train, y_train)"
      ],
      "metadata": {
        "id": "QYHH2DXV9Xml"
      },
      "execution_count": 134,
      "outputs": []
    },
    {
      "cell_type": "code",
      "source": [
        "y_res.value_counts()"
      ],
      "metadata": {
        "colab": {
          "base_uri": "https://localhost:8080/"
        },
        "id": "zFfoV9eu91an",
        "outputId": "6cbdb9bd-3720-4dff-ec67-04485264fc0a"
      },
      "execution_count": 135,
      "outputs": [
        {
          "output_type": "execute_result",
          "data": {
            "text/plain": [
              "1    405\n",
              "0    405\n",
              "Name: Outcome, dtype: int64"
            ]
          },
          "metadata": {},
          "execution_count": 135
        }
      ]
    },
    {
      "cell_type": "markdown",
      "source": [
        "**Data Preprocessing**"
      ],
      "metadata": {
        "id": "EYAj2Lbr-VMP"
      }
    },
    {
      "cell_type": "code",
      "source": [
        "from sklearn.preprocessing import MinMaxScaler"
      ],
      "metadata": {
        "id": "PifqYCv4960g"
      },
      "execution_count": 136,
      "outputs": []
    },
    {
      "cell_type": "code",
      "source": [
        "scaler = MinMaxScaler()\n",
        "scaler.fit(X_res)\n",
        "X_res_train = scaler.transform(X_res)\n",
        "X_test = scaler.transform(x_test) "
      ],
      "metadata": {
        "id": "ki0KnoYZ-kFx"
      },
      "execution_count": 137,
      "outputs": []
    },
    {
      "cell_type": "code",
      "source": [
        "(X_res_train,X_test)"
      ],
      "metadata": {
        "colab": {
          "base_uri": "https://localhost:8080/"
        },
        "id": "tU4TORrA_FLy",
        "outputId": "190cea05-1d48-4283-fc55-6be533aafaec"
      },
      "execution_count": 138,
      "outputs": [
        {
          "output_type": "execute_result",
          "data": {
            "text/plain": [
              "(array([[0.        , 0.81407035, 0.62295082, ..., 0.7928465 , 0.29077711,\n",
              "         0.06666667],\n",
              "        [0.11764706, 0.43718593, 0.        , ..., 0.43070045, 0.29675491,\n",
              "         0.06666667],\n",
              "        [0.        , 0.68844221, 0.55737705, ..., 0.36959762, 0.02775406,\n",
              "         0.        ],\n",
              "        ...,\n",
              "        [0.41176471, 0.60301508, 0.60655738, ..., 0.59335008, 0.28816672,\n",
              "         0.33333333],\n",
              "        [0.        , 0.91457286, 0.77868852, ..., 0.59930944, 0.21710598,\n",
              "         0.15      ],\n",
              "        [0.11764706, 0.74371859, 0.58196721, ..., 0.39568186, 0.12885164,\n",
              "         0.1       ]]),\n",
              " array([[0.23529412, 0.77386935, 0.59016393, ..., 0.46646796, 0.11101623,\n",
              "         0.26666667],\n",
              "        [0.11764706, 0.56281407, 0.70491803, ..., 0.57228018, 0.07173356,\n",
              "         0.11666667],\n",
              "        [0.05882353, 0.67839196, 0.44262295, ..., 0.39791356, 0.26003416,\n",
              "         0.68333333],\n",
              "        ...,\n",
              "        [0.47058824, 0.42713568, 0.45081967, ..., 0.36363636, 0.02476516,\n",
              "         0.35      ],\n",
              "        [0.29411765, 0.65326633, 0.67213115, ..., 0.58271237, 0.37489325,\n",
              "         0.26666667],\n",
              "        [0.17647059, 0.49748744, 0.44262295, ..., 0.38152012, 0.0324509 ,\n",
              "         0.05      ]]))"
            ]
          },
          "metadata": {},
          "execution_count": 138
        }
      ]
    },
    {
      "cell_type": "markdown",
      "source": [
        "**Modelling**"
      ],
      "metadata": {
        "id": "iuHHVkH-__D6"
      }
    },
    {
      "cell_type": "code",
      "source": [
        "from keras.models import Sequential\n",
        "from keras.layers import Dense, Conv2D, LSTM "
      ],
      "metadata": {
        "id": "91i2Bbc1_LvW"
      },
      "execution_count": 139,
      "outputs": []
    },
    {
      "cell_type": "code",
      "source": [
        "model = Sequential()\n",
        "model.add(Dense(15, input_dim=8,activation='relu'))\n",
        "model.add(Dense(40, activation='relu'))\n",
        "model.add(Dense(2, input_dim=8,activation='softmax')) # output layer, actv softmex karena klasifikasi "
      ],
      "metadata": {
        "id": "FAylLtCZAR2N"
      },
      "execution_count": 140,
      "outputs": []
    },
    {
      "cell_type": "code",
      "source": [
        "model.summary()"
      ],
      "metadata": {
        "colab": {
          "base_uri": "https://localhost:8080/"
        },
        "id": "0FSlOuZ2BBqP",
        "outputId": "8bf7cc34-d014-4fff-92c1-02097581258b"
      },
      "execution_count": 141,
      "outputs": [
        {
          "output_type": "stream",
          "name": "stdout",
          "text": [
            "Model: \"sequential_4\"\n",
            "_________________________________________________________________\n",
            " Layer (type)                Output Shape              Param #   \n",
            "=================================================================\n",
            " dense_12 (Dense)            (None, 15)                135       \n",
            "                                                                 \n",
            " dense_13 (Dense)            (None, 40)                640       \n",
            "                                                                 \n",
            " dense_14 (Dense)            (None, 2)                 82        \n",
            "                                                                 \n",
            "=================================================================\n",
            "Total params: 857\n",
            "Trainable params: 857\n",
            "Non-trainable params: 0\n",
            "_________________________________________________________________\n"
          ]
        }
      ]
    },
    {
      "cell_type": "markdown",
      "source": [
        "dense = 8+1 * 15 = 135 \\\n",
        "dense_1 = 15+1 * 40 = 640 \\\n",
        "dense_2 = 40+1 * 2 = 82"
      ],
      "metadata": {
        "id": "PLtZ487GCBIQ"
      }
    },
    {
      "cell_type": "code",
      "source": [
        "model.compile(loss='sparse_categorical_crossentropy', optimizer='adam', metrics=['accuracy'])"
      ],
      "metadata": {
        "id": "x00rkN51MhPV"
      },
      "execution_count": 142,
      "outputs": []
    },
    {
      "cell_type": "code",
      "source": [
        "from keras.callbacks import ModelCheckpoint\n",
        "import os"
      ],
      "metadata": {
        "id": "4a3Cy5yxBDCe"
      },
      "execution_count": 143,
      "outputs": []
    },
    {
      "cell_type": "code",
      "source": [
        "checkpoint_path = '/content/drive/MyDrive/datasets/Hasil Epoch/cp-{epoch:04d}.hdf5'\n",
        "checkpoint_dir = os.path.dirname(checkpoint_path)\n",
        "\n",
        "cp_callback = ModelCheckpoint(\n",
        "    checkpoint_path, verbose=1, save_best_only=True, save_freq = 'epoch'\n",
        ")"
      ],
      "metadata": {
        "id": "SNmCIGefJeHo"
      },
      "execution_count": 144,
      "outputs": []
    },
    {
      "cell_type": "code",
      "source": [
        "history = model.fit(X_res_train, y_res, validation_split=0.12, epochs=50, batch_size=16, verbose=1, callbacks=[cp_callback])"
      ],
      "metadata": {
        "colab": {
          "base_uri": "https://localhost:8080/"
        },
        "id": "3n8sNS3yLDY5",
        "outputId": "0274a73d-5357-42db-d650-dd33ff1b9ede"
      },
      "execution_count": 145,
      "outputs": [
        {
          "output_type": "stream",
          "name": "stdout",
          "text": [
            "Epoch 1/50\n",
            "29/45 [==================>...........] - ETA: 0s - loss: 0.6905 - accuracy: 0.5129 \n",
            "Epoch 1: val_loss improved from inf to 0.78332, saving model to /content/drive/MyDrive/datasets/Hasil Epoch/cp-0001.hdf5\n",
            "45/45 [==============================] - 1s 11ms/step - loss: 0.6876 - accuracy: 0.5309 - val_loss: 0.7833 - val_accuracy: 0.0000e+00\n",
            "Epoch 2/50\n",
            "22/45 [=============>................] - ETA: 0s - loss: 0.6790 - accuracy: 0.5511\n",
            "Epoch 2: val_loss did not improve from 0.78332\n",
            "45/45 [==============================] - 0s 3ms/step - loss: 0.6726 - accuracy: 0.5787 - val_loss: 0.7880 - val_accuracy: 0.0102\n",
            "Epoch 3/50\n",
            "27/45 [=================>............] - ETA: 0s - loss: 0.6618 - accuracy: 0.5972\n",
            "Epoch 3: val_loss improved from 0.78332 to 0.70796, saving model to /content/drive/MyDrive/datasets/Hasil Epoch/cp-0003.hdf5\n",
            "45/45 [==============================] - 0s 4ms/step - loss: 0.6583 - accuracy: 0.6180 - val_loss: 0.7080 - val_accuracy: 0.5510\n",
            "Epoch 4/50\n",
            "26/45 [================>.............] - ETA: 0s - loss: 0.6409 - accuracy: 0.6851\n",
            "Epoch 4: val_loss did not improve from 0.70796\n",
            "45/45 [==============================] - 0s 3ms/step - loss: 0.6397 - accuracy: 0.6573 - val_loss: 0.7315 - val_accuracy: 0.5204\n",
            "Epoch 5/50\n",
            "21/45 [=============>................] - ETA: 0s - loss: 0.6171 - accuracy: 0.6994\n",
            "Epoch 5: val_loss improved from 0.70796 to 0.60914, saving model to /content/drive/MyDrive/datasets/Hasil Epoch/cp-0005.hdf5\n",
            "45/45 [==============================] - 0s 4ms/step - loss: 0.6158 - accuracy: 0.6910 - val_loss: 0.6091 - val_accuracy: 0.7143\n",
            "Epoch 6/50\n",
            "26/45 [================>.............] - ETA: 0s - loss: 0.6069 - accuracy: 0.6779\n",
            "Epoch 6: val_loss improved from 0.60914 to 0.59893, saving model to /content/drive/MyDrive/datasets/Hasil Epoch/cp-0006.hdf5\n",
            "45/45 [==============================] - 0s 7ms/step - loss: 0.6002 - accuracy: 0.6938 - val_loss: 0.5989 - val_accuracy: 0.7041\n",
            "Epoch 7/50\n",
            "24/45 [===============>..............] - ETA: 0s - loss: 0.5834 - accuracy: 0.7057\n",
            "Epoch 7: val_loss did not improve from 0.59893\n",
            "45/45 [==============================] - 0s 3ms/step - loss: 0.5767 - accuracy: 0.7135 - val_loss: 0.6494 - val_accuracy: 0.6429\n",
            "Epoch 8/50\n",
            "24/45 [===============>..............] - ETA: 0s - loss: 0.5708 - accuracy: 0.6953\n",
            "Epoch 8: val_loss did not improve from 0.59893\n",
            "45/45 [==============================] - 0s 3ms/step - loss: 0.5632 - accuracy: 0.7093 - val_loss: 0.6380 - val_accuracy: 0.6531\n",
            "Epoch 9/50\n",
            "28/45 [=================>............] - ETA: 0s - loss: 0.5468 - accuracy: 0.7188\n",
            "Epoch 9: val_loss improved from 0.59893 to 0.57756, saving model to /content/drive/MyDrive/datasets/Hasil Epoch/cp-0009.hdf5\n",
            "45/45 [==============================] - 0s 4ms/step - loss: 0.5518 - accuracy: 0.7093 - val_loss: 0.5776 - val_accuracy: 0.7347\n",
            "Epoch 10/50\n",
            "25/45 [===============>..............] - ETA: 0s - loss: 0.5445 - accuracy: 0.7225\n",
            "Epoch 10: val_loss improved from 0.57756 to 0.57359, saving model to /content/drive/MyDrive/datasets/Hasil Epoch/cp-0010.hdf5\n",
            "45/45 [==============================] - 0s 4ms/step - loss: 0.5440 - accuracy: 0.7163 - val_loss: 0.5736 - val_accuracy: 0.7347\n",
            "Epoch 11/50\n",
            "25/45 [===============>..............] - ETA: 0s - loss: 0.5346 - accuracy: 0.7375\n",
            "Epoch 11: val_loss improved from 0.57359 to 0.52119, saving model to /content/drive/MyDrive/datasets/Hasil Epoch/cp-0011.hdf5\n",
            "45/45 [==============================] - 0s 9ms/step - loss: 0.5356 - accuracy: 0.7261 - val_loss: 0.5212 - val_accuracy: 0.7755\n",
            "Epoch 12/50\n",
            "21/45 [=============>................] - ETA: 0s - loss: 0.5261 - accuracy: 0.7262\n",
            "Epoch 12: val_loss did not improve from 0.52119\n",
            "45/45 [==============================] - 0s 3ms/step - loss: 0.5282 - accuracy: 0.7374 - val_loss: 0.5578 - val_accuracy: 0.7653\n",
            "Epoch 13/50\n",
            "27/45 [=================>............] - ETA: 0s - loss: 0.5360 - accuracy: 0.7315\n",
            "Epoch 13: val_loss did not improve from 0.52119\n",
            "45/45 [==============================] - 0s 3ms/step - loss: 0.5195 - accuracy: 0.7402 - val_loss: 0.5744 - val_accuracy: 0.7449\n",
            "Epoch 14/50\n",
            "29/45 [==================>...........] - ETA: 0s - loss: 0.5300 - accuracy: 0.7220\n",
            "Epoch 14: val_loss did not improve from 0.52119\n",
            "45/45 [==============================] - 0s 3ms/step - loss: 0.5181 - accuracy: 0.7402 - val_loss: 0.6245 - val_accuracy: 0.6939\n",
            "Epoch 15/50\n",
            "28/45 [=================>............] - ETA: 0s - loss: 0.5061 - accuracy: 0.7500\n",
            "Epoch 15: val_loss did not improve from 0.52119\n",
            "45/45 [==============================] - 0s 3ms/step - loss: 0.5099 - accuracy: 0.7514 - val_loss: 0.6678 - val_accuracy: 0.6429\n",
            "Epoch 16/50\n",
            "25/45 [===============>..............] - ETA: 0s - loss: 0.5314 - accuracy: 0.7150\n",
            "Epoch 16: val_loss did not improve from 0.52119\n",
            "45/45 [==============================] - 0s 3ms/step - loss: 0.5070 - accuracy: 0.7444 - val_loss: 0.6886 - val_accuracy: 0.6327\n",
            "Epoch 17/50\n",
            "29/45 [==================>...........] - ETA: 0s - loss: 0.5252 - accuracy: 0.7328\n",
            "Epoch 17: val_loss did not improve from 0.52119\n",
            "45/45 [==============================] - 0s 3ms/step - loss: 0.5055 - accuracy: 0.7472 - val_loss: 0.6127 - val_accuracy: 0.7143\n",
            "Epoch 18/50\n",
            "26/45 [================>.............] - ETA: 0s - loss: 0.5131 - accuracy: 0.7356\n",
            "Epoch 18: val_loss improved from 0.52119 to 0.49274, saving model to /content/drive/MyDrive/datasets/Hasil Epoch/cp-0018.hdf5\n",
            "45/45 [==============================] - 0s 4ms/step - loss: 0.4989 - accuracy: 0.7486 - val_loss: 0.4927 - val_accuracy: 0.7857\n",
            "Epoch 19/50\n",
            "22/45 [=============>................] - ETA: 0s - loss: 0.5062 - accuracy: 0.7415\n",
            "Epoch 19: val_loss improved from 0.49274 to 0.46427, saving model to /content/drive/MyDrive/datasets/Hasil Epoch/cp-0019.hdf5\n",
            "45/45 [==============================] - 0s 4ms/step - loss: 0.4949 - accuracy: 0.7753 - val_loss: 0.4643 - val_accuracy: 0.8163\n",
            "Epoch 20/50\n",
            "43/45 [===========================>..] - ETA: 0s - loss: 0.4853 - accuracy: 0.7616\n",
            "Epoch 20: val_loss did not improve from 0.46427\n",
            "45/45 [==============================] - 0s 3ms/step - loss: 0.4910 - accuracy: 0.7556 - val_loss: 0.5068 - val_accuracy: 0.7755\n",
            "Epoch 21/50\n",
            "44/45 [============================>.] - ETA: 0s - loss: 0.4922 - accuracy: 0.7514\n",
            "Epoch 21: val_loss improved from 0.46427 to 0.46371, saving model to /content/drive/MyDrive/datasets/Hasil Epoch/cp-0021.hdf5\n",
            "45/45 [==============================] - 0s 4ms/step - loss: 0.4895 - accuracy: 0.7542 - val_loss: 0.4637 - val_accuracy: 0.8163\n",
            "Epoch 22/50\n",
            "23/45 [==============>...............] - ETA: 0s - loss: 0.4757 - accuracy: 0.7772\n",
            "Epoch 22: val_loss did not improve from 0.46371\n",
            "45/45 [==============================] - 0s 3ms/step - loss: 0.4972 - accuracy: 0.7514 - val_loss: 0.6447 - val_accuracy: 0.6531\n",
            "Epoch 23/50\n",
            "27/45 [=================>............] - ETA: 0s - loss: 0.4884 - accuracy: 0.7894\n",
            "Epoch 23: val_loss did not improve from 0.46371\n",
            "45/45 [==============================] - 0s 3ms/step - loss: 0.4852 - accuracy: 0.7767 - val_loss: 0.7399 - val_accuracy: 0.6122\n",
            "Epoch 24/50\n",
            "27/45 [=================>............] - ETA: 0s - loss: 0.4876 - accuracy: 0.7639\n",
            "Epoch 24: val_loss did not improve from 0.46371\n",
            "45/45 [==============================] - 0s 3ms/step - loss: 0.4857 - accuracy: 0.7697 - val_loss: 0.5897 - val_accuracy: 0.7041\n",
            "Epoch 25/50\n",
            "26/45 [================>.............] - ETA: 0s - loss: 0.4979 - accuracy: 0.7596\n",
            "Epoch 25: val_loss did not improve from 0.46371\n",
            "45/45 [==============================] - 0s 3ms/step - loss: 0.4791 - accuracy: 0.7697 - val_loss: 0.5769 - val_accuracy: 0.6939\n",
            "Epoch 26/50\n",
            "23/45 [==============>...............] - ETA: 0s - loss: 0.4962 - accuracy: 0.7473\n",
            "Epoch 26: val_loss did not improve from 0.46371\n",
            "45/45 [==============================] - 0s 3ms/step - loss: 0.4815 - accuracy: 0.7626 - val_loss: 0.6790 - val_accuracy: 0.6327\n",
            "Epoch 27/50\n",
            "26/45 [================>.............] - ETA: 0s - loss: 0.4761 - accuracy: 0.7644\n",
            "Epoch 27: val_loss did not improve from 0.46371\n",
            "45/45 [==============================] - 0s 3ms/step - loss: 0.4764 - accuracy: 0.7739 - val_loss: 0.4691 - val_accuracy: 0.7959\n",
            "Epoch 28/50\n",
            "26/45 [================>.............] - ETA: 0s - loss: 0.4838 - accuracy: 0.7476\n",
            "Epoch 28: val_loss did not improve from 0.46371\n",
            "45/45 [==============================] - 0s 3ms/step - loss: 0.4795 - accuracy: 0.7612 - val_loss: 0.6136 - val_accuracy: 0.6735\n",
            "Epoch 29/50\n",
            "27/45 [=================>............] - ETA: 0s - loss: 0.4782 - accuracy: 0.7662\n",
            "Epoch 29: val_loss did not improve from 0.46371\n",
            "45/45 [==============================] - 0s 3ms/step - loss: 0.4732 - accuracy: 0.7739 - val_loss: 0.6150 - val_accuracy: 0.6837\n",
            "Epoch 30/50\n",
            "21/45 [=============>................] - ETA: 0s - loss: 0.4539 - accuracy: 0.7857\n",
            "Epoch 30: val_loss did not improve from 0.46371\n",
            "45/45 [==============================] - 0s 3ms/step - loss: 0.4710 - accuracy: 0.7781 - val_loss: 0.6112 - val_accuracy: 0.6735\n",
            "Epoch 31/50\n",
            "26/45 [================>.............] - ETA: 0s - loss: 0.4663 - accuracy: 0.7764\n",
            "Epoch 31: val_loss did not improve from 0.46371\n",
            "45/45 [==============================] - 0s 3ms/step - loss: 0.4741 - accuracy: 0.7739 - val_loss: 0.6958 - val_accuracy: 0.6122\n",
            "Epoch 32/50\n",
            "27/45 [=================>............] - ETA: 0s - loss: 0.4577 - accuracy: 0.7755\n",
            "Epoch 32: val_loss did not improve from 0.46371\n",
            "45/45 [==============================] - 0s 3ms/step - loss: 0.4742 - accuracy: 0.7739 - val_loss: 0.6543 - val_accuracy: 0.6327\n",
            "Epoch 33/50\n",
            "21/45 [=============>................] - ETA: 0s - loss: 0.4615 - accuracy: 0.7917\n",
            "Epoch 33: val_loss did not improve from 0.46371\n",
            "45/45 [==============================] - 0s 3ms/step - loss: 0.4727 - accuracy: 0.7865 - val_loss: 0.5878 - val_accuracy: 0.6837\n",
            "Epoch 34/50\n",
            "21/45 [=============>................] - ETA: 0s - loss: 0.4708 - accuracy: 0.7768\n",
            "Epoch 34: val_loss did not improve from 0.46371\n",
            "45/45 [==============================] - 0s 3ms/step - loss: 0.4713 - accuracy: 0.7809 - val_loss: 0.5020 - val_accuracy: 0.7551\n",
            "Epoch 35/50\n",
            "26/45 [================>.............] - ETA: 0s - loss: 0.4792 - accuracy: 0.7668\n",
            "Epoch 35: val_loss did not improve from 0.46371\n",
            "45/45 [==============================] - 0s 3ms/step - loss: 0.4691 - accuracy: 0.7795 - val_loss: 0.6039 - val_accuracy: 0.6735\n",
            "Epoch 36/50\n",
            "27/45 [=================>............] - ETA: 0s - loss: 0.4736 - accuracy: 0.7708\n",
            "Epoch 36: val_loss did not improve from 0.46371\n",
            "45/45 [==============================] - 0s 3ms/step - loss: 0.4649 - accuracy: 0.7809 - val_loss: 0.5410 - val_accuracy: 0.7143\n",
            "Epoch 37/50\n",
            "28/45 [=================>............] - ETA: 0s - loss: 0.4455 - accuracy: 0.7902\n",
            "Epoch 37: val_loss did not improve from 0.46371\n",
            "45/45 [==============================] - 0s 3ms/step - loss: 0.4649 - accuracy: 0.7767 - val_loss: 0.6164 - val_accuracy: 0.6735\n",
            "Epoch 38/50\n",
            "25/45 [===============>..............] - ETA: 0s - loss: 0.4703 - accuracy: 0.7650\n",
            "Epoch 38: val_loss did not improve from 0.46371\n",
            "45/45 [==============================] - 0s 3ms/step - loss: 0.4705 - accuracy: 0.7781 - val_loss: 0.5724 - val_accuracy: 0.6837\n",
            "Epoch 39/50\n",
            "27/45 [=================>............] - ETA: 0s - loss: 0.4510 - accuracy: 0.7801\n",
            "Epoch 39: val_loss did not improve from 0.46371\n",
            "45/45 [==============================] - 0s 3ms/step - loss: 0.4639 - accuracy: 0.7795 - val_loss: 0.7171 - val_accuracy: 0.6122\n",
            "Epoch 40/50\n",
            "21/45 [=============>................] - ETA: 0s - loss: 0.4590 - accuracy: 0.7738\n",
            "Epoch 40: val_loss did not improve from 0.46371\n",
            "45/45 [==============================] - 0s 3ms/step - loss: 0.4666 - accuracy: 0.7823 - val_loss: 0.7146 - val_accuracy: 0.6224\n",
            "Epoch 41/50\n",
            "27/45 [=================>............] - ETA: 0s - loss: 0.4351 - accuracy: 0.7824\n",
            "Epoch 41: val_loss did not improve from 0.46371\n",
            "45/45 [==============================] - 0s 3ms/step - loss: 0.4626 - accuracy: 0.7683 - val_loss: 0.5847 - val_accuracy: 0.6633\n",
            "Epoch 42/50\n",
            "43/45 [===========================>..] - ETA: 0s - loss: 0.4612 - accuracy: 0.7776\n",
            "Epoch 42: val_loss did not improve from 0.46371\n",
            "45/45 [==============================] - 0s 3ms/step - loss: 0.4614 - accuracy: 0.7809 - val_loss: 0.7046 - val_accuracy: 0.6224\n",
            "Epoch 43/50\n",
            "26/45 [================>.............] - ETA: 0s - loss: 0.4617 - accuracy: 0.7933\n",
            "Epoch 43: val_loss did not improve from 0.46371\n",
            "45/45 [==============================] - 0s 3ms/step - loss: 0.4575 - accuracy: 0.7851 - val_loss: 0.5315 - val_accuracy: 0.7449\n",
            "Epoch 44/50\n",
            "27/45 [=================>............] - ETA: 0s - loss: 0.4466 - accuracy: 0.7963\n",
            "Epoch 44: val_loss did not improve from 0.46371\n",
            "45/45 [==============================] - 0s 3ms/step - loss: 0.4580 - accuracy: 0.7781 - val_loss: 0.6260 - val_accuracy: 0.6429\n",
            "Epoch 45/50\n",
            "27/45 [=================>............] - ETA: 0s - loss: 0.4731 - accuracy: 0.7824\n",
            "Epoch 45: val_loss did not improve from 0.46371\n",
            "45/45 [==============================] - 0s 3ms/step - loss: 0.4574 - accuracy: 0.7823 - val_loss: 0.4742 - val_accuracy: 0.7653\n",
            "Epoch 46/50\n",
            "25/45 [===============>..............] - ETA: 0s - loss: 0.4708 - accuracy: 0.7750\n",
            "Epoch 46: val_loss did not improve from 0.46371\n",
            "45/45 [==============================] - 0s 3ms/step - loss: 0.4550 - accuracy: 0.7767 - val_loss: 0.5747 - val_accuracy: 0.6633\n",
            "Epoch 47/50\n",
            "21/45 [=============>................] - ETA: 0s - loss: 0.5120 - accuracy: 0.7440\n",
            "Epoch 47: val_loss improved from 0.46371 to 0.45695, saving model to /content/drive/MyDrive/datasets/Hasil Epoch/cp-0047.hdf5\n",
            "45/45 [==============================] - 0s 4ms/step - loss: 0.4574 - accuracy: 0.7753 - val_loss: 0.4569 - val_accuracy: 0.7857\n",
            "Epoch 48/50\n",
            "28/45 [=================>............] - ETA: 0s - loss: 0.4346 - accuracy: 0.8080\n",
            "Epoch 48: val_loss did not improve from 0.45695\n",
            "45/45 [==============================] - 0s 3ms/step - loss: 0.4576 - accuracy: 0.7865 - val_loss: 0.6156 - val_accuracy: 0.6531\n",
            "Epoch 49/50\n",
            "26/45 [================>.............] - ETA: 0s - loss: 0.4460 - accuracy: 0.7812\n",
            "Epoch 49: val_loss did not improve from 0.45695\n",
            "45/45 [==============================] - 0s 3ms/step - loss: 0.4553 - accuracy: 0.7823 - val_loss: 0.6033 - val_accuracy: 0.6531\n",
            "Epoch 50/50\n",
            "43/45 [===========================>..] - ETA: 0s - loss: 0.4696 - accuracy: 0.7791\n",
            "Epoch 50: val_loss did not improve from 0.45695\n",
            "45/45 [==============================] - 0s 4ms/step - loss: 0.4659 - accuracy: 0.7795 - val_loss: 0.6027 - val_accuracy: 0.6633\n"
          ]
        }
      ]
    },
    {
      "cell_type": "markdown",
      "source": [
        "Note : Jika selisih accuracy train dan accuracy val besar maka bisa dikatakan modelnya overfitting"
      ],
      "metadata": {
        "id": "h13Fo5xpPz7G"
      }
    },
    {
      "cell_type": "code",
      "source": [
        "plt.plot(history.history['loss'], label='train loss')\n",
        "plt.plot(history.history['val_loss'], label='val loss')\n",
        "plt.title('loss')\n",
        "plt.xlabel('epoch')\n",
        "plt.ylabel('loss value')\n",
        "plt.legend()\n",
        "plt.show()"
      ],
      "metadata": {
        "colab": {
          "base_uri": "https://localhost:8080/",
          "height": 295
        },
        "id": "FtyO2NfNLFF5",
        "outputId": "354b0c4a-44af-4858-ef7c-fc7278c8c31d"
      },
      "execution_count": 146,
      "outputs": [
        {
          "output_type": "display_data",
          "data": {
            "text/plain": [
              "<Figure size 432x288 with 1 Axes>"
            ],
            "image/png": "[encoded data removed]"
          },
          "metadata": {
            "needs_background": "light"
          }
        }
      ]
    },
    {
      "cell_type": "code",
      "source": [
        "plt.plot(history.history['accuracy'], label='train accuracy')\n",
        "plt.plot(history.history['val_accuracy'], label='val accuracy')\n",
        "plt.title('accuracy')\n",
        "plt.xlabel('epoch')\n",
        "plt.ylabel('accuracy value')\n",
        "plt.legend()\n",
        "plt.show()"
      ],
      "metadata": {
        "colab": {
          "base_uri": "https://localhost:8080/",
          "height": 295
        },
        "id": "tMrs8F9zOMTk",
        "outputId": "77ac9cfc-b65a-4284-9f68-2ead3e84819c"
      },
      "execution_count": 147,
      "outputs": [
        {
          "output_type": "display_data",
          "data": {
            "text/plain": [
              "<Figure size 432x288 with 1 Axes>"
            ],
            "image/png": "[encoded data removed]"
          },
          "metadata": {
            "needs_background": "light"
          }
        }
      ]
    },
    {
      "cell_type": "code",
      "source": [
        "loss, acc = model.evaluate(X_test, y_test)\n",
        "print(f\"loss: {loss}\")\n",
        "print(f\"acc: {acc}\")"
      ],
      "metadata": {
        "colab": {
          "base_uri": "https://localhost:8080/"
        },
        "id": "IvPAW5avOx_X",
        "outputId": "3b1812ac-a4f8-4e98-ae6d-1efe8c89c87e"
      },
      "execution_count": 148,
      "outputs": [
        {
          "output_type": "stream",
          "name": "stdout",
          "text": [
            "5/5 [==============================] - 0s 3ms/step - loss: 0.4974 - accuracy: 0.7727\n",
            "loss: 0.4974096715450287\n",
            "acc: 0.7727272510528564\n"
          ]
        }
      ]
    },
    {
      "cell_type": "code",
      "source": [
        "loss, acc = model.evaluate(X_res_train, y_res)\n",
        "print(f\"loss: {loss}\")\n",
        "print(f\"acc: {acc}\")"
      ],
      "metadata": {
        "colab": {
          "base_uri": "https://localhost:8080/"
        },
        "id": "-3TG7nQcXW-W",
        "outputId": "39f4b6b2-570c-4a85-c0ba-63ed4da62aa0"
      },
      "execution_count": 150,
      "outputs": [
        {
          "output_type": "stream",
          "name": "stdout",
          "text": [
            "26/26 [==============================] - 0s 2ms/step - loss: 0.4629 - accuracy: 0.7852\n",
            "loss: 0.462944358587265\n",
            "acc: 0.7851851582527161\n"
          ]
        }
      ]
    },
    {
      "cell_type": "markdown",
      "source": [
        "**Load Model**"
      ],
      "metadata": {
        "id": "gpuyAC3kW5T_"
      }
    },
    {
      "cell_type": "code",
      "source": [
        "models = model\n",
        "models.load_weights('/content/drive/MyDrive/datasets/Hasil Epoch/cp-0047.hdf5') # diambil iterasi ke 47 karena memiliki akurasi yang baik"
      ],
      "metadata": {
        "id": "4O5gkjG2WmbC"
      },
      "execution_count": 149,
      "outputs": []
    },
    {
      "cell_type": "code",
      "source": [
        "models.get_weights()"
      ],
      "metadata": {
        "colab": {
          "base_uri": "https://localhost:8080/"
        },
        "id": "2ijl3Xk5Xf7Q",
        "outputId": "fb91115f-d10c-4ee5-ae14-f8f5b0f48dd6"
      },
      "execution_count": 152,
      "outputs": [
        {
          "output_type": "execute_result",
          "data": {
            "text/plain": [
              "[array([[-0.32780007,  0.25131938, -0.30268112, -0.2773064 ,  0.05553171,\n",
              "          0.32346132,  0.18620645,  0.23810269,  0.04779488,  0.2656843 ,\n",
              "         -0.00537069, -0.32756802, -0.52663636, -0.4269756 , -0.05691119],\n",
              "        [ 0.2962795 , -0.12378239, -0.4323768 , -0.04021424, -0.32143673,\n",
              "         -0.10954291,  0.21796729, -0.11320454,  0.48689213,  0.3673045 ,\n",
              "         -0.2022357 , -0.29606542, -0.28593352,  0.5363319 , -0.4364403 ],\n",
              "        [-0.3644232 ,  0.08776625, -0.13267496,  0.2889675 ,  0.3549007 ,\n",
              "          0.3030877 ,  0.41225916,  0.25549623,  0.36706793,  0.00186522,\n",
              "          0.387121  , -0.06614137,  0.27962613,  0.2655104 ,  0.2142216 ],\n",
              "        [ 0.35006922,  0.05366245, -0.12695578, -0.55419797, -0.01209373,\n",
              "         -0.18626611,  0.37627226, -0.46203306, -0.33470568,  0.10250176,\n",
              "         -0.0798234 , -0.23321411,  0.16546528, -0.43066034,  0.30471367],\n",
              "        [ 0.37796617,  0.54170495,  0.01149464,  0.28666997, -0.02327148,\n",
              "          0.4817156 , -0.02905162, -0.3459792 ,  0.21556593, -0.05061104,\n",
              "          0.39858273,  0.28604847,  0.05327134, -0.16461344, -0.33444688],\n",
              "        [ 0.5406628 , -0.13077901,  0.02242845, -0.3878193 ,  0.11099806,\n",
              "         -0.36998785,  0.30509776,  0.137214  ,  0.37005314,  0.44441694,\n",
              "         -0.3511744 ,  0.14341998,  0.40495953, -0.53519756, -0.37161106],\n",
              "        [-0.00397143, -0.17510144, -0.11046207,  0.48734236, -0.5096084 ,\n",
              "         -0.5491566 ,  0.47728664, -0.15202156,  0.51547766,  0.15417571,\n",
              "          0.04026088,  0.08647984,  0.32882422, -0.04406772, -0.04259908],\n",
              "        [ 0.15690601,  0.2966265 , -0.407187  , -0.28355053, -0.3680007 ,\n",
              "         -0.04830058,  0.16653919, -0.22186199, -0.32579792,  0.56352115,\n",
              "         -0.6642727 , -0.09379572, -0.7620739 , -0.25210702,  0.6617958 ]],\n",
              "       dtype=float32),\n",
              " array([-0.10756138,  0.12779765,  0.        ,  0.14116402,  0.13013838,\n",
              "         0.00179198, -0.15530497,  0.11394256, -0.12123337, -0.16472894,\n",
              "         0.300247  ,  0.        ,  0.09918109,  0.11964272,  0.13068672],\n",
              "       dtype=float32),\n",
              " array([[ 3.12427789e-01,  3.51723582e-01,  4.40335333e-01,\n",
              "         -1.78306580e-01,  3.86535764e-01,  3.50305617e-01,\n",
              "          3.22992615e-02, -1.61783710e-01,  2.33199224e-02,\n",
              "          8.94232914e-02,  3.74870718e-01, -2.76170727e-02,\n",
              "          8.58604461e-02,  4.12335396e-02, -1.63690057e-02,\n",
              "          1.35181308e-01,  2.13473469e-01,  3.88632208e-01,\n",
              "         -1.95079789e-01,  3.26445192e-01, -3.06392819e-01,\n",
              "         -4.36161131e-01,  3.83088678e-01,  3.70246619e-01,\n",
              "         -2.75265574e-01,  6.23538867e-02,  1.97822265e-02,\n",
              "          4.17277843e-01, -2.94085532e-01, -1.14210248e-01,\n",
              "          1.12408593e-01,  2.74586707e-01,  1.31549269e-01,\n",
              "          6.65011629e-02, -1.49442002e-01, -3.25772502e-02,\n",
              "         -2.19114944e-01,  2.77483314e-01,  3.83469671e-01,\n",
              "         -2.28648297e-02],\n",
              "        [ 1.92545593e-01, -3.58144253e-01,  4.08662157e-03,\n",
              "         -2.19713375e-02, -4.01780367e-01, -4.69958521e-02,\n",
              "         -2.00547919e-01,  8.84558633e-02, -1.44692674e-01,\n",
              "          1.91500988e-02, -3.23808074e-01,  1.16681665e-01,\n",
              "         -4.13785353e-02,  1.50012389e-01, -8.27559531e-02,\n",
              "         -7.18015432e-03, -4.09634784e-02, -1.78753749e-01,\n",
              "         -3.50846261e-01, -8.01537279e-03,  3.62332433e-01,\n",
              "          2.41201445e-01,  2.60545820e-01, -1.91383719e-01,\n",
              "          2.20894814e-03,  2.79130310e-01, -2.63724744e-01,\n",
              "         -1.99376479e-01,  1.11412920e-01,  1.21520489e-01,\n",
              "          1.18110195e-01,  4.05649208e-02,  3.26485872e-01,\n",
              "          3.22595507e-01, -1.94025517e-01, -1.34956673e-01,\n",
              "         -6.94159344e-02, -1.57137454e-01,  3.07634491e-02,\n",
              "          1.70519307e-01],\n",
              "        [-2.64996588e-02, -3.84423435e-02,  1.14925027e-01,\n",
              "         -5.39804697e-02, -2.64471948e-01,  1.29334033e-02,\n",
              "         -2.87095815e-01, -1.88449681e-01,  1.26350522e-02,\n",
              "          4.95214164e-02, -1.92920625e-01,  1.51971519e-01,\n",
              "          5.78600466e-02, -5.52232563e-02, -1.22013614e-01,\n",
              "         -7.84612894e-02,  1.36848927e-01, -2.43132666e-01,\n",
              "          2.29876041e-01,  4.81910110e-02, -2.86497712e-01,\n",
              "         -1.92998573e-01,  2.42800891e-01,  2.99987435e-01,\n",
              "         -3.00466657e-01, -1.57332852e-01,  2.11056709e-01,\n",
              "         -1.77490130e-01,  2.79776812e-01, -1.82890058e-01,\n",
              "          8.98324549e-02, -7.82010257e-02, -3.01710486e-01,\n",
              "          2.44709909e-01,  1.37212873e-02,  2.22425163e-02,\n",
              "          1.62000358e-01, -1.47624210e-01, -9.96307880e-02,\n",
              "          9.54253674e-02],\n",
              "        [-4.42729533e-01, -7.11521581e-02, -3.16370457e-01,\n",
              "         -1.93483323e-01, -5.18477142e-01, -4.74876553e-01,\n",
              "          4.30213422e-01,  3.48439515e-01, -6.89651743e-02,\n",
              "          4.26726580e-01, -1.70554705e-02,  4.00473401e-02,\n",
              "          1.46351576e-01, -3.87820452e-01,  1.72205552e-01,\n",
              "          4.14641201e-02,  4.97177303e-01, -2.69815087e-01,\n",
              "         -1.13383606e-01, -9.00809094e-02, -7.53983557e-02,\n",
              "          3.67644250e-01, -3.67133141e-01, -4.37677264e-01,\n",
              "          1.21216863e-01,  4.76298064e-01, -4.06352758e-01,\n",
              "         -2.49437198e-01,  3.70069832e-01,  2.36427903e-01,\n",
              "          4.41476226e-01, -3.09831977e-01, -5.79819418e-02,\n",
              "          1.65331677e-01, -3.16565633e-01,  1.23104714e-01,\n",
              "          5.97902894e-01,  3.52395087e-01, -4.44154769e-01,\n",
              "          4.45692807e-01],\n",
              "        [-3.28141898e-01, -1.31107569e-01, -2.52752721e-01,\n",
              "         -7.95888752e-02,  9.41979513e-02,  1.23051710e-01,\n",
              "          3.18042636e-01,  4.28737760e-01,  9.12769046e-03,\n",
              "          5.61529100e-01, -4.06921178e-01,  3.43893409e-01,\n",
              "         -1.22145236e-01, -4.07979161e-01,  4.66798812e-01,\n",
              "         -2.29710072e-01,  2.34107465e-01, -1.94215998e-01,\n",
              "         -9.75395441e-02, -5.47116995e-02,  5.88888586e-01,\n",
              "          4.21838313e-01, -2.38919973e-01,  8.28327909e-02,\n",
              "          2.72900939e-01, -1.25563279e-01, -3.88835073e-01,\n",
              "         -2.33553767e-01,  2.14530811e-01,  4.52466220e-01,\n",
              "          3.54927182e-01, -1.16118871e-01, -1.13508657e-01,\n",
              "          2.70649850e-01, -2.16923907e-01,  2.04330340e-01,\n",
              "          4.61625218e-01,  4.56962973e-01, -4.35680568e-01,\n",
              "          2.69131631e-01],\n",
              "        [ 3.76302600e-01,  1.00345731e-01,  1.11687668e-01,\n",
              "          4.36367720e-01,  3.24099690e-01, -3.02342653e-01,\n",
              "          3.07322919e-01, -2.14726776e-01,  4.48356599e-01,\n",
              "         -3.31912220e-01,  4.52237986e-02, -1.16306350e-01,\n",
              "         -3.05271178e-01,  2.78139591e-01, -2.96688408e-01,\n",
              "         -9.50381160e-03, -3.50989610e-01,  2.04016805e-01,\n",
              "         -3.21697831e-01,  3.57493423e-02, -2.29295447e-01,\n",
              "         -4.41061296e-02,  1.39449820e-01,  3.99230301e-01,\n",
              "         -1.01130202e-01, -2.16434047e-01,  1.64060459e-01,\n",
              "          3.53316367e-01, -6.59293607e-02, -2.40068793e-01,\n",
              "         -8.56095552e-03, -1.55644730e-01,  4.88822699e-01,\n",
              "         -3.66203964e-01,  1.09421313e-02,  2.17540249e-01,\n",
              "         -5.73982000e-01, -1.62243489e-02, -5.17815985e-02,\n",
              "         -1.91393554e-01],\n",
              "        [ 3.42417449e-01, -2.24528819e-01, -1.31527483e-01,\n",
              "          2.73909509e-01, -2.08418816e-01, -6.54816488e-03,\n",
              "         -2.26414070e-01, -2.09583089e-01,  3.12281936e-01,\n",
              "         -3.81694175e-02, -2.83081591e-01, -2.02363171e-02,\n",
              "         -3.72368187e-01,  2.78505951e-01, -3.32075238e-01,\n",
              "         -2.70474494e-01, -1.34981096e-01,  2.76669264e-01,\n",
              "          4.80205417e-02, -9.89893004e-02, -2.43516058e-01,\n",
              "         -8.34286436e-02, -4.77547720e-02,  3.90797466e-01,\n",
              "         -1.66228592e-01, -2.36420855e-01, -2.64087021e-02,\n",
              "          4.27575976e-01, -1.75750166e-01,  2.44823039e-01,\n",
              "         -2.03790870e-02,  4.33890559e-02,  3.25554967e-01,\n",
              "          1.59407243e-01, -2.10073143e-01, -2.26764455e-01,\n",
              "         -2.07423761e-01, -2.23218650e-01,  2.86751628e-01,\n",
              "          8.02167356e-02],\n",
              "        [ 2.03529790e-01, -1.41229019e-01,  7.66188512e-03,\n",
              "         -2.86987811e-01, -1.48399666e-01,  2.63364553e-01,\n",
              "          9.82604623e-02, -7.40993349e-03, -5.57928011e-02,\n",
              "          1.69497222e-01, -1.38808116e-01,  1.18464805e-01,\n",
              "         -1.72120705e-01,  5.33409044e-02, -8.23305249e-02,\n",
              "         -3.11541498e-01, -1.80298790e-01, -1.81249365e-01,\n",
              "         -3.24793279e-01, -9.57122073e-02,  1.25241324e-01,\n",
              "          4.17291597e-02, -1.24359362e-01, -1.01002917e-01,\n",
              "          1.65565938e-01,  3.02764505e-01, -8.09680149e-02,\n",
              "          1.78085282e-01, -1.15641393e-01,  2.79512256e-01,\n",
              "          6.80772811e-02, -1.47890851e-01, -2.45256707e-01,\n",
              "          1.03142105e-01, -9.44572538e-02, -1.54347688e-01,\n",
              "          1.81552861e-02, -1.47289097e-01, -2.11771354e-01,\n",
              "          1.14513464e-01],\n",
              "        [-6.99179992e-03, -7.60216564e-02,  2.87234575e-01,\n",
              "          1.18925385e-01,  3.84058058e-01,  3.70412558e-01,\n",
              "          1.88134387e-01,  8.46277922e-02, -2.42921077e-02,\n",
              "         -1.81711748e-01,  2.91515976e-01, -1.84379324e-01,\n",
              "         -3.13863158e-01,  1.67772025e-01,  3.20279263e-02,\n",
              "         -1.02139428e-01, -1.64680824e-01,  3.04767221e-01,\n",
              "         -1.77666798e-01, -1.41840205e-01, -2.73783863e-01,\n",
              "          2.75514126e-01,  3.63261998e-01,  1.73092827e-01,\n",
              "         -1.98732391e-01, -2.80799508e-01,  2.59053171e-01,\n",
              "         -2.57343557e-02,  1.07959852e-01, -2.97003567e-01,\n",
              "         -2.77362108e-01,  2.30058491e-01,  2.19952285e-01,\n",
              "          9.80668962e-02,  1.60395801e-01, -2.23937556e-01,\n",
              "          3.16623859e-02, -3.99259068e-02,  6.18244521e-02,\n",
              "         -4.06339943e-01],\n",
              "        [ 3.17195088e-01, -1.68331899e-05,  2.84561694e-01,\n",
              "         -1.96747810e-01, -1.45186856e-01,  9.10568759e-02,\n",
              "         -3.09311211e-01,  8.65382403e-02,  3.42205614e-01,\n",
              "         -1.95990220e-01, -1.79022834e-01, -6.73811063e-02,\n",
              "          4.46558520e-02,  4.46641177e-01, -6.12793602e-02,\n",
              "         -1.09732926e-01, -3.13336812e-02,  1.70083925e-01,\n",
              "         -2.36097932e-01,  1.81082174e-01, -7.94888213e-02,\n",
              "         -3.51957500e-01, -6.78777695e-02,  1.74086884e-01,\n",
              "          2.65738368e-03,  7.24108219e-02, -1.43826872e-01,\n",
              "          2.27596790e-01,  2.24865735e-01, -2.47343987e-01,\n",
              "          1.16806058e-02,  5.88175617e-02,  1.41209811e-01,\n",
              "         -9.29144546e-02, -8.95113945e-02,  2.96815097e-01,\n",
              "         -2.64884114e-01,  2.09521860e-01,  6.12592511e-02,\n",
              "          5.97967431e-02],\n",
              "        [-3.31707537e-01, -1.89233020e-01, -1.26559183e-01,\n",
              "         -2.74891257e-01, -7.37735927e-02, -4.86035407e-01,\n",
              "          2.72731155e-01,  4.97501850e-01, -2.39603296e-01,\n",
              "          5.59303701e-01, -2.99957335e-01,  3.49548995e-01,\n",
              "          4.59161103e-01, -4.55376536e-01,  6.49633884e-01,\n",
              "         -2.76476920e-01,  1.71355322e-01, -1.11457840e-01,\n",
              "          2.37357572e-01, -2.61614472e-01,  4.82253522e-01,\n",
              "          2.66515851e-01, -3.11522069e-03, -1.22295596e-01,\n",
              "         -2.39156246e-01,  3.28937262e-01,  3.57680731e-02,\n",
              "         -4.62317795e-01,  2.68743873e-01,  1.01612389e-01,\n",
              "          2.15139091e-01, -3.29498321e-01, -2.80200511e-01,\n",
              "          5.11077166e-01,  1.19382292e-01, -9.81153920e-02,\n",
              "          2.72053093e-01,  3.80113214e-01, -3.91616613e-01,\n",
              "          5.58507383e-01],\n",
              "        [ 2.03390658e-01,  2.60103941e-02, -1.12238586e-01,\n",
              "         -1.12920135e-01, -2.41245955e-01, -2.28315532e-01,\n",
              "         -2.21826538e-01,  1.97505891e-01,  1.76897228e-01,\n",
              "         -3.20445508e-01, -1.31141663e-01, -2.10289150e-01,\n",
              "          1.24440134e-01, -2.89774776e-01,  8.83337259e-02,\n",
              "          1.08888149e-02,  2.55487919e-01,  3.11629117e-01,\n",
              "         -2.60202110e-01,  1.20877534e-01, -9.50157344e-02,\n",
              "         -2.34220698e-01, -2.94172883e-01,  7.62330592e-02,\n",
              "          3.22309136e-01,  1.24613672e-01,  7.51681030e-02,\n",
              "         -2.56192863e-01,  2.38461554e-01, -3.04145515e-02,\n",
              "          1.68188453e-01, -2.07181558e-01,  8.33867490e-02,\n",
              "         -1.39453962e-01,  7.33377039e-02,  2.72355855e-01,\n",
              "          8.00165534e-03,  3.08022499e-01,  1.90571606e-01,\n",
              "          2.10482419e-01],\n",
              "        [-1.87454551e-01,  2.75099814e-01,  4.85068932e-02,\n",
              "          2.60130167e-01,  4.64669466e-02, -1.88810423e-01,\n",
              "          2.33540908e-01,  4.44880314e-02,  1.15338275e-02,\n",
              "         -2.22581148e-01,  2.61364251e-01, -2.46046521e-02,\n",
              "          2.98200965e-01, -1.83987811e-01,  1.40529692e-01,\n",
              "         -1.35205641e-01, -2.67518818e-01,  8.59050304e-02,\n",
              "          8.48124847e-02,  6.43618107e-02,  8.43162835e-02,\n",
              "          3.00149947e-01, -9.05027613e-02, -3.13442349e-01,\n",
              "         -9.44737941e-02,  1.41940966e-01,  2.97733337e-01,\n",
              "          8.08328316e-02,  1.08181484e-01,  3.07234377e-01,\n",
              "         -1.76887065e-01,  1.80279315e-01, -2.89210916e-01,\n",
              "          6.15812764e-02, -2.53555179e-02,  1.74934655e-01,\n",
              "          3.54907811e-01, -1.12032317e-01,  2.82919914e-01,\n",
              "          7.69685954e-02],\n",
              "        [ 3.98338944e-01,  3.91063988e-01,  3.94300133e-01,\n",
              "          3.34666938e-01,  1.54266074e-01,  3.49990219e-01,\n",
              "         -2.44293183e-01,  1.09743066e-01,  4.67087239e-01,\n",
              "         -3.01300377e-01,  1.35389239e-01, -3.67118895e-01,\n",
              "          2.90205061e-01,  2.96286494e-01,  2.78360695e-01,\n",
              "         -5.38310111e-02, -8.70143250e-02,  9.59462151e-02,\n",
              "          2.00378761e-01, -9.20835197e-01,  2.18170822e-01,\n",
              "         -4.78205178e-03,  1.61245257e-01,  3.33011955e-01,\n",
              "         -1.85864806e-01, -2.15996742e-01, -1.66120484e-01,\n",
              "          3.45998168e-01, -3.62936169e-01, -3.85401875e-01,\n",
              "         -5.80046908e-04, -5.21525554e-02,  2.74348885e-01,\n",
              "         -2.99444627e-02, -1.36743411e-01, -2.77669638e-01,\n",
              "          2.23030910e-01, -5.39019048e-01,  5.07022999e-02,\n",
              "         -3.98632199e-01],\n",
              "        [ 5.08882627e-02,  5.84110282e-02,  3.90048814e-03,\n",
              "          2.02149719e-01, -7.75369033e-02, -4.29235190e-01,\n",
              "         -1.34104118e-01,  1.41434371e-01, -3.90732497e-01,\n",
              "          5.01936495e-01, -2.74996102e-01,  4.72430706e-01,\n",
              "          8.36031288e-02, -5.34110367e-01, -2.31031537e-01,\n",
              "          1.40319794e-01,  2.34204292e-01, -6.16420805e-01,\n",
              "         -6.31546900e-02,  3.83507103e-01,  3.22131187e-01,\n",
              "          4.17095125e-02, -8.90666023e-02, -1.60980657e-01,\n",
              "          2.15728343e-01, -6.67286664e-03,  1.57254562e-01,\n",
              "          3.09341284e-03,  5.04928768e-01,  8.43998268e-02,\n",
              "          1.56717449e-01, -4.65187758e-01, -8.59297365e-02,\n",
              "          4.62221175e-01, -2.27851957e-01,  2.22531497e-01,\n",
              "          7.16059804e-02,  2.10072830e-01, -4.99469131e-01,\n",
              "          5.56098938e-01]], dtype=float32),\n",
              " array([-0.09325577, -0.01328508, -0.121884  , -0.04917952, -0.084128  ,\n",
              "        -0.09321015,  0.20782028,  0.14113656, -0.09932497,  0.19959491,\n",
              "        -0.04079411,  0.18275377,  0.19862194, -0.03421206,  0.17519821,\n",
              "         0.        ,  0.17747942, -0.14835145, -0.03493353,  0.08180917,\n",
              "         0.25204208,  0.14386238, -0.08133959, -0.09679884,  0.        ,\n",
              "         0.14179383, -0.02160634, -0.1065682 ,  0.11352043,  0.20006612,\n",
              "         0.09265301, -0.02487555, -0.08281231,  0.12404682,  0.        ,\n",
              "        -0.0502228 ,  0.16255027,  0.14042588, -0.03760736,  0.19885305],\n",
              "       dtype=float32),\n",
              " array([[ 0.1355693 ,  0.567361  ],\n",
              "        [-0.52769715,  0.06177803],\n",
              "        [-0.20712769,  0.41328132],\n",
              "        [-0.54400253,  0.0935656 ],\n",
              "        [-0.6786136 ,  0.22581246],\n",
              "        [-0.30413845,  0.4114639 ],\n",
              "        [ 0.10307375, -0.46907097],\n",
              "        [ 0.25898644, -0.4500452 ],\n",
              "        [-0.4862086 ,  0.5053198 ],\n",
              "        [ 0.56257254, -0.6481809 ],\n",
              "        [-0.6241144 ,  0.6162555 ],\n",
              "        [ 0.74680555, -0.41101548],\n",
              "        [ 0.8180213 , -0.8266303 ],\n",
              "        [-0.47581127, -0.0423288 ],\n",
              "        [ 0.41195828, -0.58286005],\n",
              "        [ 0.2639856 ,  0.02031082],\n",
              "        [ 0.18844962, -0.6518476 ],\n",
              "        [-0.32598066,  0.31688133],\n",
              "        [-0.15314595,  0.05665557],\n",
              "        [ 0.5693511 , -0.29934347],\n",
              "        [ 0.60517234, -0.42198932],\n",
              "        [ 0.15009391, -0.29037526],\n",
              "        [-0.21927917,  0.47094792],\n",
              "        [-0.20914765,  0.5237984 ],\n",
              "        [-0.31533632, -0.30148745],\n",
              "        [ 0.36661348, -0.04688951],\n",
              "        [-0.4404087 ,  0.38127634],\n",
              "        [-0.05954944,  0.34545743],\n",
              "        [ 0.1782183 ,  0.02195085],\n",
              "        [ 0.10058641, -0.40434462],\n",
              "        [ 0.30523565, -0.37408826],\n",
              "        [-0.37233347, -0.12518333],\n",
              "        [-0.21888067,  0.3869883 ],\n",
              "        [ 0.14093332, -0.3095422 ],\n",
              "        [ 0.02909458, -0.24237868],\n",
              "        [ 0.3260618 ,  0.15414181],\n",
              "        [ 0.4064167 , -0.5787292 ],\n",
              "        [ 0.511822  , -0.620531  ],\n",
              "        [-0.61116827,  0.26510647],\n",
              "        [ 0.60940486, -0.10936304]], dtype=float32),\n",
              " array([ 0.12398247, -0.12398244], dtype=float32)]"
            ]
          },
          "metadata": {},
          "execution_count": 152
        }
      ]
    },
    {
      "cell_type": "markdown",
      "source": [
        "**transfer learning**"
      ],
      "metadata": {
        "id": "mPsWFmDmYlk9"
      }
    },
    {
      "cell_type": "code",
      "source": [
        "checkpoint_path = '/content/drive/MyDrive/datasets/Hasil Epoch/cp2-{epoch:04d}.hdf5'\n",
        "checkpoint_dir = os.path.dirname(checkpoint_path)\n",
        "\n",
        "cp_callback = ModelCheckpoint(\n",
        "    checkpoint_path, verbose=1, save_best_only=True, save_freq = 'epoch'\n",
        ")"
      ],
      "metadata": {
        "id": "hc2XMTcjY5w9"
      },
      "execution_count": 153,
      "outputs": []
    },
    {
      "cell_type": "code",
      "source": [
        "history = models.fit(X_res_train, y_res, validation_split=0.12, epochs=50, batch_size=16, verbose=1, callbacks=[cp_callback])"
      ],
      "metadata": {
        "colab": {
          "base_uri": "https://localhost:8080/"
        },
        "id": "ODIh7HsUXwWT",
        "outputId": "7fc9c920-ef4b-4ef6-a10a-19572ca56665"
      },
      "execution_count": 154,
      "outputs": [
        {
          "output_type": "stream",
          "name": "stdout",
          "text": [
            "Epoch 1/50\n",
            "28/45 [=================>............] - ETA: 0s - loss: 0.4646 - accuracy: 0.7835\n",
            "Epoch 1: val_loss improved from inf to 0.54055, saving model to /content/drive/MyDrive/datasets/Hasil Epoch/cp2-0001.hdf5\n",
            "45/45 [==============================] - 0s 4ms/step - loss: 0.4663 - accuracy: 0.7753 - val_loss: 0.5405 - val_accuracy: 0.7245\n",
            "Epoch 2/50\n",
            "27/45 [=================>............] - ETA: 0s - loss: 0.4610 - accuracy: 0.7778\n",
            "Epoch 2: val_loss did not improve from 0.54055\n",
            "45/45 [==============================] - 0s 3ms/step - loss: 0.4570 - accuracy: 0.7837 - val_loss: 0.6415 - val_accuracy: 0.6531\n",
            "Epoch 3/50\n",
            "45/45 [==============================] - ETA: 0s - loss: 0.4565 - accuracy: 0.7781\n",
            "Epoch 3: val_loss did not improve from 0.54055\n",
            "45/45 [==============================] - 0s 3ms/step - loss: 0.4565 - accuracy: 0.7781 - val_loss: 0.5686 - val_accuracy: 0.6735\n",
            "Epoch 4/50\n",
            "28/45 [=================>............] - ETA: 0s - loss: 0.4904 - accuracy: 0.7790\n",
            "Epoch 4: val_loss did not improve from 0.54055\n",
            "45/45 [==============================] - 0s 3ms/step - loss: 0.4634 - accuracy: 0.7879 - val_loss: 0.6170 - val_accuracy: 0.6531\n",
            "Epoch 5/50\n",
            "23/45 [==============>...............] - ETA: 0s - loss: 0.4389 - accuracy: 0.7880\n",
            "Epoch 5: val_loss did not improve from 0.54055\n",
            "45/45 [==============================] - 0s 4ms/step - loss: 0.4522 - accuracy: 0.7725 - val_loss: 0.6249 - val_accuracy: 0.6429\n",
            "Epoch 6/50\n",
            "26/45 [================>.............] - ETA: 0s - loss: 0.4296 - accuracy: 0.8125\n",
            "Epoch 6: val_loss did not improve from 0.54055\n",
            "45/45 [==============================] - 0s 3ms/step - loss: 0.4536 - accuracy: 0.7795 - val_loss: 0.5731 - val_accuracy: 0.6735\n",
            "Epoch 7/50\n",
            "28/45 [=================>............] - ETA: 0s - loss: 0.4647 - accuracy: 0.7924\n",
            "Epoch 7: val_loss did not improve from 0.54055\n",
            "45/45 [==============================] - 0s 3ms/step - loss: 0.4563 - accuracy: 0.7935 - val_loss: 0.5707 - val_accuracy: 0.6735\n",
            "Epoch 8/50\n",
            "27/45 [=================>............] - ETA: 0s - loss: 0.4650 - accuracy: 0.7708\n",
            "Epoch 8: val_loss improved from 0.54055 to 0.49115, saving model to /content/drive/MyDrive/datasets/Hasil Epoch/cp2-0008.hdf5\n",
            "45/45 [==============================] - 0s 4ms/step - loss: 0.4549 - accuracy: 0.7753 - val_loss: 0.4912 - val_accuracy: 0.7653\n",
            "Epoch 9/50\n",
            "26/45 [================>.............] - ETA: 0s - loss: 0.4650 - accuracy: 0.7692\n",
            "Epoch 9: val_loss did not improve from 0.49115\n",
            "45/45 [==============================] - 0s 3ms/step - loss: 0.4483 - accuracy: 0.7795 - val_loss: 0.6217 - val_accuracy: 0.6531\n",
            "Epoch 10/50\n",
            "24/45 [===============>..............] - ETA: 0s - loss: 0.4484 - accuracy: 0.7734\n",
            "Epoch 10: val_loss did not improve from 0.49115\n",
            "45/45 [==============================] - 0s 3ms/step - loss: 0.4533 - accuracy: 0.7837 - val_loss: 0.6312 - val_accuracy: 0.6429\n",
            "Epoch 11/50\n",
            "27/45 [=================>............] - ETA: 0s - loss: 0.4380 - accuracy: 0.7755\n",
            "Epoch 11: val_loss did not improve from 0.49115\n",
            "45/45 [==============================] - 0s 3ms/step - loss: 0.4495 - accuracy: 0.7823 - val_loss: 0.6241 - val_accuracy: 0.6531\n",
            "Epoch 12/50\n",
            "26/45 [================>.............] - ETA: 0s - loss: 0.4324 - accuracy: 0.8053\n",
            "Epoch 12: val_loss did not improve from 0.49115\n",
            "45/45 [==============================] - 0s 3ms/step - loss: 0.4488 - accuracy: 0.7921 - val_loss: 0.5919 - val_accuracy: 0.6633\n",
            "Epoch 13/50\n",
            "27/45 [=================>............] - ETA: 0s - loss: 0.4426 - accuracy: 0.7755\n",
            "Epoch 13: val_loss did not improve from 0.49115\n",
            "45/45 [==============================] - 0s 3ms/step - loss: 0.4509 - accuracy: 0.7781 - val_loss: 0.6259 - val_accuracy: 0.6429\n",
            "Epoch 14/50\n",
            "27/45 [=================>............] - ETA: 0s - loss: 0.4449 - accuracy: 0.7917\n",
            "Epoch 14: val_loss did not improve from 0.49115\n",
            "45/45 [==============================] - 0s 3ms/step - loss: 0.4506 - accuracy: 0.7851 - val_loss: 0.5913 - val_accuracy: 0.6531\n",
            "Epoch 15/50\n",
            "26/45 [================>.............] - ETA: 0s - loss: 0.4207 - accuracy: 0.7981\n",
            "Epoch 15: val_loss improved from 0.49115 to 0.47990, saving model to /content/drive/MyDrive/datasets/Hasil Epoch/cp2-0015.hdf5\n",
            "45/45 [==============================] - 0s 4ms/step - loss: 0.4453 - accuracy: 0.7823 - val_loss: 0.4799 - val_accuracy: 0.7551\n",
            "Epoch 16/50\n",
            "35/45 [======================>.......] - ETA: 0s - loss: 0.4512 - accuracy: 0.7946\n",
            "Epoch 16: val_loss improved from 0.47990 to 0.46938, saving model to /content/drive/MyDrive/datasets/Hasil Epoch/cp2-0016.hdf5\n",
            "45/45 [==============================] - 0s 5ms/step - loss: 0.4506 - accuracy: 0.7865 - val_loss: 0.4694 - val_accuracy: 0.7551\n",
            "Epoch 17/50\n",
            "22/45 [=============>................] - ETA: 0s - loss: 0.4142 - accuracy: 0.7983\n",
            "Epoch 17: val_loss did not improve from 0.46938\n",
            "45/45 [==============================] - 0s 3ms/step - loss: 0.4473 - accuracy: 0.7809 - val_loss: 0.6078 - val_accuracy: 0.6531\n",
            "Epoch 18/50\n",
            "26/45 [================>.............] - ETA: 0s - loss: 0.4530 - accuracy: 0.7837\n",
            "Epoch 18: val_loss did not improve from 0.46938\n",
            "45/45 [==============================] - 0s 3ms/step - loss: 0.4448 - accuracy: 0.7907 - val_loss: 0.5064 - val_accuracy: 0.7245\n",
            "Epoch 19/50\n",
            "27/45 [=================>............] - ETA: 0s - loss: 0.4504 - accuracy: 0.7847\n",
            "Epoch 19: val_loss did not improve from 0.46938\n",
            "45/45 [==============================] - 0s 3ms/step - loss: 0.4473 - accuracy: 0.7907 - val_loss: 0.5535 - val_accuracy: 0.6837\n",
            "Epoch 20/50\n",
            "27/45 [=================>............] - ETA: 0s - loss: 0.4597 - accuracy: 0.7870\n",
            "Epoch 20: val_loss did not improve from 0.46938\n",
            "45/45 [==============================] - 0s 3ms/step - loss: 0.4451 - accuracy: 0.7935 - val_loss: 0.6323 - val_accuracy: 0.6531\n",
            "Epoch 21/50\n",
            "25/45 [===============>..............] - ETA: 0s - loss: 0.4313 - accuracy: 0.7975\n",
            "Epoch 21: val_loss did not improve from 0.46938\n",
            "45/45 [==============================] - 0s 3ms/step - loss: 0.4426 - accuracy: 0.7921 - val_loss: 0.6151 - val_accuracy: 0.6531\n",
            "Epoch 22/50\n",
            "27/45 [=================>............] - ETA: 0s - loss: 0.4043 - accuracy: 0.8218\n",
            "Epoch 22: val_loss did not improve from 0.46938\n",
            "45/45 [==============================] - 0s 3ms/step - loss: 0.4428 - accuracy: 0.7921 - val_loss: 0.6324 - val_accuracy: 0.6531\n",
            "Epoch 23/50\n",
            "26/45 [================>.............] - ETA: 0s - loss: 0.4213 - accuracy: 0.8005\n",
            "Epoch 23: val_loss did not improve from 0.46938\n",
            "45/45 [==============================] - 0s 3ms/step - loss: 0.4491 - accuracy: 0.7865 - val_loss: 0.5758 - val_accuracy: 0.6735\n",
            "Epoch 24/50\n",
            "26/45 [================>.............] - ETA: 0s - loss: 0.4506 - accuracy: 0.7716\n",
            "Epoch 24: val_loss did not improve from 0.46938\n",
            "45/45 [==============================] - 0s 3ms/step - loss: 0.4445 - accuracy: 0.7809 - val_loss: 0.5023 - val_accuracy: 0.7449\n",
            "Epoch 25/50\n",
            "21/45 [=============>................] - ETA: 0s - loss: 0.4906 - accuracy: 0.7440\n",
            "Epoch 25: val_loss did not improve from 0.46938\n",
            "45/45 [==============================] - 0s 3ms/step - loss: 0.4509 - accuracy: 0.7767 - val_loss: 0.6928 - val_accuracy: 0.6327\n",
            "Epoch 26/50\n",
            "26/45 [================>.............] - ETA: 0s - loss: 0.4485 - accuracy: 0.7861\n",
            "Epoch 26: val_loss did not improve from 0.46938\n",
            "45/45 [==============================] - 0s 3ms/step - loss: 0.4459 - accuracy: 0.7907 - val_loss: 0.5035 - val_accuracy: 0.7449\n",
            "Epoch 27/50\n",
            "27/45 [=================>............] - ETA: 0s - loss: 0.4738 - accuracy: 0.7824\n",
            "Epoch 27: val_loss did not improve from 0.46938\n",
            "45/45 [==============================] - 0s 3ms/step - loss: 0.4483 - accuracy: 0.7893 - val_loss: 0.5708 - val_accuracy: 0.6837\n",
            "Epoch 28/50\n",
            "29/45 [==================>...........] - ETA: 0s - loss: 0.4481 - accuracy: 0.7909\n",
            "Epoch 28: val_loss did not improve from 0.46938\n",
            "45/45 [==============================] - 0s 3ms/step - loss: 0.4421 - accuracy: 0.7865 - val_loss: 0.4846 - val_accuracy: 0.7653\n",
            "Epoch 29/50\n",
            "27/45 [=================>............] - ETA: 0s - loss: 0.4333 - accuracy: 0.7986\n",
            "Epoch 29: val_loss did not improve from 0.46938\n",
            "45/45 [==============================] - 0s 3ms/step - loss: 0.4441 - accuracy: 0.7823 - val_loss: 0.5788 - val_accuracy: 0.6735\n",
            "Epoch 30/50\n",
            "29/45 [==================>...........] - ETA: 0s - loss: 0.4191 - accuracy: 0.8147\n",
            "Epoch 30: val_loss did not improve from 0.46938\n",
            "45/45 [==============================] - 0s 3ms/step - loss: 0.4389 - accuracy: 0.7921 - val_loss: 0.5027 - val_accuracy: 0.7449\n",
            "Epoch 31/50\n",
            "30/45 [===================>..........] - ETA: 0s - loss: 0.4322 - accuracy: 0.7896\n",
            "Epoch 31: val_loss did not improve from 0.46938\n",
            "45/45 [==============================] - 0s 3ms/step - loss: 0.4406 - accuracy: 0.7851 - val_loss: 0.5976 - val_accuracy: 0.6735\n",
            "Epoch 32/50\n",
            "29/45 [==================>...........] - ETA: 0s - loss: 0.4522 - accuracy: 0.7996\n",
            "Epoch 32: val_loss did not improve from 0.46938\n",
            "45/45 [==============================] - 0s 3ms/step - loss: 0.4429 - accuracy: 0.7978 - val_loss: 0.4745 - val_accuracy: 0.7755\n",
            "Epoch 33/50\n",
            "28/45 [=================>............] - ETA: 0s - loss: 0.4248 - accuracy: 0.8036\n",
            "Epoch 33: val_loss did not improve from 0.46938\n",
            "45/45 [==============================] - 0s 3ms/step - loss: 0.4387 - accuracy: 0.7921 - val_loss: 0.5580 - val_accuracy: 0.6837\n",
            "Epoch 34/50\n",
            "28/45 [=================>............] - ETA: 0s - loss: 0.4720 - accuracy: 0.7768\n",
            "Epoch 34: val_loss did not improve from 0.46938\n",
            "45/45 [==============================] - 0s 3ms/step - loss: 0.4365 - accuracy: 0.7893 - val_loss: 0.6375 - val_accuracy: 0.6531\n",
            "Epoch 35/50\n",
            "28/45 [=================>............] - ETA: 0s - loss: 0.4209 - accuracy: 0.8103\n",
            "Epoch 35: val_loss did not improve from 0.46938\n",
            "45/45 [==============================] - 0s 3ms/step - loss: 0.4394 - accuracy: 0.7907 - val_loss: 0.6772 - val_accuracy: 0.6531\n",
            "Epoch 36/50\n",
            "42/45 [===========================>..] - ETA: 0s - loss: 0.4464 - accuracy: 0.7857\n",
            "Epoch 36: val_loss did not improve from 0.46938\n",
            "45/45 [==============================] - 0s 3ms/step - loss: 0.4400 - accuracy: 0.7893 - val_loss: 0.5876 - val_accuracy: 0.6735\n",
            "Epoch 37/50\n",
            "22/45 [=============>................] - ETA: 0s - loss: 0.4564 - accuracy: 0.7869\n",
            "Epoch 37: val_loss did not improve from 0.46938\n",
            "45/45 [==============================] - 0s 3ms/step - loss: 0.4441 - accuracy: 0.7935 - val_loss: 0.5572 - val_accuracy: 0.6837\n",
            "Epoch 38/50\n",
            "20/45 [============>.................] - ETA: 0s - loss: 0.4607 - accuracy: 0.7656\n",
            "Epoch 38: val_loss did not improve from 0.46938\n",
            "45/45 [==============================] - 0s 3ms/step - loss: 0.4409 - accuracy: 0.7907 - val_loss: 0.5645 - val_accuracy: 0.6837\n",
            "Epoch 39/50\n",
            "45/45 [==============================] - ETA: 0s - loss: 0.4354 - accuracy: 0.7921\n",
            "Epoch 39: val_loss did not improve from 0.46938\n",
            "45/45 [==============================] - 0s 3ms/step - loss: 0.4354 - accuracy: 0.7921 - val_loss: 0.6303 - val_accuracy: 0.6531\n",
            "Epoch 40/50\n",
            "28/45 [=================>............] - ETA: 0s - loss: 0.4359 - accuracy: 0.7902\n",
            "Epoch 40: val_loss did not improve from 0.46938\n",
            "45/45 [==============================] - 0s 3ms/step - loss: 0.4343 - accuracy: 0.7963 - val_loss: 0.5385 - val_accuracy: 0.7041\n",
            "Epoch 41/50\n",
            "28/45 [=================>............] - ETA: 0s - loss: 0.4228 - accuracy: 0.8058\n",
            "Epoch 41: val_loss did not improve from 0.46938\n",
            "45/45 [==============================] - 0s 3ms/step - loss: 0.4411 - accuracy: 0.7921 - val_loss: 0.4981 - val_accuracy: 0.7551\n",
            "Epoch 42/50\n",
            "29/45 [==================>...........] - ETA: 0s - loss: 0.4452 - accuracy: 0.7845\n",
            "Epoch 42: val_loss did not improve from 0.46938\n",
            "45/45 [==============================] - 0s 3ms/step - loss: 0.4401 - accuracy: 0.7949 - val_loss: 0.4748 - val_accuracy: 0.7653\n",
            "Epoch 43/50\n",
            "27/45 [=================>............] - ETA: 0s - loss: 0.4140 - accuracy: 0.8148\n",
            "Epoch 43: val_loss did not improve from 0.46938\n",
            "45/45 [==============================] - 0s 3ms/step - loss: 0.4398 - accuracy: 0.7992 - val_loss: 0.5425 - val_accuracy: 0.7143\n",
            "Epoch 44/50\n",
            "28/45 [=================>............] - ETA: 0s - loss: 0.4434 - accuracy: 0.7946\n",
            "Epoch 44: val_loss did not improve from 0.46938\n",
            "45/45 [==============================] - 0s 3ms/step - loss: 0.4361 - accuracy: 0.7963 - val_loss: 0.5819 - val_accuracy: 0.6735\n",
            "Epoch 45/50\n",
            "23/45 [==============>...............] - ETA: 0s - loss: 0.4397 - accuracy: 0.8152\n",
            "Epoch 45: val_loss did not improve from 0.46938\n",
            "45/45 [==============================] - 0s 3ms/step - loss: 0.4336 - accuracy: 0.7992 - val_loss: 0.5883 - val_accuracy: 0.6633\n",
            "Epoch 46/50\n",
            "28/45 [=================>............] - ETA: 0s - loss: 0.4362 - accuracy: 0.7879\n",
            "Epoch 46: val_loss did not improve from 0.46938\n",
            "45/45 [==============================] - 0s 3ms/step - loss: 0.4353 - accuracy: 0.7907 - val_loss: 0.6518 - val_accuracy: 0.6531\n",
            "Epoch 47/50\n",
            "28/45 [=================>............] - ETA: 0s - loss: 0.4312 - accuracy: 0.7902\n",
            "Epoch 47: val_loss did not improve from 0.46938\n",
            "45/45 [==============================] - 0s 3ms/step - loss: 0.4314 - accuracy: 0.7978 - val_loss: 0.5249 - val_accuracy: 0.7143\n",
            "Epoch 48/50\n",
            "29/45 [==================>...........] - ETA: 0s - loss: 0.4480 - accuracy: 0.7974\n",
            "Epoch 48: val_loss did not improve from 0.46938\n",
            "45/45 [==============================] - 0s 3ms/step - loss: 0.4413 - accuracy: 0.7978 - val_loss: 0.5970 - val_accuracy: 0.6735\n",
            "Epoch 49/50\n",
            "29/45 [==================>...........] - ETA: 0s - loss: 0.4297 - accuracy: 0.7996\n",
            "Epoch 49: val_loss did not improve from 0.46938\n",
            "45/45 [==============================] - 0s 3ms/step - loss: 0.4302 - accuracy: 0.7907 - val_loss: 0.6828 - val_accuracy: 0.6429\n",
            "Epoch 50/50\n",
            "27/45 [=================>............] - ETA: 0s - loss: 0.4000 - accuracy: 0.8079\n",
            "Epoch 50: val_loss did not improve from 0.46938\n",
            "45/45 [==============================] - 0s 3ms/step - loss: 0.4361 - accuracy: 0.7893 - val_loss: 0.6097 - val_accuracy: 0.6633\n"
          ]
        }
      ]
    },
    {
      "cell_type": "code",
      "source": [
        "loss, acc = models.evaluate(X_res_train, y_res)\n",
        "print(f\"loss: {loss}\")\n",
        "print(f\"acc: {acc}\")"
      ],
      "metadata": {
        "colab": {
          "base_uri": "https://localhost:8080/"
        },
        "id": "Wx79Fg6_Y9Y2",
        "outputId": "d60ecf6d-51ec-46bf-dd6b-d76080d63b7d"
      },
      "execution_count": 157,
      "outputs": [
        {
          "output_type": "stream",
          "name": "stdout",
          "text": [
            "26/26 [==============================] - 0s 5ms/step - loss: 0.4482 - accuracy: 0.7852\n",
            "loss: 0.4481900930404663\n",
            "acc: 0.7851851582527161\n"
          ]
        }
      ]
    },
    {
      "cell_type": "code",
      "source": [
        "loss, acc = models.evaluate(X_test, y_test)\n",
        "print(f\"loss: {loss}\")\n",
        "print(f\"acc: {acc}\")"
      ],
      "metadata": {
        "colab": {
          "base_uri": "https://localhost:8080/"
        },
        "id": "7HPSANwtaZnT",
        "outputId": "3cbe9cbe-3719-4b04-ad27-a961f9b43651"
      },
      "execution_count": 158,
      "outputs": [
        {
          "output_type": "stream",
          "name": "stdout",
          "text": [
            "5/5 [==============================] - 0s 9ms/step - loss: 0.4975 - accuracy: 0.7597\n",
            "loss: 0.49752718210220337\n",
            "acc: 0.7597402334213257\n"
          ]
        }
      ]
    },
    {
      "cell_type": "code",
      "source": [],
      "metadata": {
        "id": "o4pLwltRcDYt"
      },
      "execution_count": null,
      "outputs": []
    }
  ]
}
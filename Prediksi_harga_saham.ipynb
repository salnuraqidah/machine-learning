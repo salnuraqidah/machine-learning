{
  "nbformat": 4,
  "nbformat_minor": 0,
  "metadata": {
    "colab": {
      "provenance": [],
      "authorship_tag": "ABX9TyOTNdBOybjizQzdzazl3iXR",
      "include_colab_link": true
    },
    "kernelspec": {
      "name": "python3",
      "display_name": "Python 3"
    },
    "language_info": {
      "name": "python"
    }
  },
  "cells": [
    {
      "cell_type": "markdown",
      "metadata": {
        "id": "view-in-github",
        "colab_type": "text"
      },
      "source": [
        "<a href=\"https://colab.research.google.com/github/salnuraqidah/machine-learning/blob/main/Prediksi_harga_saham.ipynb\" target=\"_parent\"><img src=\"https://colab.research.google.com/assets/colab-badge.svg\" alt=\"Open In Colab\"/></a>"
      ]
    },
    {
      "cell_type": "code",
      "execution_count": 1,
      "metadata": {
        "id": "M7PYZ5vJTPQ6"
      },
      "outputs": [],
      "source": [
        "import numpy as np\n",
        "import pandas as pd\n",
        "import matplotlib.pyplot as plt"
      ]
    },
    {
      "cell_type": "code",
      "source": [
        "from google.colab import drive\n",
        "drive.mount('/content/drive')"
      ],
      "metadata": {
        "colab": {
          "base_uri": "https://localhost:8080/"
        },
        "id": "lZ8SyW52TYN-",
        "outputId": "e620101f-ead2-4394-a962-83236e84fea0"
      },
      "execution_count": 2,
      "outputs": [
        {
          "output_type": "stream",
          "name": "stdout",
          "text": [
            "Drive already mounted at /content/drive; to attempt to forcibly remount, call drive.mount(\"/content/drive\", force_remount=True).\n"
          ]
        }
      ]
    },
    {
      "cell_type": "markdown",
      "source": [
        "prediksi saham bentuk data timeseries\\\n",
        "sumber data : https://finance.yahoo.com/quote/META/history?p=META \n",
        "Time Period:Nov 03, 2021 - Nov 03, 2022\\\n",
        "Show : Historical Prices\\\n",
        "Frequency:Daily"
      ],
      "metadata": {
        "id": "aGsY6ioAUR1z"
      }
    },
    {
      "cell_type": "code",
      "source": [
        "df = pd.read_csv('/content/drive/MyDrive/datasets/META.csv')\n",
        "df"
      ],
      "metadata": {
        "colab": {
          "base_uri": "https://localhost:8080/",
          "height": 424
        },
        "id": "Wm_qbbJmTlch",
        "outputId": "5d56ba81-61ae-4fb4-d120-6be58e0047ca"
      },
      "execution_count": 3,
      "outputs": [
        {
          "output_type": "execute_result",
          "data": {
            "text/plain": [
              "           Date        Open        High         Low       Close   Adj Close  \\\n",
              "0    2021-11-02  331.380005  334.790009  323.799988  328.079987  328.079987   \n",
              "1    2021-11-03  327.489990  332.149994  323.200012  331.619995  331.619995   \n",
              "2    2021-11-04  334.010010  337.269989  332.649994  335.850006  335.850006   \n",
              "3    2021-11-05  340.309998  346.790009  339.640015  341.130005  341.130005   \n",
              "4    2021-11-08  344.420013  344.790009  338.339996  338.619995  338.619995   \n",
              "..          ...         ...         ...         ...         ...         ...   \n",
              "248  2022-10-27   97.980003  102.500000   96.379997   97.940002   97.940002   \n",
              "249  2022-10-28   99.580002  100.849998   97.510002   99.199997   99.199997   \n",
              "250  2022-10-31   98.220001   99.320000   92.599998   93.160004   93.160004   \n",
              "251  2022-11-01   94.330002   97.489998   93.550003   95.199997   95.199997   \n",
              "252  2022-11-02   94.209999   95.199997   90.480003   90.540001   90.540001   \n",
              "\n",
              "        Volume  \n",
              "0     28353000  \n",
              "1     20786500  \n",
              "2     22495300  \n",
              "3     26872800  \n",
              "4     18342500  \n",
              "..         ...  \n",
              "248  232316600  \n",
              "249   95928300  \n",
              "250  121361400  \n",
              "251  110189600  \n",
              "252   71439500  \n",
              "\n",
              "[253 rows x 7 columns]"
            ],
            "text/html": [
              "\n",
              "  <div id=\"df-18cdb224-ad5f-4a39-b02f-32d6e0b3cacd\">\n",
              "    <div class=\"colab-df-container\">\n",
              "      <div>\n",
              "<style scoped>\n",
              "    .dataframe tbody tr th:only-of-type {\n",
              "        vertical-align: middle;\n",
              "    }\n",
              "\n",
              "    .dataframe tbody tr th {\n",
              "        vertical-align: top;\n",
              "    }\n",
              "\n",
              "    .dataframe thead th {\n",
              "        text-align: right;\n",
              "    }\n",
              "</style>\n",
              "<table border=\"1\" class=\"dataframe\">\n",
              "  <thead>\n",
              "    <tr style=\"text-align: right;\">\n",
              "      <th></th>\n",
              "      <th>Date</th>\n",
              "      <th>Open</th>\n",
              "      <th>High</th>\n",
              "      <th>Low</th>\n",
              "      <th>Close</th>\n",
              "      <th>Adj Close</th>\n",
              "      <th>Volume</th>\n",
              "    </tr>\n",
              "  </thead>\n",
              "  <tbody>\n",
              "    <tr>\n",
              "      <th>0</th>\n",
              "      <td>2021-11-02</td>\n",
              "      <td>331.380005</td>\n",
              "      <td>334.790009</td>\n",
              "      <td>323.799988</td>\n",
              "      <td>328.079987</td>\n",
              "      <td>328.079987</td>\n",
              "      <td>28353000</td>\n",
              "    </tr>\n",
              "    <tr>\n",
              "      <th>1</th>\n",
              "      <td>2021-11-03</td>\n",
              "      <td>327.489990</td>\n",
              "      <td>332.149994</td>\n",
              "      <td>323.200012</td>\n",
              "      <td>331.619995</td>\n",
              "      <td>331.619995</td>\n",
              "      <td>20786500</td>\n",
              "    </tr>\n",
              "    <tr>\n",
              "      <th>2</th>\n",
              "      <td>2021-11-04</td>\n",
              "      <td>334.010010</td>\n",
              "      <td>337.269989</td>\n",
              "      <td>332.649994</td>\n",
              "      <td>335.850006</td>\n",
              "      <td>335.850006</td>\n",
              "      <td>22495300</td>\n",
              "    </tr>\n",
              "    <tr>\n",
              "      <th>3</th>\n",
              "      <td>2021-11-05</td>\n",
              "      <td>340.309998</td>\n",
              "      <td>346.790009</td>\n",
              "      <td>339.640015</td>\n",
              "      <td>341.130005</td>\n",
              "      <td>341.130005</td>\n",
              "      <td>26872800</td>\n",
              "    </tr>\n",
              "    <tr>\n",
              "      <th>4</th>\n",
              "      <td>2021-11-08</td>\n",
              "      <td>344.420013</td>\n",
              "      <td>344.790009</td>\n",
              "      <td>338.339996</td>\n",
              "      <td>338.619995</td>\n",
              "      <td>338.619995</td>\n",
              "      <td>18342500</td>\n",
              "    </tr>\n",
              "    <tr>\n",
              "      <th>...</th>\n",
              "      <td>...</td>\n",
              "      <td>...</td>\n",
              "      <td>...</td>\n",
              "      <td>...</td>\n",
              "      <td>...</td>\n",
              "      <td>...</td>\n",
              "      <td>...</td>\n",
              "    </tr>\n",
              "    <tr>\n",
              "      <th>248</th>\n",
              "      <td>2022-10-27</td>\n",
              "      <td>97.980003</td>\n",
              "      <td>102.500000</td>\n",
              "      <td>96.379997</td>\n",
              "      <td>97.940002</td>\n",
              "      <td>97.940002</td>\n",
              "      <td>232316600</td>\n",
              "    </tr>\n",
              "    <tr>\n",
              "      <th>249</th>\n",
              "      <td>2022-10-28</td>\n",
              "      <td>99.580002</td>\n",
              "      <td>100.849998</td>\n",
              "      <td>97.510002</td>\n",
              "      <td>99.199997</td>\n",
              "      <td>99.199997</td>\n",
              "      <td>95928300</td>\n",
              "    </tr>\n",
              "    <tr>\n",
              "      <th>250</th>\n",
              "      <td>2022-10-31</td>\n",
              "      <td>98.220001</td>\n",
              "      <td>99.320000</td>\n",
              "      <td>92.599998</td>\n",
              "      <td>93.160004</td>\n",
              "      <td>93.160004</td>\n",
              "      <td>121361400</td>\n",
              "    </tr>\n",
              "    <tr>\n",
              "      <th>251</th>\n",
              "      <td>2022-11-01</td>\n",
              "      <td>94.330002</td>\n",
              "      <td>97.489998</td>\n",
              "      <td>93.550003</td>\n",
              "      <td>95.199997</td>\n",
              "      <td>95.199997</td>\n",
              "      <td>110189600</td>\n",
              "    </tr>\n",
              "    <tr>\n",
              "      <th>252</th>\n",
              "      <td>2022-11-02</td>\n",
              "      <td>94.209999</td>\n",
              "      <td>95.199997</td>\n",
              "      <td>90.480003</td>\n",
              "      <td>90.540001</td>\n",
              "      <td>90.540001</td>\n",
              "      <td>71439500</td>\n",
              "    </tr>\n",
              "  </tbody>\n",
              "</table>\n",
              "<p>253 rows × 7 columns</p>\n",
              "</div>\n",
              "      <button class=\"colab-df-convert\" onclick=\"convertToInteractive('df-18cdb224-ad5f-4a39-b02f-32d6e0b3cacd')\"\n",
              "              title=\"Convert this dataframe to an interactive table.\"\n",
              "              style=\"display:none;\">\n",
              "        \n",
              "  <svg xmlns=\"http://www.w3.org/2000/svg\" height=\"24px\"viewBox=\"0 0 24 24\"\n",
              "       width=\"24px\">\n",
              "    <path d=\"M0 0h24v24H0V0z\" fill=\"none\"/>\n",
              "    <path d=\"M18.56 5.44l.94 2.06.94-2.06 2.06-.94-2.06-.94-.94-2.06-.94 2.06-2.06.94zm-11 1L8.5 8.5l.94-2.06 2.06-.94-2.06-.94L8.5 2.5l-.94 2.06-2.06.94zm10 10l.94 2.06.94-2.06 2.06-.94-2.06-.94-.94-2.06-.94 2.06-2.06.94z\"/><path d=\"M17.41 7.96l-1.37-1.37c-.4-.4-.92-.59-1.43-.59-.52 0-1.04.2-1.43.59L10.3 9.45l-7.72 7.72c-.78.78-.78 2.05 0 2.83L4 21.41c.39.39.9.59 1.41.59.51 0 1.02-.2 1.41-.59l7.78-7.78 2.81-2.81c.8-.78.8-2.07 0-2.86zM5.41 20L4 18.59l7.72-7.72 1.47 1.35L5.41 20z\"/>\n",
              "  </svg>\n",
              "      </button>\n",
              "      \n",
              "  <style>\n",
              "    .colab-df-container {\n",
              "      display:flex;\n",
              "      flex-wrap:wrap;\n",
              "      gap: 12px;\n",
              "    }\n",
              "\n",
              "    .colab-df-convert {\n",
              "      background-color: #E8F0FE;\n",
              "      border: none;\n",
              "      border-radius: 50%;\n",
              "      cursor: pointer;\n",
              "      display: none;\n",
              "      fill: #1967D2;\n",
              "      height: 32px;\n",
              "      padding: 0 0 0 0;\n",
              "      width: 32px;\n",
              "    }\n",
              "\n",
              "    .colab-df-convert:hover {\n",
              "      background-color: #E2EBFA;\n",
              "      box-shadow: 0px 1px 2px rgba(60, 64, 67, 0.3), 0px 1px 3px 1px rgba(60, 64, 67, 0.15);\n",
              "      fill: #174EA6;\n",
              "    }\n",
              "\n",
              "    [theme=dark] .colab-df-convert {\n",
              "      background-color: #3B4455;\n",
              "      fill: #D2E3FC;\n",
              "    }\n",
              "\n",
              "    [theme=dark] .colab-df-convert:hover {\n",
              "      background-color: #434B5C;\n",
              "      box-shadow: 0px 1px 3px 1px rgba(0, 0, 0, 0.15);\n",
              "      filter: drop-shadow(0px 1px 2px rgba(0, 0, 0, 0.3));\n",
              "      fill: #FFFFFF;\n",
              "    }\n",
              "  </style>\n",
              "\n",
              "      <script>\n",
              "        const buttonEl =\n",
              "          document.querySelector('#df-18cdb224-ad5f-4a39-b02f-32d6e0b3cacd button.colab-df-convert');\n",
              "        buttonEl.style.display =\n",
              "          google.colab.kernel.accessAllowed ? 'block' : 'none';\n",
              "\n",
              "        async function convertToInteractive(key) {\n",
              "          const element = document.querySelector('#df-18cdb224-ad5f-4a39-b02f-32d6e0b3cacd');\n",
              "          const dataTable =\n",
              "            await google.colab.kernel.invokeFunction('convertToInteractive',\n",
              "                                                     [key], {});\n",
              "          if (!dataTable) return;\n",
              "\n",
              "          const docLinkHtml = 'Like what you see? Visit the ' +\n",
              "            '<a target=\"_blank\" href=https://colab.research.google.com/notebooks/data_table.ipynb>data table notebook</a>'\n",
              "            + ' to learn more about interactive tables.';\n",
              "          element.innerHTML = '';\n",
              "          dataTable['output_type'] = 'display_data';\n",
              "          await google.colab.output.renderOutput(dataTable, element);\n",
              "          const docLink = document.createElement('div');\n",
              "          docLink.innerHTML = docLinkHtml;\n",
              "          element.appendChild(docLink);\n",
              "        }\n",
              "      </script>\n",
              "    </div>\n",
              "  </div>\n",
              "  "
            ]
          },
          "metadata": {},
          "execution_count": 3
        }
      ]
    },
    {
      "cell_type": "code",
      "source": [
        "df.info()"
      ],
      "metadata": {
        "colab": {
          "base_uri": "https://localhost:8080/"
        },
        "id": "jnqyE3X1TzeQ",
        "outputId": "8cbf45bb-5735-4d25-d348-12f180702021"
      },
      "execution_count": 4,
      "outputs": [
        {
          "output_type": "stream",
          "name": "stdout",
          "text": [
            "<class 'pandas.core.frame.DataFrame'>\n",
            "RangeIndex: 253 entries, 0 to 252\n",
            "Data columns (total 7 columns):\n",
            " #   Column     Non-Null Count  Dtype  \n",
            "---  ------     --------------  -----  \n",
            " 0   Date       253 non-null    object \n",
            " 1   Open       253 non-null    float64\n",
            " 2   High       253 non-null    float64\n",
            " 3   Low        253 non-null    float64\n",
            " 4   Close      253 non-null    float64\n",
            " 5   Adj Close  253 non-null    float64\n",
            " 6   Volume     253 non-null    int64  \n",
            "dtypes: float64(5), int64(1), object(1)\n",
            "memory usage: 14.0+ KB\n"
          ]
        }
      ]
    },
    {
      "cell_type": "markdown",
      "source": [
        "**DATA VISUALIZATION**"
      ],
      "metadata": {
        "id": "muInMECpVH8N"
      }
    },
    {
      "cell_type": "code",
      "source": [
        "plt.figure(figsize=(15,5))\n",
        "plt.plot(df['Close'], label='Close')\n",
        "plt.plot(df['Open'], label='Open')\n",
        "plt.legend()\n",
        "\n",
        "plt.figure(figsize=(15,5))\n",
        "plt.plot(df['Low'], label='Low')\n",
        "plt.plot(df['High'], label='High')\n",
        "plt.legend()\n",
        "\n",
        "plt.show()"
      ],
      "metadata": {
        "colab": {
          "base_uri": "https://localhost:8080/",
          "height": 623
        },
        "id": "jIp4eb__VFpz",
        "outputId": "eec53044-5d0e-4f6a-8468-ab2519955dd7"
      },
      "execution_count": 5,
      "outputs": [
        {
          "output_type": "display_data",
          "data": {
            "text/plain": [
              "<Figure size 1080x360 with 1 Axes>"
            ],
            "image/png": "[encoded data removed]"
          },
          "metadata": {
            "needs_background": "light"
          }
        },
        {
          "output_type": "display_data",
          "data": {
            "text/plain": [
              "<Figure size 1080x360 with 1 Axes>"
            ],
            "image/png": "[encoded data removed]"
          },
          "metadata": {
            "needs_background": "light"
          }
        }
      ]
    },
    {
      "cell_type": "markdown",
      "source": [
        "**Select input / output menggunakan autocorrelation function**"
      ],
      "metadata": {
        "id": "TNP3P5IMXDQ6"
      }
    },
    {
      "cell_type": "code",
      "source": [
        "df_close = df.loc[:,['Close']]"
      ],
      "metadata": {
        "id": "gFCm-ZANVdbg"
      },
      "execution_count": 6,
      "outputs": []
    },
    {
      "cell_type": "code",
      "source": [
        "df_close"
      ],
      "metadata": {
        "colab": {
          "base_uri": "https://localhost:8080/",
          "height": 424
        },
        "id": "VIjNpz50XR5T",
        "outputId": "9ca10225-951d-4e40-dc1d-dc2b16d2fced"
      },
      "execution_count": 7,
      "outputs": [
        {
          "output_type": "execute_result",
          "data": {
            "text/plain": [
              "          Close\n",
              "0    328.079987\n",
              "1    331.619995\n",
              "2    335.850006\n",
              "3    341.130005\n",
              "4    338.619995\n",
              "..          ...\n",
              "248   97.940002\n",
              "249   99.199997\n",
              "250   93.160004\n",
              "251   95.199997\n",
              "252   90.540001\n",
              "\n",
              "[253 rows x 1 columns]"
            ],
            "text/html": [
              "\n",
              "  <div id=\"df-4dac7f1d-178f-49fb-bca7-aa232a321205\">\n",
              "    <div class=\"colab-df-container\">\n",
              "      <div>\n",
              "<style scoped>\n",
              "    .dataframe tbody tr th:only-of-type {\n",
              "        vertical-align: middle;\n",
              "    }\n",
              "\n",
              "    .dataframe tbody tr th {\n",
              "        vertical-align: top;\n",
              "    }\n",
              "\n",
              "    .dataframe thead th {\n",
              "        text-align: right;\n",
              "    }\n",
              "</style>\n",
              "<table border=\"1\" class=\"dataframe\">\n",
              "  <thead>\n",
              "    <tr style=\"text-align: right;\">\n",
              "      <th></th>\n",
              "      <th>Close</th>\n",
              "    </tr>\n",
              "  </thead>\n",
              "  <tbody>\n",
              "    <tr>\n",
              "      <th>0</th>\n",
              "      <td>328.079987</td>\n",
              "    </tr>\n",
              "    <tr>\n",
              "      <th>1</th>\n",
              "      <td>331.619995</td>\n",
              "    </tr>\n",
              "    <tr>\n",
              "      <th>2</th>\n",
              "      <td>335.850006</td>\n",
              "    </tr>\n",
              "    <tr>\n",
              "      <th>3</th>\n",
              "      <td>341.130005</td>\n",
              "    </tr>\n",
              "    <tr>\n",
              "      <th>4</th>\n",
              "      <td>338.619995</td>\n",
              "    </tr>\n",
              "    <tr>\n",
              "      <th>...</th>\n",
              "      <td>...</td>\n",
              "    </tr>\n",
              "    <tr>\n",
              "      <th>248</th>\n",
              "      <td>97.940002</td>\n",
              "    </tr>\n",
              "    <tr>\n",
              "      <th>249</th>\n",
              "      <td>99.199997</td>\n",
              "    </tr>\n",
              "    <tr>\n",
              "      <th>250</th>\n",
              "      <td>93.160004</td>\n",
              "    </tr>\n",
              "    <tr>\n",
              "      <th>251</th>\n",
              "      <td>95.199997</td>\n",
              "    </tr>\n",
              "    <tr>\n",
              "      <th>252</th>\n",
              "      <td>90.540001</td>\n",
              "    </tr>\n",
              "  </tbody>\n",
              "</table>\n",
              "<p>253 rows × 1 columns</p>\n",
              "</div>\n",
              "      <button class=\"colab-df-convert\" onclick=\"convertToInteractive('df-4dac7f1d-178f-49fb-bca7-aa232a321205')\"\n",
              "              title=\"Convert this dataframe to an interactive table.\"\n",
              "              style=\"display:none;\">\n",
              "        \n",
              "  <svg xmlns=\"http://www.w3.org/2000/svg\" height=\"24px\"viewBox=\"0 0 24 24\"\n",
              "       width=\"24px\">\n",
              "    <path d=\"M0 0h24v24H0V0z\" fill=\"none\"/>\n",
              "    <path d=\"M18.56 5.44l.94 2.06.94-2.06 2.06-.94-2.06-.94-.94-2.06-.94 2.06-2.06.94zm-11 1L8.5 8.5l.94-2.06 2.06-.94-2.06-.94L8.5 2.5l-.94 2.06-2.06.94zm10 10l.94 2.06.94-2.06 2.06-.94-2.06-.94-.94-2.06-.94 2.06-2.06.94z\"/><path d=\"M17.41 7.96l-1.37-1.37c-.4-.4-.92-.59-1.43-.59-.52 0-1.04.2-1.43.59L10.3 9.45l-7.72 7.72c-.78.78-.78 2.05 0 2.83L4 21.41c.39.39.9.59 1.41.59.51 0 1.02-.2 1.41-.59l7.78-7.78 2.81-2.81c.8-.78.8-2.07 0-2.86zM5.41 20L4 18.59l7.72-7.72 1.47 1.35L5.41 20z\"/>\n",
              "  </svg>\n",
              "      </button>\n",
              "      \n",
              "  <style>\n",
              "    .colab-df-container {\n",
              "      display:flex;\n",
              "      flex-wrap:wrap;\n",
              "      gap: 12px;\n",
              "    }\n",
              "\n",
              "    .colab-df-convert {\n",
              "      background-color: #E8F0FE;\n",
              "      border: none;\n",
              "      border-radius: 50%;\n",
              "      cursor: pointer;\n",
              "      display: none;\n",
              "      fill: #1967D2;\n",
              "      height: 32px;\n",
              "      padding: 0 0 0 0;\n",
              "      width: 32px;\n",
              "    }\n",
              "\n",
              "    .colab-df-convert:hover {\n",
              "      background-color: #E2EBFA;\n",
              "      box-shadow: 0px 1px 2px rgba(60, 64, 67, 0.3), 0px 1px 3px 1px rgba(60, 64, 67, 0.15);\n",
              "      fill: #174EA6;\n",
              "    }\n",
              "\n",
              "    [theme=dark] .colab-df-convert {\n",
              "      background-color: #3B4455;\n",
              "      fill: #D2E3FC;\n",
              "    }\n",
              "\n",
              "    [theme=dark] .colab-df-convert:hover {\n",
              "      background-color: #434B5C;\n",
              "      box-shadow: 0px 1px 3px 1px rgba(0, 0, 0, 0.15);\n",
              "      filter: drop-shadow(0px 1px 2px rgba(0, 0, 0, 0.3));\n",
              "      fill: #FFFFFF;\n",
              "    }\n",
              "  </style>\n",
              "\n",
              "      <script>\n",
              "        const buttonEl =\n",
              "          document.querySelector('#df-4dac7f1d-178f-49fb-bca7-aa232a321205 button.colab-df-convert');\n",
              "        buttonEl.style.display =\n",
              "          google.colab.kernel.accessAllowed ? 'block' : 'none';\n",
              "\n",
              "        async function convertToInteractive(key) {\n",
              "          const element = document.querySelector('#df-4dac7f1d-178f-49fb-bca7-aa232a321205');\n",
              "          const dataTable =\n",
              "            await google.colab.kernel.invokeFunction('convertToInteractive',\n",
              "                                                     [key], {});\n",
              "          if (!dataTable) return;\n",
              "\n",
              "          const docLinkHtml = 'Like what you see? Visit the ' +\n",
              "            '<a target=\"_blank\" href=https://colab.research.google.com/notebooks/data_table.ipynb>data table notebook</a>'\n",
              "            + ' to learn more about interactive tables.';\n",
              "          element.innerHTML = '';\n",
              "          dataTable['output_type'] = 'display_data';\n",
              "          await google.colab.output.renderOutput(dataTable, element);\n",
              "          const docLink = document.createElement('div');\n",
              "          docLink.innerHTML = docLinkHtml;\n",
              "          element.appendChild(docLink);\n",
              "        }\n",
              "      </script>\n",
              "    </div>\n",
              "  </div>\n",
              "  "
            ]
          },
          "metadata": {},
          "execution_count": 7
        }
      ]
    },
    {
      "cell_type": "code",
      "source": [
        "import statsmodels.api as sm"
      ],
      "metadata": {
        "id": "PooJuZP2XTE0"
      },
      "execution_count": 8,
      "outputs": []
    },
    {
      "cell_type": "code",
      "source": [
        "sm.graphics.tsa.plot_acf(df_close, lags=100)"
      ],
      "metadata": {
        "colab": {
          "base_uri": "https://localhost:8080/",
          "height": 545
        },
        "id": "IUhiModfYAcP",
        "outputId": "a84575f7-d105-4c04-fd5f-56943027057e"
      },
      "execution_count": 9,
      "outputs": [
        {
          "output_type": "execute_result",
          "data": {
            "text/plain": [
              "<Figure size 432x288 with 1 Axes>"
            ],
            "image/png": "[encoded data removed]"
          },
          "metadata": {},
          "execution_count": 9
        },
        {
          "output_type": "display_data",
          "data": {
            "text/plain": [
              "<Figure size 432x288 with 1 Axes>"
            ],
            "image/png": "[encoded data removed]"
          },
          "metadata": {
            "needs_background": "light"
          }
        }
      ]
    },
    {
      "cell_type": "markdown",
      "source": [
        "graphic diatas menunjukkan point data yang berada di luar area bayangan berarti data tersebut signifikan. kita bisa ambil max 20 data"
      ],
      "metadata": {
        "id": "WApOH4Ajbnvr"
      }
    },
    {
      "cell_type": "markdown",
      "source": [
        "**Preprocessing data**"
      ],
      "metadata": {
        "id": "2VLerMxubOop"
      }
    },
    {
      "cell_type": "code",
      "source": [
        "from sklearn.preprocessing import MinMaxScaler"
      ],
      "metadata": {
        "id": "tG4Dfwa8YRuq"
      },
      "execution_count": 10,
      "outputs": []
    },
    {
      "cell_type": "code",
      "source": [
        "mm = MinMaxScaler()\n",
        "df_new = mm.fit_transform(df_close)"
      ],
      "metadata": {
        "id": "5AdMTZ4sbeQu"
      },
      "execution_count": 11,
      "outputs": []
    },
    {
      "cell_type": "code",
      "source": [
        "df_new[:5]"
      ],
      "metadata": {
        "colab": {
          "base_uri": "https://localhost:8080/"
        },
        "id": "9lCDQ6MRcNtk",
        "outputId": "e9fa7f6a-a087-449f-c36a-080e79efedfd"
      },
      "execution_count": 12,
      "outputs": [
        {
          "output_type": "execute_result",
          "data": {
            "text/plain": [
              "array([[0.92420819],\n",
              "       [0.93798147],\n",
              "       [0.95443937],\n",
              "       [0.97498252],\n",
              "       [0.9652167 ]])"
            ]
          },
          "metadata": {},
          "execution_count": 12
        }
      ]
    },
    {
      "cell_type": "code",
      "source": [
        "def steps(data,step):\n",
        "  panjang = len(data) - step\n",
        "  data_new = data[:panjang,:]\n",
        "  for i in range(1, step+1):\n",
        "    data_new = np.hstack((data_new, data[i:panjang+i, :]))\n",
        "  return data_new "
      ],
      "metadata": {
        "id": "JcXXJaLpcYRJ"
      },
      "execution_count": 13,
      "outputs": []
    },
    {
      "cell_type": "markdown",
      "source": [
        "prediktor1 -> t1, t2, t3\n",
        "response1 -> t4\n",
        "\n",
        "prediktor2 -> t2, t3, t4\n",
        "response2 -> t5\n",
        "\n",
        "prediktor3 -> t3, t4, t5\n",
        "response3 -> t6\n",
        ".\n",
        ".\n",
        ".\n",
        "n"
      ],
      "metadata": {
        "id": "DbFRoIiifOkQ"
      }
    },
    {
      "cell_type": "code",
      "source": [
        "dat = steps(df_new,3) # menggunakan 3 input dan 1 output"
      ],
      "metadata": {
        "id": "lA__0-rMdduo"
      },
      "execution_count": 14,
      "outputs": []
    },
    {
      "cell_type": "code",
      "source": [
        "dat"
      ],
      "metadata": {
        "colab": {
          "base_uri": "https://localhost:8080/"
        },
        "id": "rV4xIbuNdu5c",
        "outputId": "618cc599-ca51-4ef4-ddcf-5e17318ad961"
      },
      "execution_count": 15,
      "outputs": [
        {
          "output_type": "execute_result",
          "data": {
            "text/plain": [
              "array([[0.92420819, 0.93798147, 0.95443937, 0.97498252],\n",
              "       [0.93798147, 0.95443937, 0.97498252, 0.9652167 ],\n",
              "       [0.95443937, 0.97498252, 0.9652167 , 0.95257177],\n",
              "       [0.97498252, 0.9652167 , 0.95257177, 0.92249637],\n",
              "       [0.9652167 , 0.95257177, 0.92249637, 0.92288535],\n",
              "       [0.95257177, 0.92249637, 0.92288535, 0.97404878],\n",
              "       [0.92249637, 0.92288535, 0.97404878, 1.        ],\n",
              "       [0.92288535, 0.97404878, 1.        , 0.98210253],\n",
              "       [0.97404878, 1.        , 0.98210253, 0.97358179],\n",
              "       [1.        , 0.98210253, 0.97358179, 0.96548908],\n",
              "       [0.98210253, 0.97358179, 0.96548908, 0.99120687],\n",
              "       [0.97358179, 0.96548908, 0.99120687, 0.97451565],\n",
              "       [0.96548908, 0.99120687, 0.97451565, 0.9598864 ],\n",
              "       [0.99120687, 0.97451565, 0.9598864 , 0.97471014],\n",
              "       [0.97451565, 0.9598864 , 0.97471014, 0.94381759],\n",
              "       [0.9598864 , 0.97471014, 0.94381759, 0.96292118],\n",
              "       [0.97471014, 0.94381759, 0.96292118, 0.9101237 ],\n",
              "       [0.94381759, 0.96292118, 0.9101237 , 0.85619799],\n",
              "       [0.96292118, 0.9101237 , 0.85619799, 0.85538097],\n",
              "       [0.9101237 , 0.85619799, 0.85538097, 0.84156874],\n",
              "       [0.85619799, 0.85538097, 0.84156874, 0.88448368],\n",
              "       [0.85538097, 0.84156874, 0.88448368, 0.90370399],\n",
              "       [0.84156874, 0.88448368, 0.90370399, 0.93385729],\n",
              "       [0.88448368, 0.90370399, 0.93385729, 0.93097817],\n",
              "       [0.90370399, 0.93385729, 0.93097817, 0.93070579],\n",
              "       [0.93385729, 0.93097817, 0.93070579, 0.94914789],\n",
              "       [0.93097817, 0.93070579, 0.94914789, 0.94622983],\n",
              "       [0.93070579, 0.94914789, 0.94622983, 0.97704461],\n",
              "       [0.94914789, 0.94622983, 0.97704461, 0.95074312],\n",
              "       [0.94622983, 0.97704461, 0.95074312, 0.94642444],\n",
              "       [0.97704461, 0.95074312, 0.94642444, 0.91397562],\n",
              "       [0.95074312, 0.94642444, 0.91397562, 0.94801966],\n",
              "       [0.94642444, 0.91397562, 0.94801966, 0.93342936],\n",
              "       [0.91397562, 0.94801966, 0.93342936, 0.95206596],\n",
              "       [0.94801966, 0.93342936, 0.95206596, 0.99463075],\n",
              "       [0.93342936, 0.95206596, 0.99463075, 0.99478641],\n",
              "       [0.95206596, 0.99463075, 0.99478641, 0.98202476],\n",
              "       [0.99463075, 0.99478641, 0.98202476, 0.98754956],\n",
              "       [0.99478641, 0.98202476, 0.98754956, 0.95638475],\n",
              "       [0.98202476, 0.98754956, 0.95638475, 0.9649055 ],\n",
              "       [0.98754956, 0.95638475, 0.9649055 , 0.95708506],\n",
              "       [0.95638475, 0.9649055 , 0.95708506, 0.90899547],\n",
              "       [0.9649055 , 0.95708506, 0.90899547, 0.94124968],\n",
              "       [0.95708506, 0.90899547, 0.94124968, 0.93864295],\n",
              "       [0.90899547, 0.94124968, 0.93864295, 0.92416936],\n",
              "       [0.94124968, 0.93864295, 0.92416936, 0.94868102],\n",
              "       [0.93864295, 0.92416936, 0.94868102, 0.94436235],\n",
              "       [0.92416936, 0.94868102, 0.94436235, 0.91798309],\n",
              "       [0.94868102, 0.94436235, 0.91798309, 0.93907087],\n",
              "       [0.94436235, 0.91798309, 0.93907087, 0.88557309],\n",
              "       [0.91798309, 0.93907087, 0.88557309, 0.89117577],\n",
              "       [0.93907087, 0.88557309, 0.89117577, 0.87938682],\n",
              "       [0.88557309, 0.89117577, 0.87938682, 0.82728976],\n",
              "       [0.89117577, 0.87938682, 0.82728976, 0.84884442],\n",
              "       [0.87938682, 0.82728976, 0.84884442, 0.81553963],\n",
              "       [0.82728976, 0.84884442, 0.81553963, 0.79406274],\n",
              "       [0.84884442, 0.81553963, 0.79406274, 0.79410169],\n",
              "       [0.81553963, 0.79406274, 0.79410169, 0.82160918],\n",
              "       [0.79406274, 0.79410169, 0.82160918, 0.8665474 ],\n",
              "       [0.79410169, 0.82160918, 0.8665474 , 0.88888025],\n",
              "       [0.82160918, 0.8665474 , 0.88888025, 0.90444324],\n",
              "       [0.8665474 , 0.88888025, 0.90444324, 0.57279587],\n",
              "       [0.88888025, 0.90444324, 0.57279587, 0.57018908],\n",
              "       [0.90444324, 0.57279587, 0.57018908, 0.5227998 ],\n",
              "       [0.57279587, 0.57018908, 0.5227998 , 0.50439652],\n",
              "       [0.57018908, 0.5227998 , 0.50439652, 0.55038519],\n",
              "       [0.5227998 , 0.50439652, 0.55038519, 0.53509457],\n",
              "       [0.50439652, 0.55038519, 0.53509457, 0.50194539],\n",
              "       [0.55038519, 0.53509457, 0.50194539, 0.49474748],\n",
              "       [0.53509457, 0.50194539, 0.49474748, 0.50758696],\n",
              "       [0.50194539, 0.49474748, 0.50758696, 0.4902342 ],\n",
              "       [0.49474748, 0.50758696, 0.4902342 , 0.45587895],\n",
              "       [0.50758696, 0.4902342 , 0.45587895, 0.44984828],\n",
              "       [0.4902342 , 0.45587895, 0.44984828, 0.43397402],\n",
              "       [0.45587895, 0.44984828, 0.43397402, 0.41985058],\n",
              "       [0.44984828, 0.43397402, 0.41985058, 0.45545096],\n",
              "       [0.43397402, 0.41985058, 0.45545096, 0.46665628],\n",
              "       [0.41985058, 0.45545096, 0.46665628, 0.4687962 ],\n",
              "       [0.45545096, 0.46665628, 0.4687962 , 0.43945998],\n",
              "       [0.46665628, 0.4687962 , 0.43945998, 0.45743522],\n",
              "       [0.4687962 , 0.43945998, 0.45743522, 0.43743678],\n",
              "       [0.43945998, 0.45743522, 0.43743678, 0.42611469],\n",
              "       [0.45743522, 0.43743678, 0.42611469, 0.37713019],\n",
              "       [0.43743678, 0.42611469, 0.37713019, 0.38810207],\n",
              "       [0.42611469, 0.37713019, 0.38810207, 0.42004513],\n",
              "       [0.37713019, 0.38810207, 0.42004513, 0.4072446 ],\n",
              "       [0.38810207, 0.42004513, 0.4072446 , 0.37767489],\n",
              "       [0.42004513, 0.4072446 , 0.37767489, 0.37386198],\n",
              "       [0.4072446 , 0.37767489, 0.37386198, 0.39487199],\n",
              "       [0.37767489, 0.37386198, 0.39487199, 0.44000469],\n",
              "       [0.37386198, 0.39487199, 0.44000469, 0.4563847 ],\n",
              "       [0.39487199, 0.44000469, 0.4563847 , 0.49003971],\n",
              "       [0.44000469, 0.4563847 , 0.49003971, 0.47058597],\n",
              "       [0.4563847 , 0.49003971, 0.47058597, 0.49066218],\n",
              "       [0.49003971, 0.47058597, 0.49066218, 0.47825075],\n",
              "       [0.47058597, 0.49066218, 0.47825075, 0.50202322],\n",
              "       [0.49066218, 0.47825075, 0.50202322, 0.5107774 ],\n",
              "       [0.47825075, 0.50202322, 0.5107774 , 0.51766398],\n",
              "       [0.50202322, 0.5107774 , 0.51766398, 0.54205899],\n",
              "       [0.5107774 , 0.51766398, 0.54205899, 0.53423861],\n",
              "       [0.51766398, 0.54205899, 0.53423861, 0.51287838],\n",
              "       [0.54205899, 0.53423861, 0.51287838, 0.52256636],\n",
              "       [0.53423861, 0.51287838, 0.52256636, 0.5577387 ],\n",
              "       [0.51287838, 0.52256636, 0.5577387 , 0.54976265],\n",
              "       [0.52256636, 0.5577387 , 0.54976265, 0.51653569],\n",
              "       [0.5577387 , 0.54976265, 0.51653569, 0.51517391],\n",
              "       [0.54976265, 0.51653569, 0.51517391, 0.51276166],\n",
              "       [0.51653569, 0.51517391, 0.51276166, 0.48992299],\n",
              "       [0.51517391, 0.51276166, 0.48992299, 0.48089643],\n",
              "       [0.51276166, 0.48992299, 0.48089643, 0.48420359],\n",
              "       [0.48992299, 0.48089643, 0.48420359, 0.46548904],\n",
              "       [0.48089643, 0.48420359, 0.46548904, 0.46778463],\n",
              "       [0.48420359, 0.46548904, 0.46778463, 0.49323009],\n",
              "       [0.46548904, 0.46778463, 0.49323009, 0.42751536],\n",
              "       [0.46778463, 0.49323009, 0.42751536, 0.37946466],\n",
              "       [0.49323009, 0.42751536, 0.37946466, 0.36405728],\n",
              "       [0.42751536, 0.37946466, 0.36405728, 0.37526265],\n",
              "       [0.37946466, 0.36405728, 0.37526265, 0.3517625 ],\n",
              "       [0.36405728, 0.37526265, 0.3517625 , 0.32841801],\n",
              "       [0.37526265, 0.3517625 , 0.32841801, 0.44817523],\n",
              "       [0.3517625 , 0.32841801, 0.44817523, 0.42770991],\n",
              "       [0.32841801, 0.44817523, 0.42770991, 0.4691853 ],\n",
              "       [0.44817523, 0.42770991, 0.4691853 , 0.47268695],\n",
              "       [0.42770991, 0.4691853 , 0.47268695, 0.51696368],\n",
              "       [0.4691853 , 0.47268695, 0.51696368, 0.45809664],\n",
              "       [0.47268695, 0.51696368, 0.45809664, 0.44054939],\n",
              "       [0.51696368, 0.45809664, 0.44054939, 0.41113535],\n",
              "       [0.45809664, 0.44054939, 0.41113535, 0.41673797],\n",
              "       [0.44054939, 0.41113535, 0.41673797, 0.38207145],\n",
              "       [0.41113535, 0.41673797, 0.38207145, 0.39179832],\n",
              "       [0.41673797, 0.38207145, 0.39179832, 0.420512  ],\n",
              "       [0.38207145, 0.39179832, 0.420512  , 0.42603686],\n",
              "       [0.39179832, 0.420512  , 0.42603686, 0.436075  ],\n",
              "       [0.420512  , 0.42603686, 0.436075  , 0.39568907],\n",
              "       [0.42603686, 0.436075  , 0.39568907, 0.39199281],\n",
              "       [0.436075  , 0.39568907, 0.39199281, 0.400747  ],\n",
              "       [0.39568907, 0.39199281, 0.400747  , 0.41121312],\n",
              "       [0.39199281, 0.400747  , 0.41121312, 0.35304645],\n",
              "       [0.400747  , 0.41121312, 0.35304645, 0.36296787],\n",
              "       [0.41121312, 0.35304645, 0.36296787, 0.39331572],\n",
              "       [0.35304645, 0.36296787, 0.39331572, 0.40693333],\n",
              "       [0.36296787, 0.39331572, 0.40693333, 0.4011361 ],\n",
              "       [0.39331572, 0.40693333, 0.4011361 , 0.38168236],\n",
              "       [0.40693333, 0.4011361 , 0.38168236, 0.42144581],\n",
              "       [0.4011361 , 0.38168236, 0.42144581, 0.39000856],\n",
              "       [0.38168236, 0.42144581, 0.39000856, 0.40350946],\n",
              "       [0.42144581, 0.39000856, 0.40350946, 0.40895648],\n",
              "       [0.39000856, 0.40350946, 0.40895648, 0.41280834],\n",
              "       [0.40350946, 0.40895648, 0.41280834, 0.36362929],\n",
              "       [0.40895648, 0.41280834, 0.36362929, 0.33083031],\n",
              "       [0.41280834, 0.36362929, 0.33083031, 0.28682591],\n",
              "       [0.36362929, 0.33083031, 0.28682591, 0.28476382],\n",
              "       [0.33083031, 0.28682591, 0.28476382, 0.30662986],\n",
              "       [0.28682591, 0.28476382, 0.30662986, 0.27363627],\n",
              "       [0.28476382, 0.30662986, 0.27363627, 0.28480276],\n",
              "       [0.30662986, 0.27363627, 0.28480276, 0.25877365],\n",
              "       [0.27363627, 0.28480276, 0.25877365, 0.25410476],\n",
              "       [0.28480276, 0.25877365, 0.25410476, 0.26538791],\n",
              "       [0.25877365, 0.25410476, 0.26538791, 0.30978136],\n",
              "       [0.25410476, 0.26538791, 0.30978136, 0.30717456],\n",
              "       [0.26538791, 0.30978136, 0.30717456, 0.27289702],\n",
              "       [0.30978136, 0.30717456, 0.27289702, 0.2855809 ],\n",
              "       [0.30717456, 0.27289702, 0.2855809 , 0.27511478],\n",
              "       [0.27289702, 0.2855809 , 0.27511478, 0.27036806],\n",
              "       [0.2855809 , 0.27511478, 0.27036806, 0.30211657],\n",
              "       [0.27511478, 0.27036806, 0.30211657, 0.30826396],\n",
              "       [0.27036806, 0.30211657, 0.30826396, 0.31767957],\n",
              "       [0.30211657, 0.30826396, 0.31767957, 0.3125827 ],\n",
              "       [0.30826396, 0.31767957, 0.3125827 , 0.28145671],\n",
              "       [0.31767957, 0.3125827 , 0.28145671, 0.2829741 ],\n",
              "       [0.3125827 , 0.28145671, 0.2829741 , 0.28383007],\n",
              "       [0.28145671, 0.2829741 , 0.28383007, 0.26266439],\n",
              "       [0.2829741 , 0.28383007, 0.26266439, 0.28853784],\n",
              "       [0.28383007, 0.26266439, 0.28853784, 0.29838143],\n",
              "       [0.26266439, 0.28853784, 0.29838143, 0.33164734],\n",
              "       [0.28853784, 0.29838143, 0.33164734, 0.36008869],\n",
              "       [0.29838143, 0.33164734, 0.36008869, 0.36039996],\n",
              "       [0.33164734, 0.36008869, 0.36039996, 0.30631859],\n",
              "       [0.36008869, 0.36039996, 0.30631859, 0.29612479],\n",
              "       [0.36039996, 0.30631859, 0.29612479, 0.26694418],\n",
              "       [0.30631859, 0.29612479, 0.26694418, 0.30752471],\n",
              "       [0.29612479, 0.26694418, 0.30752471, 0.27305268],\n",
              "       [0.26694418, 0.30752471, 0.27305268, 0.26674969],\n",
              "       [0.30752471, 0.27305268, 0.26674969, 0.26997896],\n",
              "       [0.27305268, 0.26674969, 0.26997896, 0.27099059],\n",
              "       [0.26674969, 0.26997896, 0.27099059, 0.30448993],\n",
              "       [0.26997896, 0.27099059, 0.30448993, 0.31137657],\n",
              "       [0.27099059, 0.30448993, 0.31137657, 0.29791456],\n",
              "       [0.30448993, 0.31137657, 0.29791456, 0.31013151],\n",
              "       [0.31137657, 0.29791456, 0.31013151, 0.30343942],\n",
              "       [0.29791456, 0.31013151, 0.30343942, 0.34160764],\n",
              "       [0.31013151, 0.30343942, 0.34160764, 0.33830054],\n",
              "       [0.30343942, 0.34160764, 0.33830054, 0.35001167],\n",
              "       [0.34160764, 0.33830054, 0.35001167, 0.35152906],\n",
              "       [0.33830054, 0.35001167, 0.35152906, 0.34600421],\n",
              "       [0.35001167, 0.35152906, 0.34600421, 0.32802897],\n",
              "       [0.35152906, 0.34600421, 0.32802897, 0.32728972],\n",
              "       [0.34600421, 0.32802897, 0.32728972, 0.30122172],\n",
              "       [0.32802897, 0.32728972, 0.30122172, 0.28211813],\n",
              "       [0.32728972, 0.30122172, 0.28211813, 0.27457008],\n",
              "       [0.30122172, 0.28211813, 0.27457008, 0.28293516],\n",
              "       [0.28211813, 0.27457008, 0.28293516, 0.3044121 ],\n",
              "       [0.27457008, 0.28293516, 0.3044121 , 0.27717687],\n",
              "       [0.28293516, 0.3044121 , 0.27717687, 0.26702201],\n",
              "       [0.3044121 , 0.27717687, 0.26702201, 0.25920163],\n",
              "       [0.27717687, 0.26702201, 0.25920163, 0.28165121],\n",
              "       [0.26702201, 0.25920163, 0.28165121, 0.29110575],\n",
              "       [0.25920163, 0.28165121, 0.29110575, 0.27149641],\n",
              "       [0.28165121, 0.29110575, 0.27149641, 0.26457082],\n",
              "       [0.29110575, 0.27149641, 0.26457082, 0.27176873],\n",
              "       [0.27149641, 0.26457082, 0.27176873, 0.27826627],\n",
              "       [0.26457082, 0.27176873, 0.27826627, 0.30585166],\n",
              "       [0.27176873, 0.27826627, 0.30585166, 0.30511247],\n",
              "       [0.27826627, 0.30585166, 0.30511247, 0.24352192],\n",
              "       [0.30585166, 0.30511247, 0.24352192, 0.23706327],\n",
              "       [0.30511247, 0.24352192, 0.23706327, 0.22959304],\n",
              "       [0.24352192, 0.23706327, 0.22959304, 0.21690916],\n",
              "       [0.23706327, 0.22959304, 0.21690916, 0.2236402 ],\n",
              "       [0.22959304, 0.21690916, 0.2236402 , 0.21613102],\n",
              "       [0.21690916, 0.2236402 , 0.21613102, 0.20068475],\n",
              "       [0.2236402 , 0.21613102, 0.20068475, 0.20340832],\n",
              "       [0.21613102, 0.20068475, 0.20340832, 0.19403161],\n",
              "       [0.20068475, 0.20340832, 0.19403161, 0.17831295],\n",
              "       [0.20340832, 0.19403161, 0.17831295, 0.17064817],\n",
              "       [0.19403161, 0.17831295, 0.17064817, 0.19870049],\n",
              "       [0.17831295, 0.17064817, 0.19870049, 0.17846862],\n",
              "       [0.17064817, 0.19870049, 0.17846862, 0.17562833],\n",
              "       [0.19870049, 0.17846862, 0.17562833, 0.18702825],\n",
              "       [0.17846862, 0.17562833, 0.18702825, 0.19352579],\n",
              "       [0.17562833, 0.18702825, 0.19352579, 0.18846781],\n",
              "       [0.18702825, 0.19352579, 0.18846781, 0.18881802],\n",
              "       [0.19352579, 0.18846781, 0.18881802, 0.16695197],\n",
              "       [0.18846781, 0.18881802, 0.16695197, 0.16827481],\n",
              "       [0.18881802, 0.16695197, 0.16827481, 0.14784839],\n",
              "       [0.16695197, 0.16827481, 0.14784839, 0.14380204],\n",
              "       [0.16827481, 0.14784839, 0.14380204, 0.1546572 ],\n",
              "       [0.14784839, 0.14380204, 0.1546572 , 0.14092289],\n",
              "       [0.14380204, 0.1546572 , 0.14092289, 0.1692475 ],\n",
              "       [0.1546572 , 0.14092289, 0.1692475 , 0.16442301],\n",
              "       [0.14092289, 0.1692475 , 0.16442301, 0.16609601],\n",
              "       [0.1692475 , 0.16442301, 0.16609601, 0.15948175],\n",
              "       [0.16442301, 0.16609601, 0.15948175, 0.15356779],\n",
              "       [0.16609601, 0.15948175, 0.15356779, 0.1524395 ],\n",
              "       [0.15948175, 0.15356779, 0.1524395 , 0.1827484 ],\n",
              "       [0.15356779, 0.1524395 , 0.1827484 , 0.1528286 ],\n",
              "       [0.1524395 , 0.1827484 , 0.1528286 , 0.02879154],\n",
              "       [0.1827484 , 0.1528286 , 0.02879154, 0.03369386],\n",
              "       [0.1528286 , 0.02879154, 0.03369386, 0.01019377],\n",
              "       [0.02879154, 0.03369386, 0.01019377, 0.01813087],\n",
              "       [0.03369386, 0.01019377, 0.01813087, 0.        ]])"
            ]
          },
          "metadata": {},
          "execution_count": 15
        }
      ]
    },
    {
      "cell_type": "code",
      "source": [
        "X = dat[:,:3]\n",
        "y = dat[:,-1:]"
      ],
      "metadata": {
        "id": "VaW-_4kgf90-"
      },
      "execution_count": 16,
      "outputs": []
    },
    {
      "cell_type": "code",
      "source": [
        "y.shape"
      ],
      "metadata": {
        "colab": {
          "base_uri": "https://localhost:8080/"
        },
        "id": "rT0KC75ajJ_T",
        "outputId": "4ac5e39d-a4b2-49d1-a49a-0253641f657d"
      },
      "execution_count": 17,
      "outputs": [
        {
          "output_type": "execute_result",
          "data": {
            "text/plain": [
              "(250, 1)"
            ]
          },
          "metadata": {},
          "execution_count": 17
        }
      ]
    },
    {
      "cell_type": "markdown",
      "source": [
        "**Train test split**"
      ],
      "metadata": {
        "id": "cxnfHR04ga0x"
      }
    },
    {
      "cell_type": "code",
      "source": [
        "from sklearn.model_selection import train_test_split"
      ],
      "metadata": {
        "id": "uAcLWGUsgI5C"
      },
      "execution_count": 18,
      "outputs": []
    },
    {
      "cell_type": "code",
      "source": [
        "X_train, x_test, y_train, y_test = train_test_split(X,y,test_size=0.2, random_state=10)"
      ],
      "metadata": {
        "id": "_A6P677xhAhB"
      },
      "execution_count": 19,
      "outputs": []
    },
    {
      "cell_type": "markdown",
      "source": [
        "**Modelling**"
      ],
      "metadata": {
        "id": "5cZHccwahVc7"
      }
    },
    {
      "cell_type": "code",
      "source": [
        "from keras.models import Sequential\n",
        "from keras.layers import Dense"
      ],
      "metadata": {
        "id": "7jeIG4AJhP6P"
      },
      "execution_count": 20,
      "outputs": []
    },
    {
      "cell_type": "code",
      "source": [
        "model = Sequential()\n",
        "model.add(Dense(15, input_dim=3,activation='relu'))\n",
        "model.add(Dense(40, activation='relu'))\n",
        "model.add(Dense(1, input_dim=3,activation='sigmoid')) # menggunakan sigmoid karena tidak menghitung probabilitas"
      ],
      "metadata": {
        "id": "i3jv2Pw2hud0"
      },
      "execution_count": 21,
      "outputs": []
    },
    {
      "cell_type": "code",
      "source": [
        "model.summary()"
      ],
      "metadata": {
        "colab": {
          "base_uri": "https://localhost:8080/"
        },
        "id": "bwUO7j8kh3c4",
        "outputId": "0c6d2575-d1d4-41f4-e443-79a7bccd4c02"
      },
      "execution_count": 22,
      "outputs": [
        {
          "output_type": "stream",
          "name": "stdout",
          "text": [
            "Model: \"sequential\"\n",
            "_________________________________________________________________\n",
            " Layer (type)                Output Shape              Param #   \n",
            "=================================================================\n",
            " dense (Dense)               (None, 15)                60        \n",
            "                                                                 \n",
            " dense_1 (Dense)             (None, 40)                640       \n",
            "                                                                 \n",
            " dense_2 (Dense)             (None, 1)                 41        \n",
            "                                                                 \n",
            "=================================================================\n",
            "Total params: 741\n",
            "Trainable params: 741\n",
            "Non-trainable params: 0\n",
            "_________________________________________________________________\n"
          ]
        }
      ]
    },
    {
      "cell_type": "code",
      "source": [
        "model.compile(loss='mean_squared_error', optimizer='adam', metrics=['mean_squared_error','mean_absolute_percentage_error'])"
      ],
      "metadata": {
        "id": "URlF4LdSh7TT"
      },
      "execution_count": 23,
      "outputs": []
    },
    {
      "cell_type": "code",
      "source": [
        "history = model.fit(X_train, y_train, validation_split=0.2, epochs=50, batch_size=10, verbose=1)"
      ],
      "metadata": {
        "colab": {
          "base_uri": "https://localhost:8080/"
        },
        "id": "x68niaScieEC",
        "outputId": "5d1b04c5-c562-4e3a-fde6-c8abdb129b05"
      },
      "execution_count": 24,
      "outputs": [
        {
          "output_type": "stream",
          "name": "stdout",
          "text": [
            "Epoch 1/50\n",
            "16/16 [==============================] - 2s 28ms/step - loss: 0.0750 - mean_squared_error: 0.0750 - mean_absolute_percentage_error: 3099199.5000 - val_loss: 0.0698 - val_mean_squared_error: 0.0698 - val_mean_absolute_percentage_error: 65.2755\n",
            "Epoch 2/50\n",
            "16/16 [==============================] - 0s 13ms/step - loss: 0.0701 - mean_squared_error: 0.0701 - mean_absolute_percentage_error: 3086797.2500 - val_loss: 0.0652 - val_mean_squared_error: 0.0652 - val_mean_absolute_percentage_error: 64.8833\n",
            "Epoch 3/50\n",
            "16/16 [==============================] - 0s 6ms/step - loss: 0.0650 - mean_squared_error: 0.0650 - mean_absolute_percentage_error: 3017255.2500 - val_loss: 0.0601 - val_mean_squared_error: 0.0601 - val_mean_absolute_percentage_error: 63.4747\n",
            "Epoch 4/50\n",
            "16/16 [==============================] - 0s 8ms/step - loss: 0.0594 - mean_squared_error: 0.0594 - mean_absolute_percentage_error: 2942918.0000 - val_loss: 0.0541 - val_mean_squared_error: 0.0541 - val_mean_absolute_percentage_error: 61.7360\n",
            "Epoch 5/50\n",
            "16/16 [==============================] - 0s 10ms/step - loss: 0.0532 - mean_squared_error: 0.0532 - mean_absolute_percentage_error: 2919066.5000 - val_loss: 0.0475 - val_mean_squared_error: 0.0475 - val_mean_absolute_percentage_error: 59.0480\n",
            "Epoch 6/50\n",
            "16/16 [==============================] - 0s 7ms/step - loss: 0.0460 - mean_squared_error: 0.0460 - mean_absolute_percentage_error: 2804580.5000 - val_loss: 0.0397 - val_mean_squared_error: 0.0397 - val_mean_absolute_percentage_error: 53.7650\n",
            "Epoch 7/50\n",
            "16/16 [==============================] - 0s 5ms/step - loss: 0.0387 - mean_squared_error: 0.0387 - mean_absolute_percentage_error: 2686958.2500 - val_loss: 0.0326 - val_mean_squared_error: 0.0326 - val_mean_absolute_percentage_error: 49.0912\n",
            "Epoch 8/50\n",
            "16/16 [==============================] - 0s 6ms/step - loss: 0.0313 - mean_squared_error: 0.0313 - mean_absolute_percentage_error: 2572640.5000 - val_loss: 0.0259 - val_mean_squared_error: 0.0259 - val_mean_absolute_percentage_error: 43.3911\n",
            "Epoch 9/50\n",
            "16/16 [==============================] - 0s 9ms/step - loss: 0.0247 - mean_squared_error: 0.0247 - mean_absolute_percentage_error: 2427873.7500 - val_loss: 0.0197 - val_mean_squared_error: 0.0197 - val_mean_absolute_percentage_error: 38.1676\n",
            "Epoch 10/50\n",
            "16/16 [==============================] - 0s 7ms/step - loss: 0.0186 - mean_squared_error: 0.0186 - mean_absolute_percentage_error: 2285694.0000 - val_loss: 0.0147 - val_mean_squared_error: 0.0147 - val_mean_absolute_percentage_error: 32.7268\n",
            "Epoch 11/50\n",
            "16/16 [==============================] - 0s 7ms/step - loss: 0.0136 - mean_squared_error: 0.0136 - mean_absolute_percentage_error: 2036687.2500 - val_loss: 0.0105 - val_mean_squared_error: 0.0105 - val_mean_absolute_percentage_error: 26.9121\n",
            "Epoch 12/50\n",
            "16/16 [==============================] - 0s 5ms/step - loss: 0.0096 - mean_squared_error: 0.0096 - mean_absolute_percentage_error: 1955359.0000 - val_loss: 0.0073 - val_mean_squared_error: 0.0073 - val_mean_absolute_percentage_error: 21.6050\n",
            "Epoch 13/50\n",
            "16/16 [==============================] - 0s 15ms/step - loss: 0.0069 - mean_squared_error: 0.0069 - mean_absolute_percentage_error: 1793120.2500 - val_loss: 0.0054 - val_mean_squared_error: 0.0054 - val_mean_absolute_percentage_error: 17.5207\n",
            "Epoch 14/50\n",
            "16/16 [==============================] - 0s 5ms/step - loss: 0.0050 - mean_squared_error: 0.0050 - mean_absolute_percentage_error: 1605135.2500 - val_loss: 0.0045 - val_mean_squared_error: 0.0045 - val_mean_absolute_percentage_error: 15.4092\n",
            "Epoch 15/50\n",
            "16/16 [==============================] - 0s 6ms/step - loss: 0.0040 - mean_squared_error: 0.0040 - mean_absolute_percentage_error: 1584229.5000 - val_loss: 0.0037 - val_mean_squared_error: 0.0037 - val_mean_absolute_percentage_error: 12.8407\n",
            "Epoch 16/50\n",
            "16/16 [==============================] - 0s 6ms/step - loss: 0.0032 - mean_squared_error: 0.0032 - mean_absolute_percentage_error: 1472834.7500 - val_loss: 0.0036 - val_mean_squared_error: 0.0036 - val_mean_absolute_percentage_error: 12.0273\n",
            "Epoch 17/50\n",
            "16/16 [==============================] - 0s 19ms/step - loss: 0.0028 - mean_squared_error: 0.0028 - mean_absolute_percentage_error: 1406425.1250 - val_loss: 0.0033 - val_mean_squared_error: 0.0033 - val_mean_absolute_percentage_error: 11.0262\n",
            "Epoch 18/50\n",
            "16/16 [==============================] - 0s 6ms/step - loss: 0.0025 - mean_squared_error: 0.0025 - mean_absolute_percentage_error: 1318924.6250 - val_loss: 0.0033 - val_mean_squared_error: 0.0033 - val_mean_absolute_percentage_error: 10.2956\n",
            "Epoch 19/50\n",
            "16/16 [==============================] - 0s 9ms/step - loss: 0.0023 - mean_squared_error: 0.0023 - mean_absolute_percentage_error: 1293332.7500 - val_loss: 0.0032 - val_mean_squared_error: 0.0032 - val_mean_absolute_percentage_error: 9.7326\n",
            "Epoch 20/50\n",
            "16/16 [==============================] - 0s 7ms/step - loss: 0.0022 - mean_squared_error: 0.0022 - mean_absolute_percentage_error: 1250260.2500 - val_loss: 0.0032 - val_mean_squared_error: 0.0032 - val_mean_absolute_percentage_error: 9.5138\n",
            "Epoch 21/50\n",
            "16/16 [==============================] - 0s 9ms/step - loss: 0.0021 - mean_squared_error: 0.0021 - mean_absolute_percentage_error: 1212719.2500 - val_loss: 0.0032 - val_mean_squared_error: 0.0032 - val_mean_absolute_percentage_error: 9.2351\n",
            "Epoch 22/50\n",
            "16/16 [==============================] - 0s 6ms/step - loss: 0.0021 - mean_squared_error: 0.0021 - mean_absolute_percentage_error: 1203054.2500 - val_loss: 0.0032 - val_mean_squared_error: 0.0032 - val_mean_absolute_percentage_error: 9.0422\n",
            "Epoch 23/50\n",
            "16/16 [==============================] - 0s 9ms/step - loss: 0.0020 - mean_squared_error: 0.0020 - mean_absolute_percentage_error: 1164380.8750 - val_loss: 0.0033 - val_mean_squared_error: 0.0033 - val_mean_absolute_percentage_error: 8.9668\n",
            "Epoch 24/50\n",
            "16/16 [==============================] - 0s 6ms/step - loss: 0.0020 - mean_squared_error: 0.0020 - mean_absolute_percentage_error: 1141859.2500 - val_loss: 0.0033 - val_mean_squared_error: 0.0033 - val_mean_absolute_percentage_error: 8.9773\n",
            "Epoch 25/50\n",
            "16/16 [==============================] - 0s 6ms/step - loss: 0.0019 - mean_squared_error: 0.0019 - mean_absolute_percentage_error: 1123520.7500 - val_loss: 0.0033 - val_mean_squared_error: 0.0033 - val_mean_absolute_percentage_error: 8.8777\n",
            "Epoch 26/50\n",
            "16/16 [==============================] - 0s 10ms/step - loss: 0.0019 - mean_squared_error: 0.0019 - mean_absolute_percentage_error: 1117168.1250 - val_loss: 0.0033 - val_mean_squared_error: 0.0033 - val_mean_absolute_percentage_error: 8.9167\n",
            "Epoch 27/50\n",
            "16/16 [==============================] - 0s 11ms/step - loss: 0.0019 - mean_squared_error: 0.0019 - mean_absolute_percentage_error: 1103571.7500 - val_loss: 0.0032 - val_mean_squared_error: 0.0032 - val_mean_absolute_percentage_error: 8.9414\n",
            "Epoch 28/50\n",
            "16/16 [==============================] - 0s 5ms/step - loss: 0.0019 - mean_squared_error: 0.0019 - mean_absolute_percentage_error: 1074418.8750 - val_loss: 0.0033 - val_mean_squared_error: 0.0033 - val_mean_absolute_percentage_error: 8.9453\n",
            "Epoch 29/50\n",
            "16/16 [==============================] - 0s 5ms/step - loss: 0.0018 - mean_squared_error: 0.0018 - mean_absolute_percentage_error: 1067671.3750 - val_loss: 0.0032 - val_mean_squared_error: 0.0032 - val_mean_absolute_percentage_error: 8.9736\n",
            "Epoch 30/50\n",
            "16/16 [==============================] - 0s 5ms/step - loss: 0.0018 - mean_squared_error: 0.0018 - mean_absolute_percentage_error: 1052966.3750 - val_loss: 0.0033 - val_mean_squared_error: 0.0033 - val_mean_absolute_percentage_error: 8.9123\n",
            "Epoch 31/50\n",
            "16/16 [==============================] - 0s 11ms/step - loss: 0.0018 - mean_squared_error: 0.0018 - mean_absolute_percentage_error: 1036935.1250 - val_loss: 0.0033 - val_mean_squared_error: 0.0033 - val_mean_absolute_percentage_error: 8.9050\n",
            "Epoch 32/50\n",
            "16/16 [==============================] - 0s 9ms/step - loss: 0.0018 - mean_squared_error: 0.0018 - mean_absolute_percentage_error: 1032829.1875 - val_loss: 0.0032 - val_mean_squared_error: 0.0032 - val_mean_absolute_percentage_error: 8.8603\n",
            "Epoch 33/50\n",
            "16/16 [==============================] - 0s 11ms/step - loss: 0.0018 - mean_squared_error: 0.0018 - mean_absolute_percentage_error: 1010660.0000 - val_loss: 0.0033 - val_mean_squared_error: 0.0033 - val_mean_absolute_percentage_error: 8.8575\n",
            "Epoch 34/50\n",
            "16/16 [==============================] - 0s 7ms/step - loss: 0.0018 - mean_squared_error: 0.0018 - mean_absolute_percentage_error: 1006570.3750 - val_loss: 0.0032 - val_mean_squared_error: 0.0032 - val_mean_absolute_percentage_error: 8.8450\n",
            "Epoch 35/50\n",
            "16/16 [==============================] - 0s 10ms/step - loss: 0.0017 - mean_squared_error: 0.0017 - mean_absolute_percentage_error: 995346.8750 - val_loss: 0.0033 - val_mean_squared_error: 0.0033 - val_mean_absolute_percentage_error: 8.7450\n",
            "Epoch 36/50\n",
            "16/16 [==============================] - 0s 10ms/step - loss: 0.0017 - mean_squared_error: 0.0017 - mean_absolute_percentage_error: 983963.6250 - val_loss: 0.0032 - val_mean_squared_error: 0.0032 - val_mean_absolute_percentage_error: 8.7737\n",
            "Epoch 37/50\n",
            "16/16 [==============================] - 0s 5ms/step - loss: 0.0017 - mean_squared_error: 0.0017 - mean_absolute_percentage_error: 966603.0000 - val_loss: 0.0031 - val_mean_squared_error: 0.0031 - val_mean_absolute_percentage_error: 8.8076\n",
            "Epoch 38/50\n",
            "16/16 [==============================] - 0s 11ms/step - loss: 0.0017 - mean_squared_error: 0.0017 - mean_absolute_percentage_error: 966296.0000 - val_loss: 0.0031 - val_mean_squared_error: 0.0031 - val_mean_absolute_percentage_error: 8.8079\n",
            "Epoch 39/50\n",
            "16/16 [==============================] - 0s 7ms/step - loss: 0.0017 - mean_squared_error: 0.0017 - mean_absolute_percentage_error: 949117.1250 - val_loss: 0.0031 - val_mean_squared_error: 0.0031 - val_mean_absolute_percentage_error: 8.7524\n",
            "Epoch 40/50\n",
            "16/16 [==============================] - 0s 6ms/step - loss: 0.0017 - mean_squared_error: 0.0017 - mean_absolute_percentage_error: 940341.3125 - val_loss: 0.0033 - val_mean_squared_error: 0.0033 - val_mean_absolute_percentage_error: 8.7684\n",
            "Epoch 41/50\n",
            "16/16 [==============================] - 0s 9ms/step - loss: 0.0017 - mean_squared_error: 0.0017 - mean_absolute_percentage_error: 930486.6875 - val_loss: 0.0031 - val_mean_squared_error: 0.0031 - val_mean_absolute_percentage_error: 8.7644\n",
            "Epoch 42/50\n",
            "16/16 [==============================] - 0s 8ms/step - loss: 0.0016 - mean_squared_error: 0.0016 - mean_absolute_percentage_error: 920969.3750 - val_loss: 0.0031 - val_mean_squared_error: 0.0031 - val_mean_absolute_percentage_error: 8.7593\n",
            "Epoch 43/50\n",
            "16/16 [==============================] - 0s 7ms/step - loss: 0.0017 - mean_squared_error: 0.0017 - mean_absolute_percentage_error: 916772.1875 - val_loss: 0.0032 - val_mean_squared_error: 0.0032 - val_mean_absolute_percentage_error: 8.7629\n",
            "Epoch 44/50\n",
            "16/16 [==============================] - 0s 9ms/step - loss: 0.0016 - mean_squared_error: 0.0016 - mean_absolute_percentage_error: 902323.6875 - val_loss: 0.0032 - val_mean_squared_error: 0.0032 - val_mean_absolute_percentage_error: 8.7640\n",
            "Epoch 45/50\n",
            "16/16 [==============================] - 0s 12ms/step - loss: 0.0016 - mean_squared_error: 0.0016 - mean_absolute_percentage_error: 903228.6250 - val_loss: 0.0032 - val_mean_squared_error: 0.0032 - val_mean_absolute_percentage_error: 8.7077\n",
            "Epoch 46/50\n",
            "16/16 [==============================] - 0s 10ms/step - loss: 0.0016 - mean_squared_error: 0.0016 - mean_absolute_percentage_error: 897045.8125 - val_loss: 0.0031 - val_mean_squared_error: 0.0031 - val_mean_absolute_percentage_error: 8.7495\n",
            "Epoch 47/50\n",
            "16/16 [==============================] - 0s 9ms/step - loss: 0.0016 - mean_squared_error: 0.0016 - mean_absolute_percentage_error: 888687.6875 - val_loss: 0.0031 - val_mean_squared_error: 0.0031 - val_mean_absolute_percentage_error: 8.7350\n",
            "Epoch 48/50\n",
            "16/16 [==============================] - 0s 8ms/step - loss: 0.0016 - mean_squared_error: 0.0016 - mean_absolute_percentage_error: 868497.6250 - val_loss: 0.0033 - val_mean_squared_error: 0.0033 - val_mean_absolute_percentage_error: 8.7607\n",
            "Epoch 49/50\n",
            "16/16 [==============================] - 0s 13ms/step - loss: 0.0016 - mean_squared_error: 0.0016 - mean_absolute_percentage_error: 862322.3750 - val_loss: 0.0031 - val_mean_squared_error: 0.0031 - val_mean_absolute_percentage_error: 8.7408\n",
            "Epoch 50/50\n",
            "16/16 [==============================] - 0s 11ms/step - loss: 0.0016 - mean_squared_error: 0.0016 - mean_absolute_percentage_error: 855478.3125 - val_loss: 0.0031 - val_mean_squared_error: 0.0031 - val_mean_absolute_percentage_error: 8.7420\n"
          ]
        }
      ]
    },
    {
      "cell_type": "code",
      "source": [
        "plt.plot(history.history['loss'], label='train MSE')\n",
        "plt.plot(history.history['val_loss'], label='val MSE')\n",
        "plt.title('Model MSE')\n",
        "plt.xlabel('epoch')\n",
        "plt.ylabel('MSE')\n",
        "plt.legend()\n",
        "plt.show()"
      ],
      "metadata": {
        "colab": {
          "base_uri": "https://localhost:8080/",
          "height": 295
        },
        "id": "qwbIq9zxip0i",
        "outputId": "8b592d9c-10d7-40a3-c778-e68336092d5b"
      },
      "execution_count": 25,
      "outputs": [
        {
          "output_type": "display_data",
          "data": {
            "text/plain": [
              "<Figure size 432x288 with 1 Axes>"
            ],
            "image/png": "[encoded data removed]"
          },
          "metadata": {
            "needs_background": "light"
          }
        }
      ]
    },
    {
      "cell_type": "code",
      "source": [
        "plt.plot(history.history['mean_absolute_percentage_error'], label='train MAPE')\n",
        "plt.plot(history.history['val_mean_absolute_percentage_error'], label='val MAPE')\n",
        "plt.title('Model MAPE')\n",
        "plt.xlabel('epoch')\n",
        "plt.ylabel('MAPE')\n",
        "plt.legend()\n",
        "plt.show()"
      ],
      "metadata": {
        "colab": {
          "base_uri": "https://localhost:8080/",
          "height": 295
        },
        "id": "Otkk_k756Ylb",
        "outputId": "24d4ccaa-c065-4b91-b59d-9c13c2290b1b"
      },
      "execution_count": 26,
      "outputs": [
        {
          "output_type": "display_data",
          "data": {
            "text/plain": [
              "<Figure size 432x288 with 1 Axes>"
            ],
            "image/png": "[encoded data removed]"
          },
          "metadata": {
            "needs_background": "light"
          }
        }
      ]
    },
    {
      "cell_type": "markdown",
      "source": [
        "**Predict Data Test**"
      ],
      "metadata": {
        "id": "MsAgk9OV7GW6"
      }
    },
    {
      "cell_type": "code",
      "source": [
        "pred = model.predict(x_test)\n",
        "pred.ravel()"
      ],
      "metadata": {
        "colab": {
          "base_uri": "https://localhost:8080/"
        },
        "id": "cIQ2lvG365jy",
        "outputId": "d1c625d1-a731-4aaf-a32e-44d269621a56"
      },
      "execution_count": 27,
      "outputs": [
        {
          "output_type": "stream",
          "name": "stdout",
          "text": [
            "2/2 [==============================] - 0s 14ms/step\n"
          ]
        },
        {
          "output_type": "execute_result",
          "data": {
            "text/plain": [
              "array([0.844228  , 0.4272623 , 0.8879452 , 0.25842315, 0.53950024,\n",
              "       0.3209408 , 0.33224848, 0.45391145, 0.21156959, 0.9102353 ,\n",
              "       0.25718105, 0.2437388 , 0.16100073, 0.26418203, 0.915746  ,\n",
              "       0.16667487, 0.5895862 , 0.39932534, 0.24282113, 0.3853156 ,\n",
              "       0.84369165, 0.15335388, 0.37829092, 0.38608435, 0.37126058,\n",
              "       0.86503625, 0.927938  , 0.9277394 , 0.17038849, 0.5686841 ,\n",
              "       0.38524958, 0.2467179 , 0.44847393, 0.149293  , 0.2587773 ,\n",
              "       0.9176536 , 0.2820027 , 0.91440475, 0.4329336 , 0.5686704 ,\n",
              "       0.87427056, 0.48094457, 0.86691296, 0.507672  , 0.24959467,\n",
              "       0.92552817, 0.32433727, 0.2849465 , 0.2690066 , 0.8972417 ],\n",
              "      dtype=float32)"
            ]
          },
          "metadata": {},
          "execution_count": 27
        }
      ]
    },
    {
      "cell_type": "code",
      "source": [
        "mm.inverse_transform(pred).ravel()"
      ],
      "metadata": {
        "colab": {
          "base_uri": "https://localhost:8080/"
        },
        "id": "zfsJcwJY7Trt",
        "outputId": "e92d73af-7cb5-4c2b-c157-6c32b6390b98"
      },
      "execution_count": 28,
      "outputs": [
        {
          "output_type": "execute_result",
          "data": {
            "text/plain": [
              "array([307.5235 , 200.35497, 318.75967, 156.95993, 229.20236, 173.02821,\n",
              "       175.93451, 207.20432, 144.91762, 324.48868, 156.64069, 153.18575,\n",
              "       131.92041, 158.44008, 325.90503, 133.37878, 242.07545, 193.17459,\n",
              "       152.94989, 189.57382, 307.38562, 129.95502, 187.76833, 189.7714 ,\n",
              "       185.9614 , 312.8716 , 329.03864, 328.98758, 134.33325, 236.70319,\n",
              "       189.55685, 153.95143, 205.80678, 128.9113 , 157.05093, 326.39532,\n",
              "       163.02034, 325.5603 , 201.81259, 236.69968, 315.24503, 214.15237,\n",
              "       313.35397, 221.02187, 154.69081, 328.41925, 173.90117, 163.77696,\n",
              "       159.68008, 321.14908], dtype=float32)"
            ]
          },
          "metadata": {},
          "execution_count": 28
        }
      ]
    },
    {
      "cell_type": "code",
      "source": [
        "mm.inverse_transform(y_test).ravel()"
      ],
      "metadata": {
        "colab": {
          "base_uri": "https://localhost:8080/"
        },
        "id": "SmZ3KRiN7gM8",
        "outputId": "a1a9311f-6db6-4187-88c5-b3e3dfe77a11"
      },
      "execution_count": 29,
      "outputs": [
        {
          "output_type": "execute_result",
          "data": {
            "text/plain": [
              "array([294.640015, 197.649994, 323.      , 169.350006, 222.330002,\n",
              "       205.729996, 179.470001, 216.490005, 146.289993, 318.149994,\n",
              "       160.029999, 159.929993, 131.529999, 168.960007, 333.73999 ,\n",
              "       141.610001, 224.910004, 196.639999, 160.389999, 186.630005,\n",
              "       313.26001 , 132.800003, 183.830002, 190.779999, 198.619995,\n",
              "       294.630005, 345.299988, 346.220001, 133.789993, 231.839996,\n",
              "       196.229996, 157.160004, 202.970001, 130.289993, 170.570007,\n",
              "       347.559998, 172.190002, 329.75    , 210.479996, 222.949997,\n",
              "       306.839996, 188.070007, 319.      , 208.279999, 169.149994,\n",
              "       338.619995, 183.169998, 167.110001, 163.940002, 237.759995])"
            ]
          },
          "metadata": {},
          "execution_count": 29
        }
      ]
    },
    {
      "cell_type": "markdown",
      "source": [
        "**Cek Akurasi**"
      ],
      "metadata": {
        "id": "dMwC6Dbo9KQX"
      }
    },
    {
      "cell_type": "code",
      "source": [
        "from sklearn.metrics import r2_score, mean_absolute_error, mean_squared_error, mean_absolute_percentage_error"
      ],
      "metadata": {
        "id": "jW5rullY8nNw"
      },
      "execution_count": 30,
      "outputs": []
    },
    {
      "cell_type": "code",
      "source": [
        "r2_score(pred,y_test)"
      ],
      "metadata": {
        "colab": {
          "base_uri": "https://localhost:8080/"
        },
        "id": "Xsbt1DsV9frt",
        "outputId": "b6e4620e-0e8e-4d82-e60d-744e108cd979"
      },
      "execution_count": 31,
      "outputs": [
        {
          "output_type": "execute_result",
          "data": {
            "text/plain": [
              "0.9474954143469541"
            ]
          },
          "metadata": {},
          "execution_count": 31
        }
      ]
    },
    {
      "cell_type": "code",
      "source": [
        "mean_absolute_error(pred,y_test)"
      ],
      "metadata": {
        "colab": {
          "base_uri": "https://localhost:8080/"
        },
        "id": "56UEkzQy9iml",
        "outputId": "3d709869-388d-46cb-ce61-6bb8a5434193"
      },
      "execution_count": 32,
      "outputs": [
        {
          "output_type": "execute_result",
          "data": {
            "text/plain": [
              "0.039394622574010094"
            ]
          },
          "metadata": {},
          "execution_count": 32
        }
      ]
    },
    {
      "cell_type": "code",
      "source": [
        "mean_squared_error(pred,y_test)"
      ],
      "metadata": {
        "colab": {
          "base_uri": "https://localhost:8080/"
        },
        "id": "26FI9JW99ll5",
        "outputId": "4d74c19c-f6fc-4a9f-e932-18f89ab33882"
      },
      "execution_count": 33,
      "outputs": [
        {
          "output_type": "execute_result",
          "data": {
            "text/plain": [
              "0.0038740309871535183"
            ]
          },
          "metadata": {},
          "execution_count": 33
        }
      ]
    },
    {
      "cell_type": "code",
      "source": [
        "mean_absolute_percentage_error(pred,y_test)"
      ],
      "metadata": {
        "colab": {
          "base_uri": "https://localhost:8080/"
        },
        "id": "OVOb2Et69owG",
        "outputId": "399dbb2d-b556-4ae2-d138-df4058861a65"
      },
      "execution_count": 34,
      "outputs": [
        {
          "output_type": "execute_result",
          "data": {
            "text/plain": [
              "0.08622750226983705"
            ]
          },
          "metadata": {},
          "execution_count": 34
        }
      ]
    },
    {
      "cell_type": "markdown",
      "source": [
        "**Plot Hasil**"
      ],
      "metadata": {
        "id": "IHbODMG89vCz"
      }
    },
    {
      "cell_type": "code",
      "source": [
        "plt.figure(figsize=(10,5))\n",
        "plt.plot(mm.inverse_transform(y_test).ravel(), label='True Value')\n",
        "plt.plot(mm.inverse_transform(pred).ravel(), label='Predicted Value')\n",
        "plt.title('True vs Predicted')\n",
        "plt.xlabel('Hari ke-')\n",
        "plt.ylabel('Harga Saham ($)')\n",
        "plt.legend()\n",
        "plt.show()"
      ],
      "metadata": {
        "colab": {
          "base_uri": "https://localhost:8080/",
          "height": 350
        },
        "id": "Agi-RcWX9qT6",
        "outputId": "75ee286a-3151-4a53-bb76-7c39cd62e8c4"
      },
      "execution_count": 35,
      "outputs": [
        {
          "output_type": "display_data",
          "data": {
            "text/plain": [
              "<Figure size 720x360 with 1 Axes>"
            ],
            "image/png": "[encoded data removed]"
          },
          "metadata": {
            "needs_background": "light"
          }
        }
      ]
    },
    {
      "cell_type": "code",
      "source": [],
      "metadata": {
        "id": "AZJfRwCN-XG0"
      },
      "execution_count": 35,
      "outputs": []
    }
  ]
}